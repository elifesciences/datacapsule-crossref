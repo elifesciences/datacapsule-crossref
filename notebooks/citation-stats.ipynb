{
 "cells": [
  {
   "cell_type": "markdown",
   "metadata": {},
   "source": [
    "# Crossref Citation Stats\n",
    "\n",
    "## Data Provenance\n",
    "\n",
    "The data was retrieved in August 2019 via the [Crossref API](http://api.crossref.org/works) (the download should include everything at least up to 05 Aug 2019, having started on the 06th taking over a week). ([The raw responses LZMA zipped](https://doi.org/10.6084/m9.figshare.7081037) take about 35 GB disk space - TODO update link)\n",
    "\n",
    "## Data Preprocessing\n",
    "\n",
    "The data was then preprocessed to get calculate some high level stats over the data which are then analysed in this notebook.\n",
    "\n",
    "The files are available here:\n",
    "* [crossref-works-summaries-stat.tsv.gz](https://storage.googleapis.com/elife-ml/citations/by-date/2019-08-06/crossref-works-summaries-stat.tsv.gz) - Overall summary stats\n",
    "* [crossref-works-summaries-by-type-and-publisher-stat.tsv.gz](https://storage.googleapis.com/elife-ml/citations/by-date/2019-08-06/crossref-works-summaries-by-type-and-publisher-stat.tsv.gz) - Summary stats grouped by _type_ and _publisher_ \n",
    "* [crossref-works-reference-stat.tsv.gz](https://storage.googleapis.com/elife-ml/citations/by-date/2019-08-06/crossref-works-reference-stat.tsv.gz) - Stats relating to open access (oa) references\n",
    "\n",
    "Related, but not used for the stats in this notebook:\n",
    "* [citation links](https://doi.org/10.6084/m9.figshare.7081091)\n",
    "\n",
    "## Notes\n",
    "\n",
    "The *reference\\_count* and *referenced\\_by\\_count* are counts provided by Crossref. *num\\_references* are the number of references that are actually accessible via the API (i.e. oa).\n",
    "\n",
    "## Scripts\n",
    "\n",
    "The scripts can be found in [this repository](https://github.com/elifesciences/datacapsule-crossref), see [README](https://github.com/elifesciences/datacapsule-crossref/blob/analysis/README.md). Using those scripts the data can be updated (but it will take some time to retrieve all of the Crossref data).\n",
    "\n",
    "Link to this notebook: https://elifesci.org/crossref-data-notebook"
   ]
  },
  {
   "cell_type": "code",
   "execution_count": 1,
   "metadata": {},
   "outputs": [],
   "source": [
    "%matplotlib inline"
   ]
  },
  {
   "cell_type": "code",
   "execution_count": 2,
   "metadata": {},
   "outputs": [],
   "source": [
    "import os\n",
    "import json\n",
    "import pandas as pd\n",
    "import matplotlib.pyplot as plt\n",
    "from matplotlib.ticker import FuncFormatter\n",
    "from IPython.display import Markdown, display"
   ]
  },
  {
   "cell_type": "code",
   "execution_count": 3,
   "metadata": {},
   "outputs": [],
   "source": [
    "plt.style.use('ggplot')\n",
    "\n",
    "def printmd(string):\n",
    "    display(Markdown(string))"
   ]
  },
  {
   "cell_type": "code",
   "execution_count": 4,
   "metadata": {},
   "outputs": [],
   "source": [
    "data_path = '../data'\n",
    "summary_stats_filename = 'crossref-works-summaries-stat.tsv.gz'\n",
    "summary_by_type_and_publisher_stats_filename = 'crossref-works-summaries-by-type-and-publisher-stat.tsv.gz'\n",
    "reference_stats_filename = 'crossref-works-reference-stat.tsv.gz'"
   ]
  },
  {
   "cell_type": "code",
   "execution_count": 5,
   "metadata": {},
   "outputs": [
    {
     "data": {
      "text/html": [
       "<div>\n",
       "<style scoped>\n",
       "    .dataframe tbody tr th:only-of-type {\n",
       "        vertical-align: middle;\n",
       "    }\n",
       "\n",
       "    .dataframe tbody tr th {\n",
       "        vertical-align: top;\n",
       "    }\n",
       "\n",
       "    .dataframe thead th {\n",
       "        text-align: right;\n",
       "    }\n",
       "</style>\n",
       "<table border=\"1\" class=\"dataframe\">\n",
       "  <thead>\n",
       "    <tr style=\"text-align: right;\">\n",
       "      <th></th>\n",
       "      <th>doi</th>\n",
       "      <th>title</th>\n",
       "      <th>reference_count</th>\n",
       "      <th>referenced_by_count</th>\n",
       "      <th>created</th>\n",
       "      <th>type</th>\n",
       "      <th>publisher</th>\n",
       "      <th>container_title</th>\n",
       "      <th>author_count</th>\n",
       "      <th>first_subject_area</th>\n",
       "      <th>subject_areas</th>\n",
       "      <th>has_references</th>\n",
       "      <th>num_references</th>\n",
       "      <th>num_citations_without_doi</th>\n",
       "      <th>num_duplicate_citation_dois</th>\n",
       "      <th>cited_dois</th>\n",
       "      <th>debug</th>\n",
       "    </tr>\n",
       "    <tr>\n",
       "      <th>stat</th>\n",
       "      <th></th>\n",
       "      <th></th>\n",
       "      <th></th>\n",
       "      <th></th>\n",
       "      <th></th>\n",
       "      <th></th>\n",
       "      <th></th>\n",
       "      <th></th>\n",
       "      <th></th>\n",
       "      <th></th>\n",
       "      <th></th>\n",
       "      <th></th>\n",
       "      <th></th>\n",
       "      <th></th>\n",
       "      <th></th>\n",
       "      <th></th>\n",
       "      <th></th>\n",
       "    </tr>\n",
       "  </thead>\n",
       "  <tbody>\n",
       "    <tr>\n",
       "      <th>count</th>\n",
       "      <td>109738648.0</td>\n",
       "      <td>109738648.0</td>\n",
       "      <td>1.097386e+08</td>\n",
       "      <td>1.097386e+08</td>\n",
       "      <td>109738648.0</td>\n",
       "      <td>109738648.0</td>\n",
       "      <td>109738648.0</td>\n",
       "      <td>109738648.0</td>\n",
       "      <td>109738648.0</td>\n",
       "      <td>109738648.0</td>\n",
       "      <td>109738648.0</td>\n",
       "      <td>1.097386e+08</td>\n",
       "      <td>1.097386e+08</td>\n",
       "      <td>1.097386e+08</td>\n",
       "      <td>1.097386e+08</td>\n",
       "      <td>109738648.0</td>\n",
       "      <td>109738648.0</td>\n",
       "    </tr>\n",
       "    <tr>\n",
       "      <th>count_non_zero</th>\n",
       "      <td>NaN</td>\n",
       "      <td>NaN</td>\n",
       "      <td>4.899232e+07</td>\n",
       "      <td>4.892371e+07</td>\n",
       "      <td>NaN</td>\n",
       "      <td>NaN</td>\n",
       "      <td>NaN</td>\n",
       "      <td>NaN</td>\n",
       "      <td>NaN</td>\n",
       "      <td>NaN</td>\n",
       "      <td>NaN</td>\n",
       "      <td>2.794741e+07</td>\n",
       "      <td>2.794741e+07</td>\n",
       "      <td>2.497571e+07</td>\n",
       "      <td>1.190243e+06</td>\n",
       "      <td>NaN</td>\n",
       "      <td>NaN</td>\n",
       "    </tr>\n",
       "    <tr>\n",
       "      <th>count_numeric</th>\n",
       "      <td>NaN</td>\n",
       "      <td>NaN</td>\n",
       "      <td>1.097386e+08</td>\n",
       "      <td>1.097386e+08</td>\n",
       "      <td>NaN</td>\n",
       "      <td>NaN</td>\n",
       "      <td>NaN</td>\n",
       "      <td>NaN</td>\n",
       "      <td>NaN</td>\n",
       "      <td>NaN</td>\n",
       "      <td>NaN</td>\n",
       "      <td>1.097386e+08</td>\n",
       "      <td>1.097386e+08</td>\n",
       "      <td>1.097386e+08</td>\n",
       "      <td>1.097386e+08</td>\n",
       "      <td>NaN</td>\n",
       "      <td>NaN</td>\n",
       "    </tr>\n",
       "    <tr>\n",
       "      <th>count_valid</th>\n",
       "      <td>109738648.0</td>\n",
       "      <td>105033354.0</td>\n",
       "      <td>1.097386e+08</td>\n",
       "      <td>1.097386e+08</td>\n",
       "      <td>109738648.0</td>\n",
       "      <td>109715020.0</td>\n",
       "      <td>109736842.0</td>\n",
       "      <td>103339230.0</td>\n",
       "      <td>90402300.0</td>\n",
       "      <td>34224140.0</td>\n",
       "      <td>34224140.0</td>\n",
       "      <td>1.097386e+08</td>\n",
       "      <td>1.097386e+08</td>\n",
       "      <td>1.097386e+08</td>\n",
       "      <td>1.097386e+08</td>\n",
       "      <td>109738648.0</td>\n",
       "      <td>109738648.0</td>\n",
       "    </tr>\n",
       "    <tr>\n",
       "      <th>count_zero</th>\n",
       "      <td>NaN</td>\n",
       "      <td>NaN</td>\n",
       "      <td>6.074632e+07</td>\n",
       "      <td>6.081493e+07</td>\n",
       "      <td>NaN</td>\n",
       "      <td>NaN</td>\n",
       "      <td>NaN</td>\n",
       "      <td>NaN</td>\n",
       "      <td>NaN</td>\n",
       "      <td>NaN</td>\n",
       "      <td>NaN</td>\n",
       "      <td>8.179123e+07</td>\n",
       "      <td>8.179123e+07</td>\n",
       "      <td>8.476294e+07</td>\n",
       "      <td>1.085484e+08</td>\n",
       "      <td>NaN</td>\n",
       "      <td>NaN</td>\n",
       "    </tr>\n",
       "    <tr>\n",
       "      <th>max</th>\n",
       "      <td>NaN</td>\n",
       "      <td>NaN</td>\n",
       "      <td>2.581400e+04</td>\n",
       "      <td>1.465760e+05</td>\n",
       "      <td>NaN</td>\n",
       "      <td>NaN</td>\n",
       "      <td>NaN</td>\n",
       "      <td>NaN</td>\n",
       "      <td>NaN</td>\n",
       "      <td>NaN</td>\n",
       "      <td>NaN</td>\n",
       "      <td>1.000000e+00</td>\n",
       "      <td>2.579800e+04</td>\n",
       "      <td>1.158400e+04</td>\n",
       "      <td>3.908000e+03</td>\n",
       "      <td>NaN</td>\n",
       "      <td>NaN</td>\n",
       "    </tr>\n",
       "    <tr>\n",
       "      <th>mean</th>\n",
       "      <td>NaN</td>\n",
       "      <td>NaN</td>\n",
       "      <td>1.318010e+01</td>\n",
       "      <td>9.056722e+00</td>\n",
       "      <td>NaN</td>\n",
       "      <td>NaN</td>\n",
       "      <td>NaN</td>\n",
       "      <td>NaN</td>\n",
       "      <td>NaN</td>\n",
       "      <td>NaN</td>\n",
       "      <td>NaN</td>\n",
       "      <td>2.546725e-01</td>\n",
       "      <td>7.755687e+00</td>\n",
       "      <td>2.582804e+00</td>\n",
       "      <td>2.745796e-02</td>\n",
       "      <td>NaN</td>\n",
       "      <td>NaN</td>\n",
       "    </tr>\n",
       "    <tr>\n",
       "      <th>mean_non_zero</th>\n",
       "      <td>NaN</td>\n",
       "      <td>NaN</td>\n",
       "      <td>2.952230e+01</td>\n",
       "      <td>2.031474e+01</td>\n",
       "      <td>NaN</td>\n",
       "      <td>NaN</td>\n",
       "      <td>NaN</td>\n",
       "      <td>NaN</td>\n",
       "      <td>NaN</td>\n",
       "      <td>NaN</td>\n",
       "      <td>NaN</td>\n",
       "      <td>1.000000e+00</td>\n",
       "      <td>3.045357e+01</td>\n",
       "      <td>1.134836e+01</td>\n",
       "      <td>2.531583e+00</td>\n",
       "      <td>NaN</td>\n",
       "      <td>NaN</td>\n",
       "    </tr>\n",
       "    <tr>\n",
       "      <th>min</th>\n",
       "      <td>NaN</td>\n",
       "      <td>NaN</td>\n",
       "      <td>0.000000e+00</td>\n",
       "      <td>0.000000e+00</td>\n",
       "      <td>NaN</td>\n",
       "      <td>NaN</td>\n",
       "      <td>NaN</td>\n",
       "      <td>NaN</td>\n",
       "      <td>NaN</td>\n",
       "      <td>NaN</td>\n",
       "      <td>NaN</td>\n",
       "      <td>0.000000e+00</td>\n",
       "      <td>0.000000e+00</td>\n",
       "      <td>0.000000e+00</td>\n",
       "      <td>0.000000e+00</td>\n",
       "      <td>NaN</td>\n",
       "      <td>NaN</td>\n",
       "    </tr>\n",
       "    <tr>\n",
       "      <th>sum</th>\n",
       "      <td>NaN</td>\n",
       "      <td>NaN</td>\n",
       "      <td>1.446366e+09</td>\n",
       "      <td>9.938724e+08</td>\n",
       "      <td>NaN</td>\n",
       "      <td>NaN</td>\n",
       "      <td>NaN</td>\n",
       "      <td>NaN</td>\n",
       "      <td>NaN</td>\n",
       "      <td>NaN</td>\n",
       "      <td>NaN</td>\n",
       "      <td>2.794741e+07</td>\n",
       "      <td>8.510986e+08</td>\n",
       "      <td>2.834334e+08</td>\n",
       "      <td>3.013199e+06</td>\n",
       "      <td>NaN</td>\n",
       "      <td>NaN</td>\n",
       "    </tr>\n",
       "  </tbody>\n",
       "</table>\n",
       "</div>"
      ],
      "text/plain": [
       "                        doi        title  reference_count  \\\n",
       "stat                                                        \n",
       "count           109738648.0  109738648.0     1.097386e+08   \n",
       "count_non_zero          NaN          NaN     4.899232e+07   \n",
       "count_numeric           NaN          NaN     1.097386e+08   \n",
       "count_valid     109738648.0  105033354.0     1.097386e+08   \n",
       "count_zero              NaN          NaN     6.074632e+07   \n",
       "max                     NaN          NaN     2.581400e+04   \n",
       "mean                    NaN          NaN     1.318010e+01   \n",
       "mean_non_zero           NaN          NaN     2.952230e+01   \n",
       "min                     NaN          NaN     0.000000e+00   \n",
       "sum                     NaN          NaN     1.446366e+09   \n",
       "\n",
       "                referenced_by_count      created         type    publisher  \\\n",
       "stat                                                                         \n",
       "count                  1.097386e+08  109738648.0  109738648.0  109738648.0   \n",
       "count_non_zero         4.892371e+07          NaN          NaN          NaN   \n",
       "count_numeric          1.097386e+08          NaN          NaN          NaN   \n",
       "count_valid            1.097386e+08  109738648.0  109715020.0  109736842.0   \n",
       "count_zero             6.081493e+07          NaN          NaN          NaN   \n",
       "max                    1.465760e+05          NaN          NaN          NaN   \n",
       "mean                   9.056722e+00          NaN          NaN          NaN   \n",
       "mean_non_zero          2.031474e+01          NaN          NaN          NaN   \n",
       "min                    0.000000e+00          NaN          NaN          NaN   \n",
       "sum                    9.938724e+08          NaN          NaN          NaN   \n",
       "\n",
       "                container_title  author_count  first_subject_area  \\\n",
       "stat                                                                \n",
       "count               109738648.0   109738648.0         109738648.0   \n",
       "count_non_zero              NaN           NaN                 NaN   \n",
       "count_numeric               NaN           NaN                 NaN   \n",
       "count_valid         103339230.0    90402300.0          34224140.0   \n",
       "count_zero                  NaN           NaN                 NaN   \n",
       "max                         NaN           NaN                 NaN   \n",
       "mean                        NaN           NaN                 NaN   \n",
       "mean_non_zero               NaN           NaN                 NaN   \n",
       "min                         NaN           NaN                 NaN   \n",
       "sum                         NaN           NaN                 NaN   \n",
       "\n",
       "                subject_areas  has_references  num_references  \\\n",
       "stat                                                            \n",
       "count             109738648.0    1.097386e+08    1.097386e+08   \n",
       "count_non_zero            NaN    2.794741e+07    2.794741e+07   \n",
       "count_numeric             NaN    1.097386e+08    1.097386e+08   \n",
       "count_valid        34224140.0    1.097386e+08    1.097386e+08   \n",
       "count_zero                NaN    8.179123e+07    8.179123e+07   \n",
       "max                       NaN    1.000000e+00    2.579800e+04   \n",
       "mean                      NaN    2.546725e-01    7.755687e+00   \n",
       "mean_non_zero             NaN    1.000000e+00    3.045357e+01   \n",
       "min                       NaN    0.000000e+00    0.000000e+00   \n",
       "sum                       NaN    2.794741e+07    8.510986e+08   \n",
       "\n",
       "                num_citations_without_doi  num_duplicate_citation_dois  \\\n",
       "stat                                                                     \n",
       "count                        1.097386e+08                 1.097386e+08   \n",
       "count_non_zero               2.497571e+07                 1.190243e+06   \n",
       "count_numeric                1.097386e+08                 1.097386e+08   \n",
       "count_valid                  1.097386e+08                 1.097386e+08   \n",
       "count_zero                   8.476294e+07                 1.085484e+08   \n",
       "max                          1.158400e+04                 3.908000e+03   \n",
       "mean                         2.582804e+00                 2.745796e-02   \n",
       "mean_non_zero                1.134836e+01                 2.531583e+00   \n",
       "min                          0.000000e+00                 0.000000e+00   \n",
       "sum                          2.834334e+08                 3.013199e+06   \n",
       "\n",
       "                 cited_dois        debug  \n",
       "stat                                      \n",
       "count           109738648.0  109738648.0  \n",
       "count_non_zero          NaN          NaN  \n",
       "count_numeric           NaN          NaN  \n",
       "count_valid     109738648.0  109738648.0  \n",
       "count_zero              NaN          NaN  \n",
       "max                     NaN          NaN  \n",
       "mean                    NaN          NaN  \n",
       "mean_non_zero           NaN          NaN  \n",
       "min                     NaN          NaN  \n",
       "sum                     NaN          NaN  "
      ]
     },
     "execution_count": 5,
     "metadata": {},
     "output_type": "execute_result"
    }
   ],
   "source": [
    "df_summary = pd.read_csv(os.path.join(data_path, summary_stats_filename), sep='\\t')\n",
    "\n",
    "# drop non-numeric stat value 'type' and convert to numeric values\n",
    "df_summary = df_summary[\n",
    "    df_summary['stat'] != 'type'\n",
    "].apply(pd.to_numeric, errors='ignore')\n",
    "\n",
    "df_summary = df_summary.set_index('stat')\n",
    "df_summary"
   ]
  },
  {
   "cell_type": "code",
   "execution_count": 6,
   "metadata": {},
   "outputs": [
    {
     "name": "stdout",
     "output_type": "stream",
     "text": [
      "total work count: 109,738,648\n"
     ]
    }
   ],
   "source": [
    "print('total work count: {:,}'.format(int(df_summary['reference_count']['count'])))"
   ]
  },
  {
   "cell_type": "code",
   "execution_count": 7,
   "metadata": {},
   "outputs": [],
   "source": [
    "DEFAULT_NUMBER_FORMAT = '{:,.0f}'\n",
    "DEFAULT_PERCENTAGE_FORMAT = '{:,.2f}%'\n",
    "format_count = lambda c, number_format=DEFAULT_NUMBER_FORMAT: number_format.format(c)\n",
    "format_percentage = lambda c, number_format=DEFAULT_PERCENTAGE_FORMAT: number_format.format(c)\n",
    "\n",
    "def apply_columns(df, columns, f):\n",
    "    for c in columns:\n",
    "        df[c] = df[c].apply(f)\n",
    "    return df\n",
    "\n",
    "def format_columns(df):\n",
    "    for c in df.columns:\n",
    "        if str(c).startswith('p_'):\n",
    "            df[c] = df[c].apply(format_percentage)\n",
    "        else:\n",
    "            df[c] = df[c].apply(format_count)\n",
    "    return df\n",
    "\n",
    "def show_counts(counts, title='', number_format=DEFAULT_NUMBER_FORMAT, **kwargs):\n",
    "    if isinstance(counts, list):\n",
    "        df = pd.DataFrame(counts, columns=['what', 'count']).set_index('what')['count']\n",
    "    else:\n",
    "        df = counts\n",
    "    ax = df.plot(kind='bar', **kwargs)\n",
    "    for p in ax.patches:\n",
    "        ax.annotate(\n",
    "            format_count(p.get_height(), number_format=number_format),\n",
    "            xy=(p.get_x() + p.get_width() / 2, p.get_height()), xycoords=\"data\",\n",
    "            va=\"bottom\", ha=\"center\"\n",
    "        )\n",
    "    ax.yaxis.set_major_formatter(FuncFormatter(lambda y, _: format_count(y))) \n",
    "    ax.axes.get_xaxis().set_label_text(title)\n",
    "    ax.margins(y=0.2)"
   ]
  },
  {
   "cell_type": "code",
   "execution_count": 8,
   "metadata": {},
   "outputs": [
    {
     "data": {
      "text/markdown": [
       "### Work counts"
      ],
      "text/plain": [
       "<IPython.core.display.Markdown object>"
      ]
     },
     "metadata": {},
     "output_type": "display_data"
    },
    {
     "data": {
      "text/markdown": [
       "Out of the *48,992,325* works with references in Crossref, **57.04%** are open (*27,947,414*)."
      ],
      "text/plain": [
       "<IPython.core.display.Markdown object>"
      ]
     },
     "metadata": {},
     "output_type": "display_data"
    },
    {
     "data": {
      "image/png": "[encoded data removed]",
      "text/plain": [
       "<Figure size 432x288 with 1 Axes>"
      ]
     },
     "metadata": {},
     "output_type": "display_data"
    }
   ],
   "source": [
    "printmd('### Work counts')\n",
    "printmd('Out of the *{:,}* works with references in Crossref, **{:.2f}%** are open (*{:,}*).'.format(\n",
    "    int(df_summary['reference_count']['count_non_zero']),\n",
    "    100.0 * df_summary['has_references']['count_non_zero'] / df_summary['reference_count']['count_non_zero'],\n",
    "    int(df_summary['has_references']['count_non_zero'])\n",
    "))\n",
    "\n",
    "show_counts([\n",
    "    ['extracted', df_summary['has_references']['count']],\n",
    "    ['has ref count', df_summary['reference_count']['count_non_zero']],\n",
    "    ['oa references', df_summary['has_references']['count_non_zero']]\n",
    "], 'works')"
   ]
  },
  {
   "cell_type": "code",
   "execution_count": 9,
   "metadata": {},
   "outputs": [
    {
     "data": {
      "text/markdown": [
       "### Reference counts"
      ],
      "text/plain": [
       "<IPython.core.display.Markdown object>"
      ]
     },
     "metadata": {},
     "output_type": "display_data"
    },
    {
     "data": {
      "text/markdown": [
       "Out of the *1,446,365,933* references in Crossref, **58.84%** are open (*851,098,649*)."
      ],
      "text/plain": [
       "<IPython.core.display.Markdown object>"
      ]
     },
     "metadata": {},
     "output_type": "display_data"
    },
    {
     "data": {
      "image/png": "[encoded data removed]",
      "text/plain": [
       "<Figure size 432x288 with 1 Axes>"
      ]
     },
     "metadata": {},
     "output_type": "display_data"
    }
   ],
   "source": [
    "printmd('### Reference counts')\n",
    "printmd('Out of the *{:,}* references in Crossref, **{:.2f}%** are open (*{:,}*).'.format(\n",
    "    int(df_summary['reference_count']['sum']),\n",
    "    100.0 * df_summary['num_references']['sum'] / df_summary['reference_count']['sum'],\n",
    "    int(df_summary['num_references']['sum'])\n",
    "))\n",
    "\n",
    "show_counts([\n",
    "    ['as per Crossref', df_summary['reference_count']['sum']],\n",
    "    ['oa available', df_summary['num_references']['sum']],\n",
    "    ['with dois', df_summary['num_references']['sum'] - df_summary['num_citations_without_doi']['sum']],\n",
    "    ['missing dois', df_summary['num_citations_without_doi']['sum']],\n",
    "    ['duplicate dois', df_summary['num_duplicate_citation_dois']['sum']]\n",
    "], 'references')"
   ]
  },
  {
   "cell_type": "code",
   "execution_count": 10,
   "metadata": {},
   "outputs": [
    {
     "data": {
      "text/markdown": [
       "### Reference stats"
      ],
      "text/plain": [
       "<IPython.core.display.Markdown object>"
      ]
     },
     "metadata": {},
     "output_type": "display_data"
    },
    {
     "data": {
      "text/html": [
       "<div>\n",
       "<style scoped>\n",
       "    .dataframe tbody tr th:only-of-type {\n",
       "        vertical-align: middle;\n",
       "    }\n",
       "\n",
       "    .dataframe tbody tr th {\n",
       "        vertical-align: top;\n",
       "    }\n",
       "\n",
       "    .dataframe thead th {\n",
       "        text-align: right;\n",
       "    }\n",
       "</style>\n",
       "<table border=\"1\" class=\"dataframe\">\n",
       "  <thead>\n",
       "    <tr style=\"text-align: right;\">\n",
       "      <th></th>\n",
       "      <th>type</th>\n",
       "      <th>key</th>\n",
       "      <th>count</th>\n",
       "      <th>examples_without_source</th>\n",
       "    </tr>\n",
       "  </thead>\n",
       "  <tbody>\n",
       "    <tr>\n",
       "      <th>921552</th>\n",
       "      <td>year</td>\n",
       "      <td>NaN</td>\n",
       "      <td>79233328</td>\n",
       "      <td>[{'key': 'S1935789300003219_ref042', 'unstruct...</td>\n",
       "    </tr>\n",
       "    <tr>\n",
       "      <th>864147</th>\n",
       "      <td>total_first_subject_area</td>\n",
       "      <td>NaN</td>\n",
       "      <td>75514508</td>\n",
       "      <td>[0, 0, 0, 0, 0, 0, 0, 0, 0, 0]</td>\n",
       "    </tr>\n",
       "    <tr>\n",
       "      <th>0</th>\n",
       "      <td>key_combination</td>\n",
       "      <td>key|unstructured</td>\n",
       "      <td>70930410</td>\n",
       "      <td>[{'key': 'S1935789300003219_ref042', 'unstruct...</td>\n",
       "    </tr>\n",
       "    <tr>\n",
       "      <th>1</th>\n",
       "      <td>key_combination</td>\n",
       "      <td>author|key|volume-title|year</td>\n",
       "      <td>39450593</td>\n",
       "      <td>[{'key': 'S1935789313000591_ref17', 'author': ...</td>\n",
       "    </tr>\n",
       "    <tr>\n",
       "      <th>2</th>\n",
       "      <td>key_combination</td>\n",
       "      <td>author|first-page|journal-title|key|volume|year</td>\n",
       "      <td>29013838</td>\n",
       "      <td>[{'key': 'S1935789300003165_ref020', 'author':...</td>\n",
       "    </tr>\n",
       "    <tr>\n",
       "      <th>3</th>\n",
       "      <td>key_combination</td>\n",
       "      <td>author|first-page|journal-title|key|unstructur...</td>\n",
       "      <td>25505471</td>\n",
       "      <td>[{'key': '10.1002/(SICI)1096-8628(20000207)96:...</td>\n",
       "    </tr>\n",
       "    <tr>\n",
       "      <th>4</th>\n",
       "      <td>key_combination</td>\n",
       "      <td>author|key|unstructured|volume-title|year</td>\n",
       "      <td>19137676</td>\n",
       "      <td>[{'key': '10.1002/(SICI)1096-8628(19960102)61:...</td>\n",
       "    </tr>\n",
       "    <tr>\n",
       "      <th>5</th>\n",
       "      <td>key_combination</td>\n",
       "      <td>article-title|author|first-page|journal-title|...</td>\n",
       "      <td>18917337</td>\n",
       "      <td>[{'key': 'S1935789300003219_ref014', 'first-pa...</td>\n",
       "    </tr>\n",
       "    <tr>\n",
       "      <th>864470</th>\n",
       "      <td>total_publisher</td>\n",
       "      <td>Elsevier BV</td>\n",
       "      <td>16342614</td>\n",
       "      <td>[0, 0, 0, 0, 0, 0, 0, 0, 0, 0]</td>\n",
       "    </tr>\n",
       "    <tr>\n",
       "      <th>72522</th>\n",
       "      <td>non_oa_ref_first_subject_area</td>\n",
       "      <td>NaN</td>\n",
       "      <td>12150971</td>\n",
       "      <td>[0, 0, 0, 0, 0, 0, 0, 0, 0, 0]</td>\n",
       "    </tr>\n",
       "  </tbody>\n",
       "</table>\n",
       "</div>"
      ],
      "text/plain": [
       "                                 type  \\\n",
       "921552                           year   \n",
       "864147       total_first_subject_area   \n",
       "0                     key_combination   \n",
       "1                     key_combination   \n",
       "2                     key_combination   \n",
       "3                     key_combination   \n",
       "4                     key_combination   \n",
       "5                     key_combination   \n",
       "864470                total_publisher   \n",
       "72522   non_oa_ref_first_subject_area   \n",
       "\n",
       "                                                      key     count  \\\n",
       "921552                                                NaN  79233328   \n",
       "864147                                                NaN  75514508   \n",
       "0                                        key|unstructured  70930410   \n",
       "1                            author|key|volume-title|year  39450593   \n",
       "2         author|first-page|journal-title|key|volume|year  29013838   \n",
       "3       author|first-page|journal-title|key|unstructur...  25505471   \n",
       "4               author|key|unstructured|volume-title|year  19137676   \n",
       "5       article-title|author|first-page|journal-title|...  18917337   \n",
       "864470                                        Elsevier BV  16342614   \n",
       "72522                                                 NaN  12150971   \n",
       "\n",
       "                                  examples_without_source  \n",
       "921552  [{'key': 'S1935789300003219_ref042', 'unstruct...  \n",
       "864147                     [0, 0, 0, 0, 0, 0, 0, 0, 0, 0]  \n",
       "0       [{'key': 'S1935789300003219_ref042', 'unstruct...  \n",
       "1       [{'key': 'S1935789313000591_ref17', 'author': ...  \n",
       "2       [{'key': 'S1935789300003165_ref020', 'author':...  \n",
       "3       [{'key': '10.1002/(SICI)1096-8628(20000207)96:...  \n",
       "4       [{'key': '10.1002/(SICI)1096-8628(19960102)61:...  \n",
       "5       [{'key': 'S1935789300003219_ref014', 'first-pa...  \n",
       "864470                     [0, 0, 0, 0, 0, 0, 0, 0, 0, 0]  \n",
       "72522                      [0, 0, 0, 0, 0, 0, 0, 0, 0, 0]  "
      ]
     },
     "execution_count": 10,
     "metadata": {},
     "output_type": "execute_result"
    }
   ],
   "source": [
    "printmd('### Reference stats')\n",
    "df_reference_stat = pd.read_csv(os.path.join(data_path, reference_stats_filename), sep='\\t')\n",
    "df_reference_stat['examples'] = df_reference_stat['examples'].map(lambda x: json.loads(x))\n",
    "df_reference_stat['examples_without_source'] = df_reference_stat['examples'].map(lambda x: [y[1] for y in x])\n",
    "df_reference_stat = df_reference_stat.sort_values('count', ascending=False)\n",
    "df_reference_stat.drop('examples', axis=1).head(10)"
   ]
  },
  {
   "cell_type": "code",
   "execution_count": 11,
   "metadata": {},
   "outputs": [
    {
     "data": {
      "text/markdown": [
       "### Reference stats are aggregated by different 'types'"
      ],
      "text/plain": [
       "<IPython.core.display.Markdown object>"
      ]
     },
     "metadata": {},
     "output_type": "display_data"
    },
    {
     "name": "stdout",
     "output_type": "stream",
     "text": [
      "non_oa_ref_first_subject_area\n",
      "total_publisher\n",
      "non_oa_ref_countainer_title\n",
      "key_combination\n",
      "non_oa_ref_created\n",
      "total_first_subject_area\n",
      "non_oa_ref_publisher\n",
      "total_countainer_title\n",
      "year\n",
      "total_created\n"
     ]
    }
   ],
   "source": [
    "printmd('### Reference stats are aggregated by different \\'types\\'')\n",
    "print('\\n'.join(set(df_reference_stat['type'].values)))"
   ]
  },
  {
   "cell_type": "code",
   "execution_count": 12,
   "metadata": {},
   "outputs": [
    {
     "data": {
      "text/markdown": [
       "### Count of referenced work by key combinations (populated fields in reference)"
      ],
      "text/plain": [
       "<IPython.core.display.Markdown object>"
      ]
     },
     "metadata": {},
     "output_type": "display_data"
    },
    {
     "data": {
      "image/png": "[encoded data removed]",
      "text/plain": [
       "<Figure size 1440x288 with 1 Axes>"
      ]
     },
     "metadata": {},
     "output_type": "display_data"
    }
   ],
   "source": [
    "printmd('### Count of referenced work by key combinations (populated fields in reference)')\n",
    "\n",
    "df_reference_key_combination_stat = (\n",
    "    df_reference_stat[df_reference_stat['type'] == 'key_combination']\n",
    "    .drop('type', axis=1)\n",
    "    .set_index('key')\n",
    ")\n",
    "show_counts(df_reference_key_combination_stat['count'].head(10), figsize=(20, 4))"
   ]
  },
  {
   "cell_type": "code",
   "execution_count": 13,
   "metadata": {},
   "outputs": [
    {
     "data": {
      "text/markdown": [
       "### Count of referenced work by year, sorted descending by year"
      ],
      "text/plain": [
       "<IPython.core.display.Markdown object>"
      ]
     },
     "metadata": {},
     "output_type": "display_data"
    },
    {
     "data": {
      "image/png": "[encoded data removed]",
      "text/plain": [
       "<Figure size 1440x288 with 1 Axes>"
      ]
     },
     "metadata": {},
     "output_type": "display_data"
    }
   ],
   "source": [
    "printmd('### Count of referenced work by year, sorted descending by year')\n",
    "\n",
    "df_reference_year_stat = (\n",
    "    df_reference_stat[df_reference_stat['type'] == 'year']\n",
    "    .drop('type', axis=1)\n",
    "    .sort_values('key', ascending=False)\n",
    "    .set_index('key')\n",
    ")\n",
    "df_reference_year_stat = df_reference_year_stat[df_reference_year_stat['count'] > 1000]\n",
    "show_counts(df_reference_year_stat['count'].head(150), figsize=(20, 4))"
   ]
  },
  {
   "cell_type": "code",
   "execution_count": 14,
   "metadata": {},
   "outputs": [
    {
     "data": {
      "text/plain": [
       "{'key_combination',\n",
       " 'non_oa_ref_countainer_title',\n",
       " 'non_oa_ref_created',\n",
       " 'non_oa_ref_first_subject_area',\n",
       " 'non_oa_ref_publisher',\n",
       " 'total_countainer_title',\n",
       " 'total_created',\n",
       " 'total_first_subject_area',\n",
       " 'total_publisher',\n",
       " 'year'}"
      ]
     },
     "execution_count": 14,
     "metadata": {},
     "output_type": "execute_result"
    }
   ],
   "source": [
    "set(df_reference_stat['type'])"
   ]
  },
  {
   "cell_type": "code",
   "execution_count": 15,
   "metadata": {},
   "outputs": [
    {
     "data": {
      "text/markdown": [
       "### Count of non-oa work by publisher, sorted descending"
      ],
      "text/plain": [
       "<IPython.core.display.Markdown object>"
      ]
     },
     "metadata": {},
     "output_type": "display_data"
    },
    {
     "name": "stdout",
     "output_type": "stream",
     "text": [
      "key\n",
      "Elsevier BV                                                 0.690575\n",
      "IEEE                                                        0.828127\n",
      "Ovid Technologies (Wolters Kluwer Health)                   0.354177\n",
      "American Chemical Society (ACS)                             0.346757\n",
      "Institute of Electrical and Electronics Engineers (IEEE)    0.658336\n",
      "IOP Publishing                                              0.776109\n",
      "Elsevier                                                    0.559011\n",
      "Mary Ann Liebert Inc                                        0.836376\n",
      "Medknow                                                     0.663512\n",
      "Institution of Engineering and Technology (IET)             0.586324\n",
      "Name: count, dtype: float64\n"
     ]
    },
    {
     "data": {
      "image/png": "[encoded data removed]",
      "text/plain": [
       "<Figure size 1440x288 with 1 Axes>"
      ]
     },
     "metadata": {},
     "output_type": "display_data"
    }
   ],
   "source": [
    "printmd('### Count of non-oa work by publisher, sorted descending')\n",
    "\n",
    "df_temp = (\n",
    "    df_reference_stat[df_reference_stat['type'] == 'non_oa_ref_publisher']\n",
    "    .drop('type', axis=1)\n",
    "    .set_index('key')\n",
    ")\n",
    "\n",
    "df_temp_total = (\n",
    "    df_reference_stat[df_reference_stat['type'] == 'total_publisher']\n",
    "    .drop('type', axis=1)\n",
    "    .set_index('key')\n",
    ")\n",
    "# print(df_temp_total.head())\n",
    "print((df_temp['count'].head(10) / df_temp_total['count']).dropna())\n",
    "show_counts(df_temp['count'].head(10), figsize=(20, 4))"
   ]
  },
  {
   "cell_type": "code",
   "execution_count": 16,
   "metadata": {},
   "outputs": [
    {
     "data": {
      "text/markdown": [
       "### Percentage of non-oa work by publisher (>10k works), sorted descending by percentage"
      ],
      "text/plain": [
       "<IPython.core.display.Markdown object>"
      ]
     },
     "metadata": {},
     "output_type": "display_data"
    },
    {
     "name": "stdout",
     "output_type": "stream",
     "text": [
      "key\n",
      "Mary Ann Liebert Inc    0.836376\n",
      "IEEE                    0.828127\n",
      "IOP Publishing          0.776109\n",
      "Elsevier BV             0.690575\n",
      "Medknow                 0.663512\n",
      "Name: count, dtype: float64\n"
     ]
    },
    {
     "data": {
      "image/png": "[encoded data removed]",
      "text/plain": [
       "<Figure size 1440x288 with 1 Axes>"
      ]
     },
     "metadata": {},
     "output_type": "display_data"
    }
   ],
   "source": [
    "printmd('### Percentage of non-oa work by publisher (>10k works), sorted descending by percentage')\n",
    "\n",
    "df_temp = (\n",
    "    df_reference_stat[df_reference_stat['type'] == 'non_oa_ref_publisher']\n",
    "    .drop('type', axis=1)\n",
    "    .set_index('key')\n",
    ")\n",
    "df_temp2 = (\n",
    "    df_reference_stat[df_reference_stat['type'] == 'total_publisher']\n",
    "    .drop('type', axis=1)\n",
    "    .set_index('key')\n",
    ")\n",
    "df_temp = df_temp[df_temp['count'] > 100000]\n",
    "# df_temp = df_temp[df_temp2['count'] > 10000]\n",
    "# df_temp2 = df_temp2[df_temp2['count'] > 10000]\n",
    "df_temp3 = df_temp.copy()\n",
    "df_temp3['count'] = df_temp3['count'] / df_temp2['count']\n",
    "print(df_temp3['count'].sort_values(ascending=False).head())\n",
    "show_counts(df_temp3['count'].sort_values(ascending=False).head(10), number_format='{:,.5f}', figsize=(20, 4))"
   ]
  },
  {
   "cell_type": "code",
   "execution_count": 17,
   "metadata": {},
   "outputs": [
    {
     "data": {
      "text/markdown": [
       "### Non-oa works by container title"
      ],
      "text/plain": [
       "<IPython.core.display.Markdown object>"
      ]
     },
     "metadata": {},
     "output_type": "display_data"
    },
    {
     "data": {
      "image/png": "[encoded data removed]",
      "text/plain": [
       "<Figure size 1440x288 with 1 Axes>"
      ]
     },
     "metadata": {},
     "output_type": "display_data"
    }
   ],
   "source": [
    "printmd('### Non-oa works by container title')\n",
    "\n",
    "df_temp = (\n",
    "    df_reference_stat[df_reference_stat['type'] == 'non_oa_ref_countainer_title']\n",
    "    .drop('type', axis=1)\n",
    "    .set_index('key')\n",
    ")\n",
    "show_counts(df_temp['count'].head(10), figsize=(20, 4))"
   ]
  },
  {
   "cell_type": "code",
   "execution_count": 18,
   "metadata": {},
   "outputs": [
    {
     "data": {
      "text/markdown": [
       "### Non-oa works by first subject area"
      ],
      "text/plain": [
       "<IPython.core.display.Markdown object>"
      ]
     },
     "metadata": {},
     "output_type": "display_data"
    },
    {
     "data": {
      "image/png": "[encoded data removed]",
      "text/plain": [
       "<Figure size 1440x288 with 1 Axes>"
      ]
     },
     "metadata": {},
     "output_type": "display_data"
    }
   ],
   "source": [
    "printmd('### Non-oa works by first subject area')\n",
    "\n",
    "df_temp = (\n",
    "    df_reference_stat[df_reference_stat['type'] == 'non_oa_ref_first_subject_area']\n",
    "    .drop('type', axis=1)\n",
    "    .set_index('key')\n",
    ")\n",
    "show_counts(df_temp['count'].head(10), figsize=(20, 4))"
   ]
  },
  {
   "cell_type": "code",
   "execution_count": 19,
   "metadata": {},
   "outputs": [
    {
     "data": {
      "text/markdown": [
       "### Non-oa works by creation date (year)"
      ],
      "text/plain": [
       "<IPython.core.display.Markdown object>"
      ]
     },
     "metadata": {},
     "output_type": "display_data"
    },
    {
     "data": {
      "image/png": "[encoded data removed]",
      "text/plain": [
       "<Figure size 1440x288 with 1 Axes>"
      ]
     },
     "metadata": {},
     "output_type": "display_data"
    }
   ],
   "source": [
    "printmd('### Non-oa works by creation date (year)')\n",
    "\n",
    "df_temp = (\n",
    "    df_reference_stat[df_reference_stat['type'] == 'non_oa_ref_created']\n",
    "    .drop('type', axis=1)\n",
    "    .set_index('key')\n",
    ")\n",
    "show_counts(df_temp['count'].head(10), figsize=(20, 4))"
   ]
  },
  {
   "cell_type": "markdown",
   "metadata": {},
   "source": [
    "## More detailed analysis on the summaries by type and publisher"
   ]
  },
  {
   "cell_type": "code",
   "execution_count": 20,
   "metadata": {},
   "outputs": [
    {
     "data": {
      "text/html": [
       "<div>\n",
       "<style scoped>\n",
       "    .dataframe tbody tr th:only-of-type {\n",
       "        vertical-align: middle;\n",
       "    }\n",
       "\n",
       "    .dataframe tbody tr th {\n",
       "        vertical-align: top;\n",
       "    }\n",
       "\n",
       "    .dataframe thead th {\n",
       "        text-align: right;\n",
       "    }\n",
       "</style>\n",
       "<table border=\"1\" class=\"dataframe\">\n",
       "  <thead>\n",
       "    <tr style=\"text-align: right;\">\n",
       "      <th></th>\n",
       "      <th>type</th>\n",
       "      <th>publisher</th>\n",
       "      <th>stat</th>\n",
       "      <th>doi</th>\n",
       "      <th>title</th>\n",
       "      <th>reference_count_crossref</th>\n",
       "      <th>referenced_by_count</th>\n",
       "      <th>created</th>\n",
       "      <th>container_title</th>\n",
       "      <th>author_count</th>\n",
       "      <th>first_subject_area</th>\n",
       "      <th>subject_areas</th>\n",
       "      <th>has_references</th>\n",
       "      <th>reference_count_oa</th>\n",
       "      <th>num_citations_without_doi</th>\n",
       "      <th>num_duplicate_citation_dois</th>\n",
       "      <th>cited_dois</th>\n",
       "      <th>debug</th>\n",
       "    </tr>\n",
       "  </thead>\n",
       "  <tbody>\n",
       "    <tr>\n",
       "      <th>0</th>\n",
       "      <td></td>\n",
       "      <td></td>\n",
       "      <td>count</td>\n",
       "      <td>3.0</td>\n",
       "      <td>3.0</td>\n",
       "      <td>3.0</td>\n",
       "      <td>3.0</td>\n",
       "      <td>3.0</td>\n",
       "      <td>3.0</td>\n",
       "      <td>3.0</td>\n",
       "      <td>3.0</td>\n",
       "      <td>3.0</td>\n",
       "      <td>3.0</td>\n",
       "      <td>3.0</td>\n",
       "      <td>3.0</td>\n",
       "      <td>3.0</td>\n",
       "      <td>3.0</td>\n",
       "      <td>3.0</td>\n",
       "    </tr>\n",
       "    <tr>\n",
       "      <th>1</th>\n",
       "      <td></td>\n",
       "      <td></td>\n",
       "      <td>count_non_zero</td>\n",
       "      <td>NaN</td>\n",
       "      <td>NaN</td>\n",
       "      <td>0.0</td>\n",
       "      <td>1.0</td>\n",
       "      <td>NaN</td>\n",
       "      <td>NaN</td>\n",
       "      <td>NaN</td>\n",
       "      <td>NaN</td>\n",
       "      <td>NaN</td>\n",
       "      <td>0.0</td>\n",
       "      <td>0.0</td>\n",
       "      <td>0.0</td>\n",
       "      <td>0.0</td>\n",
       "      <td>NaN</td>\n",
       "      <td>NaN</td>\n",
       "    </tr>\n",
       "    <tr>\n",
       "      <th>2</th>\n",
       "      <td></td>\n",
       "      <td></td>\n",
       "      <td>count_numeric</td>\n",
       "      <td>NaN</td>\n",
       "      <td>NaN</td>\n",
       "      <td>3.0</td>\n",
       "      <td>3.0</td>\n",
       "      <td>NaN</td>\n",
       "      <td>NaN</td>\n",
       "      <td>NaN</td>\n",
       "      <td>NaN</td>\n",
       "      <td>NaN</td>\n",
       "      <td>3.0</td>\n",
       "      <td>3.0</td>\n",
       "      <td>3.0</td>\n",
       "      <td>3.0</td>\n",
       "      <td>NaN</td>\n",
       "      <td>NaN</td>\n",
       "    </tr>\n",
       "  </tbody>\n",
       "</table>\n",
       "</div>"
      ],
      "text/plain": [
       "  type publisher            stat  doi  title  reference_count_crossref  \\\n",
       "0                          count  3.0    3.0                       3.0   \n",
       "1                 count_non_zero  NaN    NaN                       0.0   \n",
       "2                  count_numeric  NaN    NaN                       3.0   \n",
       "\n",
       "   referenced_by_count  created  container_title  author_count  \\\n",
       "0                  3.0      3.0              3.0           3.0   \n",
       "1                  1.0      NaN              NaN           NaN   \n",
       "2                  3.0      NaN              NaN           NaN   \n",
       "\n",
       "   first_subject_area  subject_areas  has_references  reference_count_oa  \\\n",
       "0                 3.0            3.0             3.0                 3.0   \n",
       "1                 NaN            NaN             0.0                 0.0   \n",
       "2                 NaN            NaN             3.0                 3.0   \n",
       "\n",
       "   num_citations_without_doi  num_duplicate_citation_dois  cited_dois  debug  \n",
       "0                        3.0                          3.0         3.0    3.0  \n",
       "1                        0.0                          0.0         NaN    NaN  \n",
       "2                        3.0                          3.0         NaN    NaN  "
      ]
     },
     "execution_count": 20,
     "metadata": {},
     "output_type": "execute_result"
    }
   ],
   "source": [
    "df_summary_by_type_and_publisher = pd.read_csv(\n",
    "    os.path.join(data_path, summary_by_type_and_publisher_stats_filename), sep='\\t'\n",
    ").rename(columns={\n",
    "    'reference_count': 'reference_count_crossref',\n",
    "    'num_references': 'reference_count_oa'\n",
    "})\n",
    "\n",
    "# fill na type and publisher with blank (otherwise causes issues with groupby)\n",
    "df_summary_by_type_and_publisher[['type', 'publisher']] = (\n",
    "    df_summary_by_type_and_publisher[['type', 'publisher']].fillna('')\n",
    ")\n",
    "\n",
    "# drop non-numeric stat value 'type' and convert to numeric values\n",
    "df_summary_by_type_and_publisher = df_summary_by_type_and_publisher[\n",
    "    df_summary_by_type_and_publisher['stat'] != 'type'\n",
    "].apply(pd.to_numeric, errors='ignore')\n",
    "\n",
    "df_summary_by_type_and_publisher.head(3)"
   ]
  },
  {
   "cell_type": "code",
   "execution_count": 21,
   "metadata": {},
   "outputs": [
    {
     "data": {
      "text/markdown": [
       "### Work counts by type and publisher"
      ],
      "text/plain": [
       "<IPython.core.display.Markdown object>"
      ]
     },
     "metadata": {},
     "output_type": "display_data"
    },
    {
     "data": {
      "text/html": [
       "<div>\n",
       "<style scoped>\n",
       "    .dataframe tbody tr th:only-of-type {\n",
       "        vertical-align: middle;\n",
       "    }\n",
       "\n",
       "    .dataframe tbody tr th {\n",
       "        vertical-align: top;\n",
       "    }\n",
       "\n",
       "    .dataframe thead th {\n",
       "        text-align: right;\n",
       "    }\n",
       "</style>\n",
       "<table border=\"1\" class=\"dataframe\">\n",
       "  <thead>\n",
       "    <tr style=\"text-align: right;\">\n",
       "      <th></th>\n",
       "      <th></th>\n",
       "      <th>work_count</th>\n",
       "      <th>has_nonzero_reference_count_crossref</th>\n",
       "      <th>has_nonzero_reference_count_oa</th>\n",
       "      <th>p_oa</th>\n",
       "    </tr>\n",
       "    <tr>\n",
       "      <th>type</th>\n",
       "      <th>publisher</th>\n",
       "      <th></th>\n",
       "      <th></th>\n",
       "      <th></th>\n",
       "      <th></th>\n",
       "    </tr>\n",
       "  </thead>\n",
       "  <tbody>\n",
       "    <tr>\n",
       "      <th rowspan=\"5\" valign=\"top\">journal-article</th>\n",
       "      <th>Elsevier BV</th>\n",
       "      <td>16,339,851</td>\n",
       "      <td>11,285,796</td>\n",
       "      <td>0</td>\n",
       "      <td>0.00%</td>\n",
       "    </tr>\n",
       "    <tr>\n",
       "      <th>Wiley</th>\n",
       "      <td>8,047,211</td>\n",
       "      <td>5,583,310</td>\n",
       "      <td>5,583,310</td>\n",
       "      <td>100.00%</td>\n",
       "    </tr>\n",
       "    <tr>\n",
       "      <th>Springer Science and Business Media LLC</th>\n",
       "      <td>4,464,416</td>\n",
       "      <td>3,469,369</td>\n",
       "      <td>3,465,542</td>\n",
       "      <td>99.89%</td>\n",
       "    </tr>\n",
       "    <tr>\n",
       "      <th>Informa UK Limited</th>\n",
       "      <td>4,281,233</td>\n",
       "      <td>2,792,654</td>\n",
       "      <td>2,776,404</td>\n",
       "      <td>99.42%</td>\n",
       "    </tr>\n",
       "    <tr>\n",
       "      <th>Springer Nature</th>\n",
       "      <td>3,281,604</td>\n",
       "      <td>1,846,267</td>\n",
       "      <td>1,844,492</td>\n",
       "      <td>99.90%</td>\n",
       "    </tr>\n",
       "  </tbody>\n",
       "</table>\n",
       "</div>"
      ],
      "text/plain": [
       "                                                         work_count  \\\n",
       "type            publisher                                             \n",
       "journal-article Elsevier BV                              16,339,851   \n",
       "                Wiley                                     8,047,211   \n",
       "                Springer Science and Business Media LLC   4,464,416   \n",
       "                Informa UK Limited                        4,281,233   \n",
       "                Springer Nature                           3,281,604   \n",
       "\n",
       "                                                        has_nonzero_reference_count_crossref  \\\n",
       "type            publisher                                                                      \n",
       "journal-article Elsevier BV                                                       11,285,796   \n",
       "                Wiley                                                              5,583,310   \n",
       "                Springer Science and Business Media LLC                            3,469,369   \n",
       "                Informa UK Limited                                                 2,792,654   \n",
       "                Springer Nature                                                    1,846,267   \n",
       "\n",
       "                                                        has_nonzero_reference_count_oa  \\\n",
       "type            publisher                                                                \n",
       "journal-article Elsevier BV                                                          0   \n",
       "                Wiley                                                        5,583,310   \n",
       "                Springer Science and Business Media LLC                      3,465,542   \n",
       "                Informa UK Limited                                           2,776,404   \n",
       "                Springer Nature                                              1,844,492   \n",
       "\n",
       "                                                            p_oa  \n",
       "type            publisher                                         \n",
       "journal-article Elsevier BV                                0.00%  \n",
       "                Wiley                                    100.00%  \n",
       "                Springer Science and Business Media LLC   99.89%  \n",
       "                Informa UK Limited                        99.42%  \n",
       "                Springer Nature                           99.90%  "
      ]
     },
     "execution_count": 21,
     "metadata": {},
     "output_type": "execute_result"
    }
   ],
   "source": [
    "printmd('### Work counts by type and publisher')\n",
    "\n",
    "df_summary_by_type_and_publisher_work_counts = df_summary_by_type_and_publisher[\n",
    "    df_summary_by_type_and_publisher['stat'] == 'count'\n",
    "].groupby(['type', 'publisher'])['doi'].sum().sort_values(ascending=False).to_frame('work_count')\n",
    "\n",
    "df_summary_by_type_and_publisher_non_zero_counts = df_summary_by_type_and_publisher[\n",
    "    df_summary_by_type_and_publisher['stat'] == 'count_non_zero'\n",
    "].groupby(['type', 'publisher'])[[\n",
    "    'reference_count_crossref', 'reference_count_oa'\n",
    "]].sum().rename(columns={\n",
    "    'reference_count_crossref': 'has_nonzero_reference_count_crossref',\n",
    "    'reference_count_oa': 'has_nonzero_reference_count_oa'\n",
    "})\n",
    "\n",
    "df_summary_by_type_and_publisher_work_counts = df_summary_by_type_and_publisher_work_counts.merge(\n",
    "    df_summary_by_type_and_publisher_non_zero_counts, how='outer', left_index=True, right_index=True\n",
    ").astype(int)\n",
    "\n",
    "# sanity check\n",
    "assert int(df_summary_by_type_and_publisher_work_counts.sum()[0]) == int(df_summary['has_references']['count'])\n",
    "\n",
    "df_summary_by_type_and_publisher_work_counts['p_oa'] = (\n",
    "    100.0 * df_summary_by_type_and_publisher_work_counts['has_nonzero_reference_count_oa'] /\n",
    "    df_summary_by_type_and_publisher_work_counts['has_nonzero_reference_count_crossref']\n",
    ")\n",
    "\n",
    "format_columns(df_summary_by_type_and_publisher_work_counts.sort_values(\n",
    "    'work_count', ascending=False\n",
    ").head())"
   ]
  },
  {
   "cell_type": "code",
   "execution_count": 22,
   "metadata": {},
   "outputs": [
    {
     "data": {
      "text/markdown": [
       "### Total work counts"
      ],
      "text/plain": [
       "<IPython.core.display.Markdown object>"
      ]
     },
     "metadata": {},
     "output_type": "display_data"
    },
    {
     "data": {
      "text/html": [
       "<div>\n",
       "<style scoped>\n",
       "    .dataframe tbody tr th:only-of-type {\n",
       "        vertical-align: middle;\n",
       "    }\n",
       "\n",
       "    .dataframe tbody tr th {\n",
       "        vertical-align: top;\n",
       "    }\n",
       "\n",
       "    .dataframe thead th {\n",
       "        text-align: right;\n",
       "    }\n",
       "</style>\n",
       "<table border=\"1\" class=\"dataframe\">\n",
       "  <thead>\n",
       "    <tr style=\"text-align: right;\">\n",
       "      <th></th>\n",
       "      <th>total</th>\n",
       "    </tr>\n",
       "  </thead>\n",
       "  <tbody>\n",
       "    <tr>\n",
       "      <th>work_count</th>\n",
       "      <td>109,738,648</td>\n",
       "    </tr>\n",
       "    <tr>\n",
       "      <th>has_nonzero_reference_count_crossref</th>\n",
       "      <td>48,992,325</td>\n",
       "    </tr>\n",
       "    <tr>\n",
       "      <th>has_nonzero_reference_count_oa</th>\n",
       "      <td>27,947,414</td>\n",
       "    </tr>\n",
       "    <tr>\n",
       "      <th>p_oa</th>\n",
       "      <td>192,206</td>\n",
       "    </tr>\n",
       "  </tbody>\n",
       "</table>\n",
       "</div>"
      ],
      "text/plain": [
       "                                            total\n",
       "work_count                            109,738,648\n",
       "has_nonzero_reference_count_crossref   48,992,325\n",
       "has_nonzero_reference_count_oa         27,947,414\n",
       "p_oa                                      192,206"
      ]
     },
     "execution_count": 22,
     "metadata": {},
     "output_type": "execute_result"
    }
   ],
   "source": [
    "printmd('### Total work counts')\n",
    "\n",
    "(\n",
    "    df_summary_by_type_and_publisher_work_counts.reset_index()\n",
    "    .drop(['type', 'publisher'], axis=1)\n",
    "    .sum(axis=0)\n",
    "    .to_frame('total')\n",
    "    .applymap(format_count)\n",
    ")"
   ]
  },
  {
   "cell_type": "code",
   "execution_count": 23,
   "metadata": {},
   "outputs": [
    {
     "data": {
      "text/markdown": [
       "### Work counts by type"
      ],
      "text/plain": [
       "<IPython.core.display.Markdown object>"
      ]
     },
     "metadata": {},
     "output_type": "display_data"
    },
    {
     "data": {
      "text/markdown": [
       "Out of the *40,291,216* works of type *journal-article* with references in Crossref, **56.98%** are open (*22,956,661*)."
      ],
      "text/plain": [
       "<IPython.core.display.Markdown object>"
      ]
     },
     "metadata": {},
     "output_type": "display_data"
    },
    {
     "data": {
      "text/markdown": [
       "Out of the *4,966,411* works of type *book-chapter* with references in Crossref, **85.16%** are open (*4,229,448*)."
      ],
      "text/plain": [
       "<IPython.core.display.Markdown object>"
      ]
     },
     "metadata": {},
     "output_type": "display_data"
    },
    {
     "data": {
      "text/markdown": [
       "Out of the *3,372,899* works of type *proceedings-article* with references in Crossref, **14.31%** are open (*482,620*)."
      ],
      "text/plain": [
       "<IPython.core.display.Markdown object>"
      ]
     },
     "metadata": {},
     "output_type": "display_data"
    },
    {
     "data": {
      "text/markdown": [
       "Out of the *11* works of type *component* with references in Crossref, **18.18%** are open (*2*)."
      ],
      "text/plain": [
       "<IPython.core.display.Markdown object>"
      ]
     },
     "metadata": {},
     "output_type": "display_data"
    },
    {
     "data": {
      "text/markdown": [
       "Out of the *75,416* works of type *dataset* with references in Crossref, **0.04%** are open (*30*)."
      ],
      "text/plain": [
       "<IPython.core.display.Markdown object>"
      ]
     },
     "metadata": {},
     "output_type": "display_data"
    },
    {
     "data": {
      "text/html": [
       "<div>\n",
       "<style scoped>\n",
       "    .dataframe tbody tr th:only-of-type {\n",
       "        vertical-align: middle;\n",
       "    }\n",
       "\n",
       "    .dataframe tbody tr th {\n",
       "        vertical-align: top;\n",
       "    }\n",
       "\n",
       "    .dataframe thead th {\n",
       "        text-align: right;\n",
       "    }\n",
       "</style>\n",
       "<table border=\"1\" class=\"dataframe\">\n",
       "  <thead>\n",
       "    <tr style=\"text-align: right;\">\n",
       "      <th></th>\n",
       "      <th>work_count</th>\n",
       "      <th>has_nonzero_reference_count_crossref</th>\n",
       "      <th>has_nonzero_reference_count_oa</th>\n",
       "      <th>p_oa</th>\n",
       "    </tr>\n",
       "    <tr>\n",
       "      <th>type</th>\n",
       "      <th></th>\n",
       "      <th></th>\n",
       "      <th></th>\n",
       "      <th></th>\n",
       "    </tr>\n",
       "  </thead>\n",
       "  <tbody>\n",
       "    <tr>\n",
       "      <th>journal-article</th>\n",
       "      <td>79,960,807</td>\n",
       "      <td>40,291,216</td>\n",
       "      <td>22,956,661</td>\n",
       "      <td>56.98%</td>\n",
       "    </tr>\n",
       "    <tr>\n",
       "      <th>book-chapter</th>\n",
       "      <td>13,361,218</td>\n",
       "      <td>4,966,411</td>\n",
       "      <td>4,229,448</td>\n",
       "      <td>85.16%</td>\n",
       "    </tr>\n",
       "    <tr>\n",
       "      <th>proceedings-article</th>\n",
       "      <td>6,003,592</td>\n",
       "      <td>3,372,899</td>\n",
       "      <td>482,620</td>\n",
       "      <td>14.31%</td>\n",
       "    </tr>\n",
       "    <tr>\n",
       "      <th>component</th>\n",
       "      <td>3,863,919</td>\n",
       "      <td>11</td>\n",
       "      <td>2</td>\n",
       "      <td>18.18%</td>\n",
       "    </tr>\n",
       "    <tr>\n",
       "      <th>dataset</th>\n",
       "      <td>1,814,101</td>\n",
       "      <td>75,416</td>\n",
       "      <td>30</td>\n",
       "      <td>0.04%</td>\n",
       "    </tr>\n",
       "  </tbody>\n",
       "</table>\n",
       "</div>"
      ],
      "text/plain": [
       "                     work_count has_nonzero_reference_count_crossref  \\\n",
       "type                                                                   \n",
       "journal-article      79,960,807                           40,291,216   \n",
       "book-chapter         13,361,218                            4,966,411   \n",
       "proceedings-article   6,003,592                            3,372,899   \n",
       "component             3,863,919                                   11   \n",
       "dataset               1,814,101                               75,416   \n",
       "\n",
       "                    has_nonzero_reference_count_oa    p_oa  \n",
       "type                                                        \n",
       "journal-article                         22,956,661  56.98%  \n",
       "book-chapter                             4,229,448  85.16%  \n",
       "proceedings-article                        482,620  14.31%  \n",
       "component                                        2  18.18%  \n",
       "dataset                                         30   0.04%  "
      ]
     },
     "execution_count": 23,
     "metadata": {},
     "output_type": "execute_result"
    }
   ],
   "source": [
    "printmd('### Work counts by type')\n",
    "\n",
    "df_temp = (\n",
    "    df_summary_by_type_and_publisher_work_counts.reset_index().groupby('type')\n",
    "    .sum().sort_values(by='work_count', ascending=False).head()\n",
    ")\n",
    "\n",
    "def show_oa_ref_work_percentages_by_type(df):\n",
    "    for work_type, has_nonzero_reference_count_crossref, has_nonzero_reference_count_oa in zip(\n",
    "        df.index,\n",
    "        df['has_nonzero_reference_count_crossref'],\n",
    "        df['has_nonzero_reference_count_oa']\n",
    "    ):\n",
    "        if not has_nonzero_reference_count_crossref:\n",
    "            continue\n",
    "        printmd('Out of the *{:,}* works of type *{:}* with references in Crossref, **{:.2f}%** are open (*{:,}*).'.format(\n",
    "            int(has_nonzero_reference_count_crossref),\n",
    "            work_type,\n",
    "            100.0 * has_nonzero_reference_count_oa / has_nonzero_reference_count_crossref,\n",
    "            int(has_nonzero_reference_count_oa)\n",
    "        ))\n",
    "\n",
    "df_temp['p_oa'] = (\n",
    "    100.0 * df_temp['has_nonzero_reference_count_oa'] / df_temp['has_nonzero_reference_count_crossref']\n",
    ")\n",
    "\n",
    "show_oa_ref_work_percentages_by_type(df_temp)\n",
    "\n",
    "format_columns(df_temp)"
   ]
  },
  {
   "cell_type": "code",
   "execution_count": 24,
   "metadata": {},
   "outputs": [
    {
     "data": {
      "text/markdown": [
       "### Journal vs non-journal-article type"
      ],
      "text/plain": [
       "<IPython.core.display.Markdown object>"
      ]
     },
     "metadata": {},
     "output_type": "display_data"
    },
    {
     "data": {
      "text/markdown": [
       "Out of the *40,291,216* works of type *journal-article* with references in Crossref, **56.98%** are open (*22,956,661*)."
      ],
      "text/plain": [
       "<IPython.core.display.Markdown object>"
      ]
     },
     "metadata": {},
     "output_type": "display_data"
    },
    {
     "data": {
      "text/markdown": [
       "Out of the *8,701,109* works of type *non-journal-article* with references in Crossref, **57.36%** are open (*4,990,753*)."
      ],
      "text/plain": [
       "<IPython.core.display.Markdown object>"
      ]
     },
     "metadata": {},
     "output_type": "display_data"
    },
    {
     "data": {
      "text/html": [
       "<div>\n",
       "<style scoped>\n",
       "    .dataframe tbody tr th:only-of-type {\n",
       "        vertical-align: middle;\n",
       "    }\n",
       "\n",
       "    .dataframe tbody tr th {\n",
       "        vertical-align: top;\n",
       "    }\n",
       "\n",
       "    .dataframe thead th {\n",
       "        text-align: right;\n",
       "    }\n",
       "</style>\n",
       "<table border=\"1\" class=\"dataframe\">\n",
       "  <thead>\n",
       "    <tr style=\"text-align: right;\">\n",
       "      <th></th>\n",
       "      <th>work_count</th>\n",
       "      <th>has_nonzero_reference_count_crossref</th>\n",
       "      <th>has_nonzero_reference_count_oa</th>\n",
       "      <th>p_oa</th>\n",
       "    </tr>\n",
       "    <tr>\n",
       "      <th>type</th>\n",
       "      <th></th>\n",
       "      <th></th>\n",
       "      <th></th>\n",
       "      <th></th>\n",
       "    </tr>\n",
       "  </thead>\n",
       "  <tbody>\n",
       "    <tr>\n",
       "      <th>journal-article</th>\n",
       "      <td>79,960,807</td>\n",
       "      <td>40,291,216</td>\n",
       "      <td>22,956,661</td>\n",
       "      <td>56.98%</td>\n",
       "    </tr>\n",
       "    <tr>\n",
       "      <th>non-journal-article</th>\n",
       "      <td>29,777,841</td>\n",
       "      <td>8,701,109</td>\n",
       "      <td>4,990,753</td>\n",
       "      <td>57.36%</td>\n",
       "    </tr>\n",
       "  </tbody>\n",
       "</table>\n",
       "</div>"
      ],
      "text/plain": [
       "                     work_count has_nonzero_reference_count_crossref  \\\n",
       "type                                                                   \n",
       "journal-article      79,960,807                           40,291,216   \n",
       "non-journal-article  29,777,841                            8,701,109   \n",
       "\n",
       "                    has_nonzero_reference_count_oa    p_oa  \n",
       "type                                                        \n",
       "journal-article                         22,956,661  56.98%  \n",
       "non-journal-article                      4,990,753  57.36%  "
      ]
     },
     "execution_count": 24,
     "metadata": {},
     "output_type": "execute_result"
    }
   ],
   "source": [
    "printmd('### Journal vs non-journal-article type')\n",
    "\n",
    "def type_to_journal_non_journal_article(df):\n",
    "    df = df.copy()\n",
    "    df['type'] = df['type'].map(lambda x: 'non-journal-article' if x != 'journal-article' else x)\n",
    "    return df\n",
    "\n",
    "df_temp = (\n",
    "    type_to_journal_non_journal_article(\n",
    "        df_summary_by_type_and_publisher_work_counts.reset_index()\n",
    "    )\n",
    "    .groupby('type')\n",
    "    .sum().sort_values(by='work_count', ascending=False).head()\n",
    ")\n",
    "\n",
    "df_temp['p_oa'] = 100.0 * df_temp['has_nonzero_reference_count_oa'] / df_temp['has_nonzero_reference_count_crossref']\n",
    "\n",
    "show_oa_ref_work_percentages_by_type(df_temp)\n",
    "\n",
    "format_columns(df_temp)"
   ]
  },
  {
   "cell_type": "code",
   "execution_count": 25,
   "metadata": {},
   "outputs": [
    {
     "data": {
      "text/markdown": [
       "### By publisher"
      ],
      "text/plain": [
       "<IPython.core.display.Markdown object>"
      ]
     },
     "metadata": {},
     "output_type": "display_data"
    },
    {
     "data": {
      "text/html": [
       "<div>\n",
       "<style scoped>\n",
       "    .dataframe tbody tr th:only-of-type {\n",
       "        vertical-align: middle;\n",
       "    }\n",
       "\n",
       "    .dataframe tbody tr th {\n",
       "        vertical-align: top;\n",
       "    }\n",
       "\n",
       "    .dataframe thead th {\n",
       "        text-align: right;\n",
       "    }\n",
       "</style>\n",
       "<table border=\"1\" class=\"dataframe\">\n",
       "  <thead>\n",
       "    <tr style=\"text-align: right;\">\n",
       "      <th></th>\n",
       "      <th></th>\n",
       "      <th>work_count</th>\n",
       "      <th>has_nonzero_reference_count_crossref</th>\n",
       "      <th>has_nonzero_reference_count_oa</th>\n",
       "      <th>p_oa</th>\n",
       "    </tr>\n",
       "    <tr>\n",
       "      <th>type</th>\n",
       "      <th>publisher</th>\n",
       "      <th></th>\n",
       "      <th></th>\n",
       "      <th></th>\n",
       "      <th></th>\n",
       "    </tr>\n",
       "  </thead>\n",
       "  <tbody>\n",
       "    <tr>\n",
       "      <th rowspan=\"5\" valign=\"top\">journal-article</th>\n",
       "      <th>Elsevier BV</th>\n",
       "      <td>16,339,851</td>\n",
       "      <td>11,285,796</td>\n",
       "      <td>0</td>\n",
       "      <td>0.00%</td>\n",
       "    </tr>\n",
       "    <tr>\n",
       "      <th>Wiley</th>\n",
       "      <td>8,047,211</td>\n",
       "      <td>5,583,310</td>\n",
       "      <td>5,583,310</td>\n",
       "      <td>100.00%</td>\n",
       "    </tr>\n",
       "    <tr>\n",
       "      <th>Springer Science and Business Media LLC</th>\n",
       "      <td>4,464,416</td>\n",
       "      <td>3,469,369</td>\n",
       "      <td>3,465,542</td>\n",
       "      <td>99.89%</td>\n",
       "    </tr>\n",
       "    <tr>\n",
       "      <th>Informa UK Limited</th>\n",
       "      <td>4,281,233</td>\n",
       "      <td>2,792,654</td>\n",
       "      <td>2,776,404</td>\n",
       "      <td>99.42%</td>\n",
       "    </tr>\n",
       "    <tr>\n",
       "      <th>Springer Nature</th>\n",
       "      <td>3,281,604</td>\n",
       "      <td>1,846,267</td>\n",
       "      <td>1,844,492</td>\n",
       "      <td>99.90%</td>\n",
       "    </tr>\n",
       "    <tr>\n",
       "      <th rowspan=\"5\" valign=\"top\">non-journal-article</th>\n",
       "      <th>Wiley</th>\n",
       "      <td>367,169</td>\n",
       "      <td>3,661</td>\n",
       "      <td>3,661</td>\n",
       "      <td>100.00%</td>\n",
       "    </tr>\n",
       "    <tr>\n",
       "      <th>Springer Nature</th>\n",
       "      <td>21,202</td>\n",
       "      <td>0</td>\n",
       "      <td>0</td>\n",
       "      <td>nan%</td>\n",
       "    </tr>\n",
       "    <tr>\n",
       "      <th>Informa UK Limited</th>\n",
       "      <td>3,907</td>\n",
       "      <td>0</td>\n",
       "      <td>0</td>\n",
       "      <td>nan%</td>\n",
       "    </tr>\n",
       "    <tr>\n",
       "      <th>Elsevier BV</th>\n",
       "      <td>2,763</td>\n",
       "      <td>0</td>\n",
       "      <td>0</td>\n",
       "      <td>nan%</td>\n",
       "    </tr>\n",
       "    <tr>\n",
       "      <th>Springer Science and Business Media LLC</th>\n",
       "      <td>552</td>\n",
       "      <td>0</td>\n",
       "      <td>0</td>\n",
       "      <td>nan%</td>\n",
       "    </tr>\n",
       "  </tbody>\n",
       "</table>\n",
       "</div>"
      ],
      "text/plain": [
       "                                                             work_count  \\\n",
       "type                publisher                                             \n",
       "journal-article     Elsevier BV                              16,339,851   \n",
       "                    Wiley                                     8,047,211   \n",
       "                    Springer Science and Business Media LLC   4,464,416   \n",
       "                    Informa UK Limited                        4,281,233   \n",
       "                    Springer Nature                           3,281,604   \n",
       "non-journal-article Wiley                                       367,169   \n",
       "                    Springer Nature                              21,202   \n",
       "                    Informa UK Limited                            3,907   \n",
       "                    Elsevier BV                                   2,763   \n",
       "                    Springer Science and Business Media LLC         552   \n",
       "\n",
       "                                                            has_nonzero_reference_count_crossref  \\\n",
       "type                publisher                                                                      \n",
       "journal-article     Elsevier BV                                                       11,285,796   \n",
       "                    Wiley                                                              5,583,310   \n",
       "                    Springer Science and Business Media LLC                            3,469,369   \n",
       "                    Informa UK Limited                                                 2,792,654   \n",
       "                    Springer Nature                                                    1,846,267   \n",
       "non-journal-article Wiley                                                                  3,661   \n",
       "                    Springer Nature                                                            0   \n",
       "                    Informa UK Limited                                                         0   \n",
       "                    Elsevier BV                                                                0   \n",
       "                    Springer Science and Business Media LLC                                    0   \n",
       "\n",
       "                                                            has_nonzero_reference_count_oa  \\\n",
       "type                publisher                                                                \n",
       "journal-article     Elsevier BV                                                          0   \n",
       "                    Wiley                                                        5,583,310   \n",
       "                    Springer Science and Business Media LLC                      3,465,542   \n",
       "                    Informa UK Limited                                           2,776,404   \n",
       "                    Springer Nature                                              1,844,492   \n",
       "non-journal-article Wiley                                                            3,661   \n",
       "                    Springer Nature                                                      0   \n",
       "                    Informa UK Limited                                                   0   \n",
       "                    Elsevier BV                                                          0   \n",
       "                    Springer Science and Business Media LLC                              0   \n",
       "\n",
       "                                                                p_oa  \n",
       "type                publisher                                         \n",
       "journal-article     Elsevier BV                                0.00%  \n",
       "                    Wiley                                    100.00%  \n",
       "                    Springer Science and Business Media LLC   99.89%  \n",
       "                    Informa UK Limited                        99.42%  \n",
       "                    Springer Nature                           99.90%  \n",
       "non-journal-article Wiley                                    100.00%  \n",
       "                    Springer Nature                             nan%  \n",
       "                    Informa UK Limited                          nan%  \n",
       "                    Elsevier BV                                 nan%  \n",
       "                    Springer Science and Business Media LLC     nan%  "
      ]
     },
     "execution_count": 25,
     "metadata": {},
     "output_type": "execute_result"
    }
   ],
   "source": [
    "printmd('### By publisher')\n",
    "\n",
    "def select_top_publishers(df, count=5):\n",
    "    top_publishers = (\n",
    "        df.groupby('publisher').sum()\n",
    "        .sort_values(by='work_count', ascending=False)\n",
    "        .index.values\n",
    "    )\n",
    "    return df[df['publisher'].isin(top_publishers[:count])]\n",
    "\n",
    "df_temp = (\n",
    "    type_to_journal_non_journal_article(\n",
    "        select_top_publishers(df_summary_by_type_and_publisher_work_counts.reset_index())\n",
    "    )\n",
    "    .groupby(['type', 'publisher'])\n",
    "    .sum().sort_values(by='work_count', ascending=False)\n",
    ")\n",
    "\n",
    "df_temp['p_oa'] = (\n",
    "    100.0 * df_temp['has_nonzero_reference_count_oa'] / df_temp['has_nonzero_reference_count_crossref']\n",
    ")\n",
    "\n",
    "format_columns(df_temp)"
   ]
  },
  {
   "cell_type": "code",
   "execution_count": 26,
   "metadata": {},
   "outputs": [
    {
     "data": {
      "text/markdown": [
       "### By normalised publisher"
      ],
      "text/plain": [
       "<IPython.core.display.Markdown object>"
      ]
     },
     "metadata": {},
     "output_type": "display_data"
    },
    {
     "data": {
      "text/html": [
       "<div>\n",
       "<style scoped>\n",
       "    .dataframe tbody tr th:only-of-type {\n",
       "        vertical-align: middle;\n",
       "    }\n",
       "\n",
       "    .dataframe tbody tr th {\n",
       "        vertical-align: top;\n",
       "    }\n",
       "\n",
       "    .dataframe thead th {\n",
       "        text-align: right;\n",
       "    }\n",
       "</style>\n",
       "<table border=\"1\" class=\"dataframe\">\n",
       "  <thead>\n",
       "    <tr style=\"text-align: right;\">\n",
       "      <th></th>\n",
       "      <th></th>\n",
       "      <th>work_count</th>\n",
       "      <th>has_nonzero_reference_count_crossref</th>\n",
       "      <th>has_nonzero_reference_count_oa</th>\n",
       "      <th>p_oa</th>\n",
       "    </tr>\n",
       "    <tr>\n",
       "      <th>type</th>\n",
       "      <th>publisher</th>\n",
       "      <th></th>\n",
       "      <th></th>\n",
       "      <th></th>\n",
       "      <th></th>\n",
       "    </tr>\n",
       "  </thead>\n",
       "  <tbody>\n",
       "    <tr>\n",
       "      <th rowspan=\"5\" valign=\"top\">journal-article</th>\n",
       "      <th>Elsevier (all)</th>\n",
       "      <td>16,339,851</td>\n",
       "      <td>11,285,796</td>\n",
       "      <td>0</td>\n",
       "      <td>0.00%</td>\n",
       "    </tr>\n",
       "    <tr>\n",
       "      <th>Wiley</th>\n",
       "      <td>8,047,211</td>\n",
       "      <td>5,583,310</td>\n",
       "      <td>5,583,310</td>\n",
       "      <td>100.00%</td>\n",
       "    </tr>\n",
       "    <tr>\n",
       "      <th>Springer Science and Business Media LLC</th>\n",
       "      <td>4,464,416</td>\n",
       "      <td>3,469,369</td>\n",
       "      <td>3,465,542</td>\n",
       "      <td>99.89%</td>\n",
       "    </tr>\n",
       "    <tr>\n",
       "      <th>Informa UK Limited</th>\n",
       "      <td>4,281,233</td>\n",
       "      <td>2,792,654</td>\n",
       "      <td>2,776,404</td>\n",
       "      <td>99.42%</td>\n",
       "    </tr>\n",
       "    <tr>\n",
       "      <th>Springer Nature</th>\n",
       "      <td>3,281,604</td>\n",
       "      <td>1,846,267</td>\n",
       "      <td>1,844,492</td>\n",
       "      <td>99.90%</td>\n",
       "    </tr>\n",
       "    <tr>\n",
       "      <th rowspan=\"5\" valign=\"top\">non-journal-article</th>\n",
       "      <th>Elsevier (all)</th>\n",
       "      <td>1,210,213</td>\n",
       "      <td>675,293</td>\n",
       "      <td>421</td>\n",
       "      <td>0.06%</td>\n",
       "    </tr>\n",
       "    <tr>\n",
       "      <th>Wiley</th>\n",
       "      <td>367,169</td>\n",
       "      <td>3,661</td>\n",
       "      <td>3,661</td>\n",
       "      <td>100.00%</td>\n",
       "    </tr>\n",
       "    <tr>\n",
       "      <th>Springer Nature</th>\n",
       "      <td>21,202</td>\n",
       "      <td>0</td>\n",
       "      <td>0</td>\n",
       "      <td>nan%</td>\n",
       "    </tr>\n",
       "    <tr>\n",
       "      <th>Informa UK Limited</th>\n",
       "      <td>3,907</td>\n",
       "      <td>0</td>\n",
       "      <td>0</td>\n",
       "      <td>nan%</td>\n",
       "    </tr>\n",
       "    <tr>\n",
       "      <th>Springer Science and Business Media LLC</th>\n",
       "      <td>552</td>\n",
       "      <td>0</td>\n",
       "      <td>0</td>\n",
       "      <td>nan%</td>\n",
       "    </tr>\n",
       "  </tbody>\n",
       "</table>\n",
       "</div>"
      ],
      "text/plain": [
       "                                                             work_count  \\\n",
       "type                publisher                                             \n",
       "journal-article     Elsevier (all)                           16,339,851   \n",
       "                    Wiley                                     8,047,211   \n",
       "                    Springer Science and Business Media LLC   4,464,416   \n",
       "                    Informa UK Limited                        4,281,233   \n",
       "                    Springer Nature                           3,281,604   \n",
       "non-journal-article Elsevier (all)                            1,210,213   \n",
       "                    Wiley                                       367,169   \n",
       "                    Springer Nature                              21,202   \n",
       "                    Informa UK Limited                            3,907   \n",
       "                    Springer Science and Business Media LLC         552   \n",
       "\n",
       "                                                            has_nonzero_reference_count_crossref  \\\n",
       "type                publisher                                                                      \n",
       "journal-article     Elsevier (all)                                                    11,285,796   \n",
       "                    Wiley                                                              5,583,310   \n",
       "                    Springer Science and Business Media LLC                            3,469,369   \n",
       "                    Informa UK Limited                                                 2,792,654   \n",
       "                    Springer Nature                                                    1,846,267   \n",
       "non-journal-article Elsevier (all)                                                       675,293   \n",
       "                    Wiley                                                                  3,661   \n",
       "                    Springer Nature                                                            0   \n",
       "                    Informa UK Limited                                                         0   \n",
       "                    Springer Science and Business Media LLC                                    0   \n",
       "\n",
       "                                                            has_nonzero_reference_count_oa  \\\n",
       "type                publisher                                                                \n",
       "journal-article     Elsevier (all)                                                       0   \n",
       "                    Wiley                                                        5,583,310   \n",
       "                    Springer Science and Business Media LLC                      3,465,542   \n",
       "                    Informa UK Limited                                           2,776,404   \n",
       "                    Springer Nature                                              1,844,492   \n",
       "non-journal-article Elsevier (all)                                                     421   \n",
       "                    Wiley                                                            3,661   \n",
       "                    Springer Nature                                                      0   \n",
       "                    Informa UK Limited                                                   0   \n",
       "                    Springer Science and Business Media LLC                              0   \n",
       "\n",
       "                                                                p_oa  \n",
       "type                publisher                                         \n",
       "journal-article     Elsevier (all)                             0.00%  \n",
       "                    Wiley                                    100.00%  \n",
       "                    Springer Science and Business Media LLC   99.89%  \n",
       "                    Informa UK Limited                        99.42%  \n",
       "                    Springer Nature                           99.90%  \n",
       "non-journal-article Elsevier (all)                             0.06%  \n",
       "                    Wiley                                    100.00%  \n",
       "                    Springer Nature                             nan%  \n",
       "                    Informa UK Limited                          nan%  \n",
       "                    Springer Science and Business Media LLC     nan%  "
      ]
     },
     "execution_count": 26,
     "metadata": {},
     "output_type": "execute_result"
    }
   ],
   "source": [
    "printmd('### By normalised publisher')\n",
    "\n",
    "def normalise_publisher(df):\n",
    "    elsevier_names = [\n",
    "        s for s in df['publisher'].unique()\n",
    "        if not pd.isnull(s) and 'elsevier' in s.lower()\n",
    "    ]\n",
    "    return df.replace({\n",
    "        'publisher': {s: 'Elsevier (all)' for s in elsevier_names}\n",
    "    })\n",
    "\n",
    "df_temp = (\n",
    "    select_top_publishers(normalise_publisher(type_to_journal_non_journal_article(\n",
    "        df_summary_by_type_and_publisher_work_counts.reset_index()\n",
    "    )))\n",
    "    .groupby(['type', 'publisher'])\n",
    "    .sum().sort_values(by='work_count', ascending=False)\n",
    ")\n",
    "\n",
    "df_temp['p_oa'] = (\n",
    "    100.0 * df_temp['has_nonzero_reference_count_oa'] / df_temp['has_nonzero_reference_count_crossref']\n",
    ")\n",
    "\n",
    "format_columns(df_temp)"
   ]
  },
  {
   "cell_type": "code",
   "execution_count": 27,
   "metadata": {},
   "outputs": [
    {
     "data": {
      "text/markdown": [
       "### Sanity check, the grouped summary should equal the ungrouped summary"
      ],
      "text/plain": [
       "<IPython.core.display.Markdown object>"
      ]
     },
     "metadata": {},
     "output_type": "display_data"
    },
    {
     "data": {
      "text/html": [
       "<div>\n",
       "<style scoped>\n",
       "    .dataframe tbody tr th:only-of-type {\n",
       "        vertical-align: middle;\n",
       "    }\n",
       "\n",
       "    .dataframe tbody tr th {\n",
       "        vertical-align: top;\n",
       "    }\n",
       "\n",
       "    .dataframe thead th {\n",
       "        text-align: right;\n",
       "    }\n",
       "</style>\n",
       "<table border=\"1\" class=\"dataframe\">\n",
       "  <thead>\n",
       "    <tr style=\"text-align: right;\">\n",
       "      <th></th>\n",
       "      <th>sum</th>\n",
       "    </tr>\n",
       "  </thead>\n",
       "  <tbody>\n",
       "    <tr>\n",
       "      <th>reference_count_crossref</th>\n",
       "      <td>1,446,365,933</td>\n",
       "    </tr>\n",
       "    <tr>\n",
       "      <th>reference_count_oa</th>\n",
       "      <td>851,098,649</td>\n",
       "    </tr>\n",
       "  </tbody>\n",
       "</table>\n",
       "</div>"
      ],
      "text/plain": [
       "                                    sum\n",
       "reference_count_crossref  1,446,365,933\n",
       "reference_count_oa          851,098,649"
      ]
     },
     "execution_count": 27,
     "metadata": {},
     "output_type": "execute_result"
    }
   ],
   "source": [
    "printmd('### Sanity check, the grouped summary should equal the ungrouped summary')\n",
    "\n",
    "df_summary_by_type_and_publisher_sums = df_summary_by_type_and_publisher[\n",
    "    df_summary_by_type_and_publisher['stat'] == 'sum'\n",
    "]\n",
    "total_reference_count_according_to_crossref = df_summary_by_type_and_publisher_sums['reference_count_crossref'].sum()\n",
    "assert total_reference_count_according_to_crossref == df_summary['reference_count']['sum']\n",
    "(\n",
    "    df_summary_by_type_and_publisher_sums[['reference_count_crossref', 'reference_count_oa']]\n",
    "    .sum()\n",
    "    .map(format_count)\n",
    "    .to_frame('sum')\n",
    ")"
   ]
  },
  {
   "cell_type": "code",
   "execution_count": 28,
   "metadata": {},
   "outputs": [
    {
     "data": {
      "text/markdown": [
       "### Total references by type"
      ],
      "text/plain": [
       "<IPython.core.display.Markdown object>"
      ]
     },
     "metadata": {},
     "output_type": "display_data"
    },
    {
     "data": {
      "text/html": [
       "<div>\n",
       "<style scoped>\n",
       "    .dataframe tbody tr th:only-of-type {\n",
       "        vertical-align: middle;\n",
       "    }\n",
       "\n",
       "    .dataframe tbody tr th {\n",
       "        vertical-align: top;\n",
       "    }\n",
       "\n",
       "    .dataframe thead th {\n",
       "        text-align: right;\n",
       "    }\n",
       "</style>\n",
       "<table border=\"1\" class=\"dataframe\">\n",
       "  <thead>\n",
       "    <tr style=\"text-align: right;\">\n",
       "      <th></th>\n",
       "      <th>reference_count_crossref</th>\n",
       "      <th>reference_count_oa</th>\n",
       "      <th>p_oa</th>\n",
       "    </tr>\n",
       "    <tr>\n",
       "      <th>type</th>\n",
       "      <th></th>\n",
       "      <th></th>\n",
       "      <th></th>\n",
       "    </tr>\n",
       "  </thead>\n",
       "  <tbody>\n",
       "    <tr>\n",
       "      <th>journal-article</th>\n",
       "      <td>1,199,588,788</td>\n",
       "      <td>685,022,593</td>\n",
       "      <td>57.10%</td>\n",
       "    </tr>\n",
       "    <tr>\n",
       "      <th>book-chapter</th>\n",
       "      <td>190,323,744</td>\n",
       "      <td>147,448,104</td>\n",
       "      <td>77.47%</td>\n",
       "    </tr>\n",
       "    <tr>\n",
       "      <th>proceedings-article</th>\n",
       "      <td>44,855,360</td>\n",
       "      <td>7,342,649</td>\n",
       "      <td>16.37%</td>\n",
       "    </tr>\n",
       "    <tr>\n",
       "      <th>reference-entry</th>\n",
       "      <td>6,599,007</td>\n",
       "      <td>6,598,789</td>\n",
       "      <td>100.00%</td>\n",
       "    </tr>\n",
       "    <tr>\n",
       "      <th>posted-content</th>\n",
       "      <td>2,706,066</td>\n",
       "      <td>2,705,849</td>\n",
       "      <td>99.99%</td>\n",
       "    </tr>\n",
       "  </tbody>\n",
       "</table>\n",
       "</div>"
      ],
      "text/plain": [
       "                    reference_count_crossref reference_count_oa     p_oa\n",
       "type                                                                    \n",
       "journal-article                1,199,588,788        685,022,593   57.10%\n",
       "book-chapter                     190,323,744        147,448,104   77.47%\n",
       "proceedings-article               44,855,360          7,342,649   16.37%\n",
       "reference-entry                    6,599,007          6,598,789  100.00%\n",
       "posted-content                     2,706,066          2,705,849   99.99%"
      ]
     },
     "execution_count": 28,
     "metadata": {},
     "output_type": "execute_result"
    }
   ],
   "source": [
    "printmd('### Total references by type')\n",
    "\n",
    "df_temp = (\n",
    "    df_summary_by_type_and_publisher_sums.groupby('type')\n",
    "    [['reference_count_crossref', 'reference_count_oa']]\n",
    "    .sum()\n",
    "    .sort_values('reference_count_crossref', ascending=False)\n",
    "    .head()\n",
    ")\n",
    "\n",
    "df_temp['p_oa'] = (\n",
    "    100.0 * df_temp['reference_count_oa'] / df_temp['reference_count_crossref']\n",
    ")\n",
    "\n",
    "format_columns(df_temp)"
   ]
  },
  {
   "cell_type": "code",
   "execution_count": 29,
   "metadata": {},
   "outputs": [
    {
     "data": {
      "text/markdown": [
       "### Publishers with the highest amount of references"
      ],
      "text/plain": [
       "<IPython.core.display.Markdown object>"
      ]
     },
     "metadata": {},
     "output_type": "display_data"
    },
    {
     "data": {
      "text/html": [
       "<div>\n",
       "<style scoped>\n",
       "    .dataframe tbody tr th:only-of-type {\n",
       "        vertical-align: middle;\n",
       "    }\n",
       "\n",
       "    .dataframe tbody tr th {\n",
       "        vertical-align: top;\n",
       "    }\n",
       "\n",
       "    .dataframe thead th {\n",
       "        text-align: right;\n",
       "    }\n",
       "</style>\n",
       "<table border=\"1\" class=\"dataframe\">\n",
       "  <thead>\n",
       "    <tr style=\"text-align: right;\">\n",
       "      <th></th>\n",
       "      <th>reference_count_crossref</th>\n",
       "      <th>reference_count_oa</th>\n",
       "      <th>p_oa</th>\n",
       "    </tr>\n",
       "    <tr>\n",
       "      <th>publisher</th>\n",
       "      <th></th>\n",
       "      <th></th>\n",
       "      <th></th>\n",
       "    </tr>\n",
       "  </thead>\n",
       "  <tbody>\n",
       "    <tr>\n",
       "      <th>Elsevier BV</th>\n",
       "      <td>355,713,781</td>\n",
       "      <td>0</td>\n",
       "      <td>0.00%</td>\n",
       "    </tr>\n",
       "    <tr>\n",
       "      <th>Wiley</th>\n",
       "      <td>155,877,856</td>\n",
       "      <td>155,877,856</td>\n",
       "      <td>100.00%</td>\n",
       "    </tr>\n",
       "    <tr>\n",
       "      <th>Springer Science and Business Media LLC</th>\n",
       "      <td>100,336,210</td>\n",
       "      <td>100,193,985</td>\n",
       "      <td>99.86%</td>\n",
       "    </tr>\n",
       "    <tr>\n",
       "      <th>Informa UK Limited</th>\n",
       "      <td>81,434,261</td>\n",
       "      <td>81,057,438</td>\n",
       "      <td>99.54%</td>\n",
       "    </tr>\n",
       "    <tr>\n",
       "      <th>Springer Nature</th>\n",
       "      <td>56,198,393</td>\n",
       "      <td>56,129,361</td>\n",
       "      <td>99.88%</td>\n",
       "    </tr>\n",
       "  </tbody>\n",
       "</table>\n",
       "</div>"
      ],
      "text/plain": [
       "                                        reference_count_crossref  \\\n",
       "publisher                                                          \n",
       "Elsevier BV                                          355,713,781   \n",
       "Wiley                                                155,877,856   \n",
       "Springer Science and Business Media LLC              100,336,210   \n",
       "Informa UK Limited                                    81,434,261   \n",
       "Springer Nature                                       56,198,393   \n",
       "\n",
       "                                        reference_count_oa     p_oa  \n",
       "publisher                                                            \n",
       "Elsevier BV                                              0    0.00%  \n",
       "Wiley                                          155,877,856  100.00%  \n",
       "Springer Science and Business Media LLC        100,193,985   99.86%  \n",
       "Informa UK Limited                              81,057,438   99.54%  \n",
       "Springer Nature                                 56,129,361   99.88%  "
      ]
     },
     "execution_count": 29,
     "metadata": {},
     "output_type": "execute_result"
    }
   ],
   "source": [
    "printmd('### Publishers with the highest amount of references')\n",
    "\n",
    "df_temp = (\n",
    "    df_summary_by_type_and_publisher_sums.groupby('publisher')\n",
    "    .sum()[['reference_count_crossref', 'reference_count_oa']]\n",
    "    .sort_values(by='reference_count_crossref', ascending=False)\n",
    ").head()\n",
    "\n",
    "df_temp['p_oa'] = (\n",
    "    100.0 * df_temp['reference_count_oa'] / df_temp['reference_count_crossref']\n",
    ")\n",
    "\n",
    "format_columns(df_temp)"
   ]
  },
  {
   "cell_type": "code",
   "execution_count": 30,
   "metadata": {},
   "outputs": [
    {
     "data": {
      "text/markdown": [
       "### Elsevier uses mutliple names, treat them as one"
      ],
      "text/plain": [
       "<IPython.core.display.Markdown object>"
      ]
     },
     "metadata": {},
     "output_type": "display_data"
    },
    {
     "data": {
      "text/markdown": [
       "* Elsevier\n",
       "* Elsevier Inc.\n",
       "* Elsevier BV\n",
       "* \"Elsevier\",\n",
       "* Elsevier Masson (programme ReLIRE)\n",
       "* Elsevier Pub. Co.\n",
       "* Elsevier Pub. Co.,\n",
       "* Elsevier,\n",
       "* Publishing company \"Elsevier,\",\n",
       "* Elsevier IFAC\n",
       "* Elsevier, IFAC\n",
       "* IFAC, Elsevier"
      ],
      "text/plain": [
       "<IPython.core.display.Markdown object>"
      ]
     },
     "metadata": {},
     "output_type": "display_data"
    }
   ],
   "source": [
    "printmd('### Elsevier uses mutliple names, treat them as one')\n",
    "\n",
    "elsevier_names = [\n",
    "    s for s in df_summary_by_type_and_publisher_sums['publisher'].unique()\n",
    "    if not pd.isnull(s) and 'elsevier' in s.lower()\n",
    "]\n",
    "printmd('* %s' % '\\n* '.join(elsevier_names))\n",
    "df_summary_by_type_and_publisher_sums_merged_publisher = (\n",
    "    df_summary_by_type_and_publisher_sums.replace({\n",
    "        'publisher': {s: 'Elsevier (all)' for s in elsevier_names}\n",
    "    })\n",
    ")"
   ]
  },
  {
   "cell_type": "code",
   "execution_count": 31,
   "metadata": {},
   "outputs": [
    {
     "data": {
      "text/markdown": [
       "### Publishers with the highest amount of references - this time with merged publisher names"
      ],
      "text/plain": [
       "<IPython.core.display.Markdown object>"
      ]
     },
     "metadata": {},
     "output_type": "display_data"
    },
    {
     "data": {
      "text/html": [
       "<div>\n",
       "<style scoped>\n",
       "    .dataframe tbody tr th:only-of-type {\n",
       "        vertical-align: middle;\n",
       "    }\n",
       "\n",
       "    .dataframe tbody tr th {\n",
       "        vertical-align: top;\n",
       "    }\n",
       "\n",
       "    .dataframe thead th {\n",
       "        text-align: right;\n",
       "    }\n",
       "</style>\n",
       "<table border=\"1\" class=\"dataframe\">\n",
       "  <thead>\n",
       "    <tr style=\"text-align: right;\">\n",
       "      <th></th>\n",
       "      <th>reference_count_crossref</th>\n",
       "      <th>reference_count_oa</th>\n",
       "      <th>p_oa</th>\n",
       "    </tr>\n",
       "    <tr>\n",
       "      <th>publisher</th>\n",
       "      <th></th>\n",
       "      <th></th>\n",
       "      <th></th>\n",
       "    </tr>\n",
       "  </thead>\n",
       "  <tbody>\n",
       "    <tr>\n",
       "      <th>Elsevier (all)</th>\n",
       "      <td>396,031,893</td>\n",
       "      <td>14,984</td>\n",
       "      <td>0.00%</td>\n",
       "    </tr>\n",
       "    <tr>\n",
       "      <th>Wiley</th>\n",
       "      <td>155,877,856</td>\n",
       "      <td>155,877,856</td>\n",
       "      <td>100.00%</td>\n",
       "    </tr>\n",
       "    <tr>\n",
       "      <th>Springer Science and Business Media LLC</th>\n",
       "      <td>100,336,210</td>\n",
       "      <td>100,193,985</td>\n",
       "      <td>99.86%</td>\n",
       "    </tr>\n",
       "    <tr>\n",
       "      <th>Informa UK Limited</th>\n",
       "      <td>81,434,261</td>\n",
       "      <td>81,057,438</td>\n",
       "      <td>99.54%</td>\n",
       "    </tr>\n",
       "    <tr>\n",
       "      <th>Springer Nature</th>\n",
       "      <td>56,198,393</td>\n",
       "      <td>56,129,361</td>\n",
       "      <td>99.88%</td>\n",
       "    </tr>\n",
       "  </tbody>\n",
       "</table>\n",
       "</div>"
      ],
      "text/plain": [
       "                                        reference_count_crossref  \\\n",
       "publisher                                                          \n",
       "Elsevier (all)                                       396,031,893   \n",
       "Wiley                                                155,877,856   \n",
       "Springer Science and Business Media LLC              100,336,210   \n",
       "Informa UK Limited                                    81,434,261   \n",
       "Springer Nature                                       56,198,393   \n",
       "\n",
       "                                        reference_count_oa     p_oa  \n",
       "publisher                                                            \n",
       "Elsevier (all)                                      14,984    0.00%  \n",
       "Wiley                                          155,877,856  100.00%  \n",
       "Springer Science and Business Media LLC        100,193,985   99.86%  \n",
       "Informa UK Limited                              81,057,438   99.54%  \n",
       "Springer Nature                                 56,129,361   99.88%  "
      ]
     },
     "execution_count": 31,
     "metadata": {},
     "output_type": "execute_result"
    }
   ],
   "source": [
    "printmd('### Publishers with the highest amount of references - this time with merged publisher names')\n",
    "\n",
    "df_temp = (\n",
    "    df_summary_by_type_and_publisher_sums_merged_publisher.groupby('publisher')\n",
    "    .sum()[['reference_count_crossref', 'reference_count_oa']]\n",
    "    .sort_values(by='reference_count_crossref', ascending=False)\n",
    ").head()\n",
    "\n",
    "df_temp['p_oa'] = (\n",
    "    100.0 * df_temp['reference_count_oa'] / df_temp['reference_count_crossref']\n",
    ")\n",
    "\n",
    "format_columns(df_temp)"
   ]
  },
  {
   "cell_type": "code",
   "execution_count": 32,
   "metadata": {},
   "outputs": [
    {
     "data": {
      "text/markdown": [
       "### Publishers with the highest amount of references (by type) - this time with merged publisher names"
      ],
      "text/plain": [
       "<IPython.core.display.Markdown object>"
      ]
     },
     "metadata": {},
     "output_type": "display_data"
    },
    {
     "data": {
      "text/html": [
       "<div>\n",
       "<style scoped>\n",
       "    .dataframe tbody tr th:only-of-type {\n",
       "        vertical-align: middle;\n",
       "    }\n",
       "\n",
       "    .dataframe tbody tr th {\n",
       "        vertical-align: top;\n",
       "    }\n",
       "\n",
       "    .dataframe thead th {\n",
       "        text-align: right;\n",
       "    }\n",
       "</style>\n",
       "<table border=\"1\" class=\"dataframe\">\n",
       "  <thead>\n",
       "    <tr style=\"text-align: right;\">\n",
       "      <th></th>\n",
       "      <th></th>\n",
       "      <th>reference_count_crossref</th>\n",
       "      <th>reference_count_oa</th>\n",
       "      <th>p_oa</th>\n",
       "    </tr>\n",
       "    <tr>\n",
       "      <th>type</th>\n",
       "      <th>publisher</th>\n",
       "      <th></th>\n",
       "      <th></th>\n",
       "      <th></th>\n",
       "    </tr>\n",
       "  </thead>\n",
       "  <tbody>\n",
       "    <tr>\n",
       "      <th rowspan=\"5\" valign=\"top\">journal-article</th>\n",
       "      <th>Elsevier (all)</th>\n",
       "      <td>355,713,781</td>\n",
       "      <td>0</td>\n",
       "      <td>0.00%</td>\n",
       "    </tr>\n",
       "    <tr>\n",
       "      <th>Wiley</th>\n",
       "      <td>155,663,089</td>\n",
       "      <td>155,663,089</td>\n",
       "      <td>100.00%</td>\n",
       "    </tr>\n",
       "    <tr>\n",
       "      <th>Springer Science and Business Media LLC</th>\n",
       "      <td>100,336,210</td>\n",
       "      <td>100,193,985</td>\n",
       "      <td>99.86%</td>\n",
       "    </tr>\n",
       "    <tr>\n",
       "      <th>Informa UK Limited</th>\n",
       "      <td>81,434,261</td>\n",
       "      <td>81,057,438</td>\n",
       "      <td>99.54%</td>\n",
       "    </tr>\n",
       "    <tr>\n",
       "      <th>Springer Nature</th>\n",
       "      <td>56,198,393</td>\n",
       "      <td>56,129,361</td>\n",
       "      <td>99.88%</td>\n",
       "    </tr>\n",
       "  </tbody>\n",
       "</table>\n",
       "</div>"
      ],
      "text/plain": [
       "                                                        reference_count_crossref  \\\n",
       "type            publisher                                                          \n",
       "journal-article Elsevier (all)                                       355,713,781   \n",
       "                Wiley                                                155,663,089   \n",
       "                Springer Science and Business Media LLC              100,336,210   \n",
       "                Informa UK Limited                                    81,434,261   \n",
       "                Springer Nature                                       56,198,393   \n",
       "\n",
       "                                                        reference_count_oa  \\\n",
       "type            publisher                                                    \n",
       "journal-article Elsevier (all)                                           0   \n",
       "                Wiley                                          155,663,089   \n",
       "                Springer Science and Business Media LLC        100,193,985   \n",
       "                Informa UK Limited                              81,057,438   \n",
       "                Springer Nature                                 56,129,361   \n",
       "\n",
       "                                                            p_oa  \n",
       "type            publisher                                         \n",
       "journal-article Elsevier (all)                             0.00%  \n",
       "                Wiley                                    100.00%  \n",
       "                Springer Science and Business Media LLC   99.86%  \n",
       "                Informa UK Limited                        99.54%  \n",
       "                Springer Nature                           99.88%  "
      ]
     },
     "execution_count": 32,
     "metadata": {},
     "output_type": "execute_result"
    }
   ],
   "source": [
    "printmd('### Publishers with the highest amount of references (by type) - this time with merged publisher names')\n",
    "\n",
    "df_temp = (\n",
    "    df_summary_by_type_and_publisher_sums_merged_publisher.groupby(['type', 'publisher'])\n",
    "    .sum()[['reference_count_crossref', 'reference_count_oa']]\n",
    "    .sort_values(by='reference_count_crossref', ascending=False)\n",
    ").head()\n",
    "\n",
    "df_temp['p_oa'] = (\n",
    "    100.0 * df_temp['reference_count_oa'] / df_temp['reference_count_crossref']\n",
    ")\n",
    "\n",
    "format_columns(df_temp)"
   ]
  }
 ],
 "metadata": {
  "kernelspec": {
   "display_name": "Python 3",
   "language": "python",
   "name": "python3"
  },
  "language_info": {
   "codemirror_mode": {
    "name": "ipython",
    "version": 3
   },
   "file_extension": ".py",
   "mimetype": "text/x-python",
   "name": "python",
   "nbconvert_exporter": "python",
   "pygments_lexer": "ipython3",
   "version": "3.7.3"
  }
 },
 "nbformat": 4,
 "nbformat_minor": 2
}
