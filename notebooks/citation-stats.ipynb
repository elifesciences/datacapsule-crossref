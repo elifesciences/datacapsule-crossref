{
 "cells": [
  {
   "cell_type": "markdown",
   "metadata": {},
   "source": [
    "# Crossref Citation Stats\n",
    "\n",
    "## Data Provenance\n",
    "\n",
    "The data was retrieved in August 2018 via the [Crossref API](http://api.crossref.org/works) (the download should include everything at least up to 28 Aug 2018, having started on the 29th taking up to a week). ([The raw responses LZMA zipped](https://doi.org/10.6084/m9.figshare.7081037) take about 35 GB disk space)\n",
    "\n",
    "## Data Preprocessing\n",
    "\n",
    "The data was then preprocessed to get calculate some high level stats over the data which are then analysed in this notebook.\n",
    "\n",
    "The files are available here:\n",
    "* [crossref-works-summaries-stat.tsv](https://storage.googleapis.com/elife-ml/citations/by-date/2018-08-29/crossref-works-summaries-stat.tsv) - Overall summary stats\n",
    "* [crossref-works-summaries-by-type-and-publisher-stat.tsv.gz](https://storage.googleapis.com/elife-ml/citations/by-date/2018-08-29/crossref-works-summaries-by-type-and-publisher-stat.tsv.gz) - Summary stats grouped by _type_ and _publisher_ \n",
    "* [crossref-works-reference-stat.tsv.gz](https://storage.googleapis.com/elife-ml/citations/by-date/2018-08-29/crossref-works-reference-stat.tsv.gz) - Stats relating to open access (oa) references\n",
    "\n",
    "Related, but not used for the stats in this notebook:\n",
    "* [citation links](https://doi.org/10.6084/m9.figshare.7081091)\n",
    "\n",
    "## Notes\n",
    "\n",
    "The *reference\\_count* and *referenced\\_by\\_count* are counts provided by Crossref. *num\\_references* are the number of references that are actually accessible via the API (i.e. oa).\n",
    "\n",
    "## Scripts\n",
    "\n",
    "The scripts can be found in [this repository](https://github.com/elifesciences/datacapsule-crossref), see [README](https://github.com/elifesciences/datacapsule-crossref/blob/analysis/README.md). Using those scripts the data can be updated (but it will take some time to retrieve all of the Crossref data).\n",
    "\n",
    "Link to this notebook: https://elifesci.org/crossref-data-notebook"
   ]
  },
  {
   "cell_type": "code",
   "execution_count": 1,
   "metadata": {},
   "outputs": [],
   "source": [
    "%matplotlib inline"
   ]
  },
  {
   "cell_type": "code",
   "execution_count": 2,
   "metadata": {},
   "outputs": [],
   "source": [
    "import os\n",
    "import json\n",
    "import pandas as pd\n",
    "import matplotlib.pyplot as plt\n",
    "from matplotlib.ticker import FuncFormatter\n",
    "from IPython.display import Markdown, display"
   ]
  },
  {
   "cell_type": "code",
   "execution_count": 3,
   "metadata": {},
   "outputs": [],
   "source": [
    "plt.style.use('ggplot')\n",
    "\n",
    "def printmd(string):\n",
    "    display(Markdown(string))"
   ]
  },
  {
   "cell_type": "code",
   "execution_count": 4,
   "metadata": {},
   "outputs": [],
   "source": [
    "data_path = '../data'\n",
    "summary_stats_filename = 'crossref-works-summaries-stat.tsv'\n",
    "summary_by_type_and_publisher_stats_filename = 'crossref-works-summaries-by-type-and-publisher-stat.tsv.gz'\n",
    "reference_stats_filename = 'crossref-works-reference-stat.tsv.gz'"
   ]
  },
  {
   "cell_type": "code",
   "execution_count": 5,
   "metadata": {},
   "outputs": [
    {
     "data": {
      "text/html": [
       "<div>\n",
       "<style scoped>\n",
       "    .dataframe tbody tr th:only-of-type {\n",
       "        vertical-align: middle;\n",
       "    }\n",
       "\n",
       "    .dataframe tbody tr th {\n",
       "        vertical-align: top;\n",
       "    }\n",
       "\n",
       "    .dataframe thead th {\n",
       "        text-align: right;\n",
       "    }\n",
       "</style>\n",
       "<table border=\"1\" class=\"dataframe\">\n",
       "  <thead>\n",
       "    <tr style=\"text-align: right;\">\n",
       "      <th></th>\n",
       "      <th>doi</th>\n",
       "      <th>title</th>\n",
       "      <th>reference_count</th>\n",
       "      <th>referenced_by_count</th>\n",
       "      <th>created</th>\n",
       "      <th>type</th>\n",
       "      <th>publisher</th>\n",
       "      <th>container_title</th>\n",
       "      <th>author_count</th>\n",
       "      <th>first_subject_area</th>\n",
       "      <th>subject_areas</th>\n",
       "      <th>has_references</th>\n",
       "      <th>num_references</th>\n",
       "      <th>num_citations_without_doi</th>\n",
       "      <th>num_duplicate_citation_dois</th>\n",
       "      <th>cited_dois</th>\n",
       "      <th>debug</th>\n",
       "    </tr>\n",
       "    <tr>\n",
       "      <th>stat</th>\n",
       "      <th></th>\n",
       "      <th></th>\n",
       "      <th></th>\n",
       "      <th></th>\n",
       "      <th></th>\n",
       "      <th></th>\n",
       "      <th></th>\n",
       "      <th></th>\n",
       "      <th></th>\n",
       "      <th></th>\n",
       "      <th></th>\n",
       "      <th></th>\n",
       "      <th></th>\n",
       "      <th></th>\n",
       "      <th></th>\n",
       "      <th></th>\n",
       "      <th></th>\n",
       "    </tr>\n",
       "  </thead>\n",
       "  <tbody>\n",
       "    <tr>\n",
       "      <th>count</th>\n",
       "      <td>99999940.0</td>\n",
       "      <td>99999940.0</td>\n",
       "      <td>9.999994e+07</td>\n",
       "      <td>9.999994e+07</td>\n",
       "      <td>99999940.0</td>\n",
       "      <td>99999940.0</td>\n",
       "      <td>99999940.0</td>\n",
       "      <td>99999940.0</td>\n",
       "      <td>99999940.0</td>\n",
       "      <td>99999940.0</td>\n",
       "      <td>99999940.0</td>\n",
       "      <td>9.999994e+07</td>\n",
       "      <td>9.999994e+07</td>\n",
       "      <td>9.999994e+07</td>\n",
       "      <td>9.999994e+07</td>\n",
       "      <td>99999940.0</td>\n",
       "      <td>99999940.0</td>\n",
       "    </tr>\n",
       "    <tr>\n",
       "      <th>count_non_zero</th>\n",
       "      <td>NaN</td>\n",
       "      <td>NaN</td>\n",
       "      <td>4.085547e+07</td>\n",
       "      <td>4.239901e+07</td>\n",
       "      <td>NaN</td>\n",
       "      <td>NaN</td>\n",
       "      <td>NaN</td>\n",
       "      <td>NaN</td>\n",
       "      <td>NaN</td>\n",
       "      <td>NaN</td>\n",
       "      <td>NaN</td>\n",
       "      <td>2.122099e+07</td>\n",
       "      <td>2.122099e+07</td>\n",
       "      <td>1.954717e+07</td>\n",
       "      <td>5.649730e+05</td>\n",
       "      <td>NaN</td>\n",
       "      <td>NaN</td>\n",
       "    </tr>\n",
       "    <tr>\n",
       "      <th>count_numeric</th>\n",
       "      <td>NaN</td>\n",
       "      <td>NaN</td>\n",
       "      <td>9.999994e+07</td>\n",
       "      <td>9.999994e+07</td>\n",
       "      <td>NaN</td>\n",
       "      <td>NaN</td>\n",
       "      <td>NaN</td>\n",
       "      <td>NaN</td>\n",
       "      <td>NaN</td>\n",
       "      <td>NaN</td>\n",
       "      <td>NaN</td>\n",
       "      <td>9.999994e+07</td>\n",
       "      <td>9.999994e+07</td>\n",
       "      <td>9.999994e+07</td>\n",
       "      <td>9.999994e+07</td>\n",
       "      <td>NaN</td>\n",
       "      <td>NaN</td>\n",
       "    </tr>\n",
       "    <tr>\n",
       "      <th>count_valid</th>\n",
       "      <td>99999940.0</td>\n",
       "      <td>95639475.0</td>\n",
       "      <td>9.999994e+07</td>\n",
       "      <td>9.999994e+07</td>\n",
       "      <td>99999940.0</td>\n",
       "      <td>99981711.0</td>\n",
       "      <td>99996327.0</td>\n",
       "      <td>94418736.0</td>\n",
       "      <td>82374680.0</td>\n",
       "      <td>7092325.0</td>\n",
       "      <td>7092325.0</td>\n",
       "      <td>9.999994e+07</td>\n",
       "      <td>9.999994e+07</td>\n",
       "      <td>9.999994e+07</td>\n",
       "      <td>9.999994e+07</td>\n",
       "      <td>99999940.0</td>\n",
       "      <td>99999940.0</td>\n",
       "    </tr>\n",
       "    <tr>\n",
       "      <th>count_zero</th>\n",
       "      <td>NaN</td>\n",
       "      <td>NaN</td>\n",
       "      <td>5.914447e+07</td>\n",
       "      <td>5.760093e+07</td>\n",
       "      <td>NaN</td>\n",
       "      <td>NaN</td>\n",
       "      <td>NaN</td>\n",
       "      <td>NaN</td>\n",
       "      <td>NaN</td>\n",
       "      <td>NaN</td>\n",
       "      <td>NaN</td>\n",
       "      <td>7.877895e+07</td>\n",
       "      <td>7.877895e+07</td>\n",
       "      <td>8.045277e+07</td>\n",
       "      <td>9.943497e+07</td>\n",
       "      <td>NaN</td>\n",
       "      <td>NaN</td>\n",
       "    </tr>\n",
       "    <tr>\n",
       "      <th>max</th>\n",
       "      <td>NaN</td>\n",
       "      <td>NaN</td>\n",
       "      <td>2.581400e+04</td>\n",
       "      <td>1.351780e+05</td>\n",
       "      <td>NaN</td>\n",
       "      <td>NaN</td>\n",
       "      <td>NaN</td>\n",
       "      <td>NaN</td>\n",
       "      <td>NaN</td>\n",
       "      <td>NaN</td>\n",
       "      <td>NaN</td>\n",
       "      <td>1.000000e+00</td>\n",
       "      <td>1.345600e+04</td>\n",
       "      <td>7.242000e+03</td>\n",
       "      <td>1.335000e+03</td>\n",
       "      <td>NaN</td>\n",
       "      <td>NaN</td>\n",
       "    </tr>\n",
       "    <tr>\n",
       "      <th>mean</th>\n",
       "      <td>NaN</td>\n",
       "      <td>NaN</td>\n",
       "      <td>1.161114e+01</td>\n",
       "      <td>7.907228e+00</td>\n",
       "      <td>NaN</td>\n",
       "      <td>NaN</td>\n",
       "      <td>NaN</td>\n",
       "      <td>NaN</td>\n",
       "      <td>NaN</td>\n",
       "      <td>NaN</td>\n",
       "      <td>NaN</td>\n",
       "      <td>2.122100e-01</td>\n",
       "      <td>6.247038e+00</td>\n",
       "      <td>2.665279e+00</td>\n",
       "      <td>1.541086e-02</td>\n",
       "      <td>NaN</td>\n",
       "      <td>NaN</td>\n",
       "    </tr>\n",
       "    <tr>\n",
       "      <th>mean_non_zero</th>\n",
       "      <td>NaN</td>\n",
       "      <td>NaN</td>\n",
       "      <td>2.842001e+01</td>\n",
       "      <td>1.864955e+01</td>\n",
       "      <td>NaN</td>\n",
       "      <td>NaN</td>\n",
       "      <td>NaN</td>\n",
       "      <td>NaN</td>\n",
       "      <td>NaN</td>\n",
       "      <td>NaN</td>\n",
       "      <td>NaN</td>\n",
       "      <td>1.000000e+00</td>\n",
       "      <td>2.943799e+01</td>\n",
       "      <td>1.363510e+01</td>\n",
       "      <td>2.727714e+00</td>\n",
       "      <td>NaN</td>\n",
       "      <td>NaN</td>\n",
       "    </tr>\n",
       "    <tr>\n",
       "      <th>min</th>\n",
       "      <td>NaN</td>\n",
       "      <td>NaN</td>\n",
       "      <td>0.000000e+00</td>\n",
       "      <td>0.000000e+00</td>\n",
       "      <td>NaN</td>\n",
       "      <td>NaN</td>\n",
       "      <td>NaN</td>\n",
       "      <td>NaN</td>\n",
       "      <td>NaN</td>\n",
       "      <td>NaN</td>\n",
       "      <td>NaN</td>\n",
       "      <td>0.000000e+00</td>\n",
       "      <td>0.000000e+00</td>\n",
       "      <td>0.000000e+00</td>\n",
       "      <td>0.000000e+00</td>\n",
       "      <td>NaN</td>\n",
       "      <td>NaN</td>\n",
       "    </tr>\n",
       "    <tr>\n",
       "      <th>sum</th>\n",
       "      <td>NaN</td>\n",
       "      <td>NaN</td>\n",
       "      <td>1.161113e+09</td>\n",
       "      <td>7.907224e+08</td>\n",
       "      <td>NaN</td>\n",
       "      <td>NaN</td>\n",
       "      <td>NaN</td>\n",
       "      <td>NaN</td>\n",
       "      <td>NaN</td>\n",
       "      <td>NaN</td>\n",
       "      <td>NaN</td>\n",
       "      <td>2.122099e+07</td>\n",
       "      <td>6.247034e+08</td>\n",
       "      <td>2.665277e+08</td>\n",
       "      <td>1.541085e+06</td>\n",
       "      <td>NaN</td>\n",
       "      <td>NaN</td>\n",
       "    </tr>\n",
       "  </tbody>\n",
       "</table>\n",
       "</div>"
      ],
      "text/plain": [
       "                       doi       title  reference_count  referenced_by_count  \\\n",
       "stat                                                                           \n",
       "count           99999940.0  99999940.0     9.999994e+07         9.999994e+07   \n",
       "count_non_zero         NaN         NaN     4.085547e+07         4.239901e+07   \n",
       "count_numeric          NaN         NaN     9.999994e+07         9.999994e+07   \n",
       "count_valid     99999940.0  95639475.0     9.999994e+07         9.999994e+07   \n",
       "count_zero             NaN         NaN     5.914447e+07         5.760093e+07   \n",
       "max                    NaN         NaN     2.581400e+04         1.351780e+05   \n",
       "mean                   NaN         NaN     1.161114e+01         7.907228e+00   \n",
       "mean_non_zero          NaN         NaN     2.842001e+01         1.864955e+01   \n",
       "min                    NaN         NaN     0.000000e+00         0.000000e+00   \n",
       "sum                    NaN         NaN     1.161113e+09         7.907224e+08   \n",
       "\n",
       "                   created        type   publisher  container_title  \\\n",
       "stat                                                                  \n",
       "count           99999940.0  99999940.0  99999940.0       99999940.0   \n",
       "count_non_zero         NaN         NaN         NaN              NaN   \n",
       "count_numeric          NaN         NaN         NaN              NaN   \n",
       "count_valid     99999940.0  99981711.0  99996327.0       94418736.0   \n",
       "count_zero             NaN         NaN         NaN              NaN   \n",
       "max                    NaN         NaN         NaN              NaN   \n",
       "mean                   NaN         NaN         NaN              NaN   \n",
       "mean_non_zero          NaN         NaN         NaN              NaN   \n",
       "min                    NaN         NaN         NaN              NaN   \n",
       "sum                    NaN         NaN         NaN              NaN   \n",
       "\n",
       "                author_count  first_subject_area  subject_areas  \\\n",
       "stat                                                              \n",
       "count             99999940.0          99999940.0     99999940.0   \n",
       "count_non_zero           NaN                 NaN            NaN   \n",
       "count_numeric            NaN                 NaN            NaN   \n",
       "count_valid       82374680.0           7092325.0      7092325.0   \n",
       "count_zero               NaN                 NaN            NaN   \n",
       "max                      NaN                 NaN            NaN   \n",
       "mean                     NaN                 NaN            NaN   \n",
       "mean_non_zero            NaN                 NaN            NaN   \n",
       "min                      NaN                 NaN            NaN   \n",
       "sum                      NaN                 NaN            NaN   \n",
       "\n",
       "                has_references  num_references  num_citations_without_doi  \\\n",
       "stat                                                                        \n",
       "count             9.999994e+07    9.999994e+07               9.999994e+07   \n",
       "count_non_zero    2.122099e+07    2.122099e+07               1.954717e+07   \n",
       "count_numeric     9.999994e+07    9.999994e+07               9.999994e+07   \n",
       "count_valid       9.999994e+07    9.999994e+07               9.999994e+07   \n",
       "count_zero        7.877895e+07    7.877895e+07               8.045277e+07   \n",
       "max               1.000000e+00    1.345600e+04               7.242000e+03   \n",
       "mean              2.122100e-01    6.247038e+00               2.665279e+00   \n",
       "mean_non_zero     1.000000e+00    2.943799e+01               1.363510e+01   \n",
       "min               0.000000e+00    0.000000e+00               0.000000e+00   \n",
       "sum               2.122099e+07    6.247034e+08               2.665277e+08   \n",
       "\n",
       "                num_duplicate_citation_dois  cited_dois       debug  \n",
       "stat                                                                 \n",
       "count                          9.999994e+07  99999940.0  99999940.0  \n",
       "count_non_zero                 5.649730e+05         NaN         NaN  \n",
       "count_numeric                  9.999994e+07         NaN         NaN  \n",
       "count_valid                    9.999994e+07  99999940.0  99999940.0  \n",
       "count_zero                     9.943497e+07         NaN         NaN  \n",
       "max                            1.335000e+03         NaN         NaN  \n",
       "mean                           1.541086e-02         NaN         NaN  \n",
       "mean_non_zero                  2.727714e+00         NaN         NaN  \n",
       "min                            0.000000e+00         NaN         NaN  \n",
       "sum                            1.541085e+06         NaN         NaN  "
      ]
     },
     "execution_count": 5,
     "metadata": {},
     "output_type": "execute_result"
    }
   ],
   "source": [
    "df_summary = pd.read_csv(os.path.join(data_path, summary_stats_filename), sep='\\t')\n",
    "\n",
    "# drop non-numeric stat value 'type' and convert to numeric values\n",
    "df_summary = df_summary[\n",
    "    df_summary['stat'] != 'type'\n",
    "].apply(pd.to_numeric, errors='ignore')\n",
    "\n",
    "df_summary = df_summary.set_index('stat')\n",
    "df_summary"
   ]
  },
  {
   "cell_type": "code",
   "execution_count": 6,
   "metadata": {},
   "outputs": [
    {
     "name": "stdout",
     "output_type": "stream",
     "text": [
      "total work count: 99,999,940\n"
     ]
    }
   ],
   "source": [
    "print('total work count: {:,}'.format(int(df_summary['reference_count']['count'])))"
   ]
  },
  {
   "cell_type": "code",
   "execution_count": 7,
   "metadata": {},
   "outputs": [],
   "source": [
    "DEFAULT_NUMBER_FORMAT = '{:,.0f}'\n",
    "DEFAULT_PERCENTAGE_FORMAT = '{:,.2f}%'\n",
    "format_count = lambda c, number_format=DEFAULT_NUMBER_FORMAT: number_format.format(c)\n",
    "format_percentage = lambda c, number_format=DEFAULT_PERCENTAGE_FORMAT: number_format.format(c)\n",
    "\n",
    "def apply_columns(df, columns, f):\n",
    "    for c in columns:\n",
    "        df[c] = df[c].apply(f)\n",
    "    return df\n",
    "\n",
    "def format_columns(df):\n",
    "    for c in df.columns:\n",
    "        if str(c).startswith('p_'):\n",
    "            df[c] = df[c].apply(format_percentage)\n",
    "        else:\n",
    "            df[c] = df[c].apply(format_count)\n",
    "    return df\n",
    "\n",
    "def show_counts(counts, title='', number_format=DEFAULT_NUMBER_FORMAT, **kwargs):\n",
    "    if isinstance(counts, list):\n",
    "        df = pd.DataFrame(counts, columns=['what', 'count']).set_index('what')['count']\n",
    "    else:\n",
    "        df = counts\n",
    "    ax = df.plot(kind='bar', **kwargs)\n",
    "    for p in ax.patches:\n",
    "        ax.annotate(\n",
    "            format_count(p.get_height(), number_format=number_format),\n",
    "            xy=(p.get_x() + p.get_width() / 2, p.get_height()), xycoords=\"data\",\n",
    "            va=\"bottom\", ha=\"center\"\n",
    "        )\n",
    "    ax.yaxis.set_major_formatter(FuncFormatter(lambda y, _: format_count(y))) \n",
    "    ax.axes.get_xaxis().set_label_text(title)\n",
    "    ax.margins(y=0.2)"
   ]
  },
  {
   "cell_type": "code",
   "execution_count": 8,
   "metadata": {},
   "outputs": [
    {
     "data": {
      "text/markdown": [
       "### Work counts"
      ],
      "text/plain": [
       "<IPython.core.display.Markdown object>"
      ]
     },
     "metadata": {},
     "output_type": "display_data"
    },
    {
     "data": {
      "text/markdown": [
       "Out of the *40,855,474* works with references in Crossref, **51.94%** are open (*21,220,990*)."
      ],
      "text/plain": [
       "<IPython.core.display.Markdown object>"
      ]
     },
     "metadata": {},
     "output_type": "display_data"
    },
    {
     "data": {
      "image/png": "[encoded data removed]",
      "text/plain": [
       "<Figure size 432x288 with 1 Axes>"
      ]
     },
     "metadata": {},
     "output_type": "display_data"
    }
   ],
   "source": [
    "printmd('### Work counts')\n",
    "printmd('Out of the *{:,}* works with references in Crossref, **{:.2f}%** are open (*{:,}*).'.format(\n",
    "    int(df_summary['reference_count']['count_non_zero']),\n",
    "    100.0 * df_summary['has_references']['count_non_zero'] / df_summary['reference_count']['count_non_zero'],\n",
    "    int(df_summary['has_references']['count_non_zero'])\n",
    "))\n",
    "\n",
    "show_counts([\n",
    "    ['extracted', df_summary['has_references']['count']],\n",
    "    ['has ref count', df_summary['reference_count']['count_non_zero']],\n",
    "    ['oa references', df_summary['has_references']['count_non_zero']]\n",
    "], 'works')"
   ]
  },
  {
   "cell_type": "code",
   "execution_count": 9,
   "metadata": {},
   "outputs": [
    {
     "data": {
      "text/markdown": [
       "### Reference counts"
      ],
      "text/plain": [
       "<IPython.core.display.Markdown object>"
      ]
     },
     "metadata": {},
     "output_type": "display_data"
    },
    {
     "data": {
      "text/markdown": [
       "Out of the *1,161,112,901* references in Crossref, **53.80%** are open (*624,703,391*)."
      ],
      "text/plain": [
       "<IPython.core.display.Markdown object>"
      ]
     },
     "metadata": {},
     "output_type": "display_data"
    },
    {
     "data": {
      "image/png": "[encoded data removed]",
      "text/plain": [
       "<Figure size 432x288 with 1 Axes>"
      ]
     },
     "metadata": {},
     "output_type": "display_data"
    }
   ],
   "source": [
    "printmd('### Reference counts')\n",
    "printmd('Out of the *{:,}* references in Crossref, **{:.2f}%** are open (*{:,}*).'.format(\n",
    "    int(df_summary['reference_count']['sum']),\n",
    "    100.0 * df_summary['num_references']['sum'] / df_summary['reference_count']['sum'],\n",
    "    int(df_summary['num_references']['sum'])\n",
    "))\n",
    "\n",
    "show_counts([\n",
    "    ['as per Crossref', df_summary['reference_count']['sum']],\n",
    "    ['oa available', df_summary['num_references']['sum']],\n",
    "    ['with dois', df_summary['num_references']['sum'] - df_summary['num_citations_without_doi']['sum']],\n",
    "    ['missing dois', df_summary['num_citations_without_doi']['sum']],\n",
    "    ['duplicate dois', df_summary['num_duplicate_citation_dois']['sum']]\n",
    "], 'references')"
   ]
  },
  {
   "cell_type": "code",
   "execution_count": 10,
   "metadata": {},
   "outputs": [
    {
     "data": {
      "text/markdown": [
       "### Reference stats"
      ],
      "text/plain": [
       "<IPython.core.display.Markdown object>"
      ]
     },
     "metadata": {},
     "output_type": "display_data"
    },
    {
     "data": {
      "text/html": [
       "<div>\n",
       "<style scoped>\n",
       "    .dataframe tbody tr th:only-of-type {\n",
       "        vertical-align: middle;\n",
       "    }\n",
       "\n",
       "    .dataframe tbody tr th {\n",
       "        vertical-align: top;\n",
       "    }\n",
       "\n",
       "    .dataframe thead th {\n",
       "        text-align: right;\n",
       "    }\n",
       "</style>\n",
       "<table border=\"1\" class=\"dataframe\">\n",
       "  <thead>\n",
       "    <tr style=\"text-align: right;\">\n",
       "      <th></th>\n",
       "      <th>type</th>\n",
       "      <th>key</th>\n",
       "      <th>count</th>\n",
       "      <th>examples_without_source</th>\n",
       "    </tr>\n",
       "  </thead>\n",
       "  <tbody>\n",
       "    <tr>\n",
       "      <th>769572</th>\n",
       "      <td>total_first_subject_area</td>\n",
       "      <td>NaN</td>\n",
       "      <td>92907615</td>\n",
       "      <td>[0, 0, 0, 0, 0, 0, 0, 0, 0, 0]</td>\n",
       "    </tr>\n",
       "    <tr>\n",
       "      <th>821949</th>\n",
       "      <td>year</td>\n",
       "      <td>NaN</td>\n",
       "      <td>53832993</td>\n",
       "      <td>[{'journal-title': 'amend. XIII.', 'key': 'S19...</td>\n",
       "    </tr>\n",
       "    <tr>\n",
       "      <th>0</th>\n",
       "      <td>key_combination</td>\n",
       "      <td>author|first-page|journal-title|key|volume|year</td>\n",
       "      <td>50468860</td>\n",
       "      <td>[{'year': '1979', 'key': '10.1002/(SICI)1096-8...</td>\n",
       "    </tr>\n",
       "    <tr>\n",
       "      <th>1</th>\n",
       "      <td>key_combination</td>\n",
       "      <td>key|unstructured</td>\n",
       "      <td>46638779</td>\n",
       "      <td>[{'unstructured': 'Canterbury v Spence, 464 F....</td>\n",
       "    </tr>\n",
       "    <tr>\n",
       "      <th>2</th>\n",
       "      <td>key_combination</td>\n",
       "      <td>author|first-page|journal-title|key|unstructur...</td>\n",
       "      <td>35882730</td>\n",
       "      <td>[{'year': '1990', 'key': '10.1002/(SICI)1096-8...</td>\n",
       "    </tr>\n",
       "    <tr>\n",
       "      <th>3</th>\n",
       "      <td>key_combination</td>\n",
       "      <td>author|key|volume-title|year</td>\n",
       "      <td>29796622</td>\n",
       "      <td>[{'volume-title': 'The genetics of hand malfor...</td>\n",
       "    </tr>\n",
       "    <tr>\n",
       "      <th>4</th>\n",
       "      <td>key_combination</td>\n",
       "      <td>article-title|author|first-page|journal-title|...</td>\n",
       "      <td>25572460</td>\n",
       "      <td>[{'article-title': 'Microtubule retraction int...</td>\n",
       "    </tr>\n",
       "    <tr>\n",
       "      <th>83278</th>\n",
       "      <td>non_oa_ref_first_subject_area</td>\n",
       "      <td>NaN</td>\n",
       "      <td>18251052</td>\n",
       "      <td>[0, 0, 0, 0, 0, 0, 0, 0, 0, 0]</td>\n",
       "    </tr>\n",
       "    <tr>\n",
       "      <th>769892</th>\n",
       "      <td>total_publisher</td>\n",
       "      <td>Elsevier BV</td>\n",
       "      <td>15632375</td>\n",
       "      <td>[0, 0, 0, 0, 0, 0, 0, 0, 0, 0]</td>\n",
       "    </tr>\n",
       "    <tr>\n",
       "      <th>5</th>\n",
       "      <td>key_combination</td>\n",
       "      <td>author|key|unstructured|volume-title|year</td>\n",
       "      <td>10930475</td>\n",
       "      <td>[{'volume-title': 'Diagnostic and Statistical ...</td>\n",
       "    </tr>\n",
       "  </tbody>\n",
       "</table>\n",
       "</div>"
      ],
      "text/plain": [
       "                                 type  \\\n",
       "769572       total_first_subject_area   \n",
       "821949                           year   \n",
       "0                     key_combination   \n",
       "1                     key_combination   \n",
       "2                     key_combination   \n",
       "3                     key_combination   \n",
       "4                     key_combination   \n",
       "83278   non_oa_ref_first_subject_area   \n",
       "769892                total_publisher   \n",
       "5                     key_combination   \n",
       "\n",
       "                                                      key     count  \\\n",
       "769572                                                NaN  92907615   \n",
       "821949                                                NaN  53832993   \n",
       "0         author|first-page|journal-title|key|volume|year  50468860   \n",
       "1                                        key|unstructured  46638779   \n",
       "2       author|first-page|journal-title|key|unstructur...  35882730   \n",
       "3                            author|key|volume-title|year  29796622   \n",
       "4       article-title|author|first-page|journal-title|...  25572460   \n",
       "83278                                                 NaN  18251052   \n",
       "769892                                        Elsevier BV  15632375   \n",
       "5               author|key|unstructured|volume-title|year  10930475   \n",
       "\n",
       "                                  examples_without_source  \n",
       "769572                     [0, 0, 0, 0, 0, 0, 0, 0, 0, 0]  \n",
       "821949  [{'journal-title': 'amend. XIII.', 'key': 'S19...  \n",
       "0       [{'year': '1979', 'key': '10.1002/(SICI)1096-8...  \n",
       "1       [{'unstructured': 'Canterbury v Spence, 464 F....  \n",
       "2       [{'year': '1990', 'key': '10.1002/(SICI)1096-8...  \n",
       "3       [{'volume-title': 'The genetics of hand malfor...  \n",
       "4       [{'article-title': 'Microtubule retraction int...  \n",
       "83278                      [0, 0, 0, 0, 0, 0, 0, 0, 0, 0]  \n",
       "769892                     [0, 0, 0, 0, 0, 0, 0, 0, 0, 0]  \n",
       "5       [{'volume-title': 'Diagnostic and Statistical ...  "
      ]
     },
     "execution_count": 10,
     "metadata": {},
     "output_type": "execute_result"
    }
   ],
   "source": [
    "printmd('### Reference stats')\n",
    "df_reference_stat = pd.read_csv(os.path.join(data_path, reference_stats_filename), sep='\\t')\n",
    "df_reference_stat['examples'] = df_reference_stat['examples'].map(lambda x: json.loads(x))\n",
    "df_reference_stat['examples_without_source'] = df_reference_stat['examples'].map(lambda x: [y[1] for y in x])\n",
    "df_reference_stat = df_reference_stat.sort_values('count', ascending=False)\n",
    "df_reference_stat.drop('examples', axis=1).head(10)"
   ]
  },
  {
   "cell_type": "code",
   "execution_count": 11,
   "metadata": {},
   "outputs": [
    {
     "data": {
      "text/markdown": [
       "### Reference stats are aggregated by different 'types'"
      ],
      "text/plain": [
       "<IPython.core.display.Markdown object>"
      ]
     },
     "metadata": {},
     "output_type": "display_data"
    },
    {
     "name": "stdout",
     "output_type": "stream",
     "text": [
      "non_oa_ref_countainer_title\n",
      "total_countainer_title\n",
      "total_first_subject_area\n",
      "non_oa_ref_first_subject_area\n",
      "total_publisher\n",
      "non_oa_ref_created\n",
      "total_created\n",
      "key_combination\n",
      "year\n",
      "non_oa_ref_publisher\n"
     ]
    }
   ],
   "source": [
    "printmd('### Reference stats are aggregated by different \\'types\\'')\n",
    "print('\\n'.join(set(df_reference_stat['type'].values)))"
   ]
  },
  {
   "cell_type": "code",
   "execution_count": 12,
   "metadata": {},
   "outputs": [
    {
     "data": {
      "text/markdown": [
       "### Count of referenced work by key combinations (populated fields in reference)"
      ],
      "text/plain": [
       "<IPython.core.display.Markdown object>"
      ]
     },
     "metadata": {},
     "output_type": "display_data"
    },
    {
     "data": {
      "image/png": "[encoded data removed]",
      "text/plain": [
       "<Figure size 1440x288 with 1 Axes>"
      ]
     },
     "metadata": {},
     "output_type": "display_data"
    }
   ],
   "source": [
    "printmd('### Count of referenced work by key combinations (populated fields in reference)')\n",
    "\n",
    "df_reference_key_combination_stat = (\n",
    "    df_reference_stat[df_reference_stat['type'] == 'key_combination']\n",
    "    .drop('type', axis=1)\n",
    "    .set_index('key')\n",
    ")\n",
    "show_counts(df_reference_key_combination_stat['count'].head(10), figsize=(20, 4))"
   ]
  },
  {
   "cell_type": "code",
   "execution_count": 13,
   "metadata": {},
   "outputs": [
    {
     "data": {
      "text/markdown": [
       "### Count of referenced work by year, sorted descending by year"
      ],
      "text/plain": [
       "<IPython.core.display.Markdown object>"
      ]
     },
     "metadata": {},
     "output_type": "display_data"
    },
    {
     "data": {
      "image/png": "[encoded data removed]",
      "text/plain": [
       "<Figure size 1440x288 with 1 Axes>"
      ]
     },
     "metadata": {},
     "output_type": "display_data"
    }
   ],
   "source": [
    "printmd('### Count of referenced work by year, sorted descending by year')\n",
    "\n",
    "df_reference_year_stat = (\n",
    "    df_reference_stat[df_reference_stat['type'] == 'year']\n",
    "    .drop('type', axis=1)\n",
    "    .sort_values('key', ascending=False)\n",
    "    .set_index('key')\n",
    ")\n",
    "df_reference_year_stat = df_reference_year_stat[df_reference_year_stat['count'] > 1000]\n",
    "show_counts(df_reference_year_stat['count'].head(150), figsize=(20, 4))"
   ]
  },
  {
   "cell_type": "code",
   "execution_count": 14,
   "metadata": {},
   "outputs": [
    {
     "data": {
      "text/plain": [
       "{'key_combination',\n",
       " 'non_oa_ref_countainer_title',\n",
       " 'non_oa_ref_created',\n",
       " 'non_oa_ref_first_subject_area',\n",
       " 'non_oa_ref_publisher',\n",
       " 'total_countainer_title',\n",
       " 'total_created',\n",
       " 'total_first_subject_area',\n",
       " 'total_publisher',\n",
       " 'year'}"
      ]
     },
     "execution_count": 14,
     "metadata": {},
     "output_type": "execute_result"
    }
   ],
   "source": [
    "set(df_reference_stat['type'])"
   ]
  },
  {
   "cell_type": "code",
   "execution_count": 15,
   "metadata": {},
   "outputs": [
    {
     "data": {
      "text/markdown": [
       "### Count of non-oa work by publisher, sorted descending"
      ],
      "text/plain": [
       "<IPython.core.display.Markdown object>"
      ]
     },
     "metadata": {},
     "output_type": "display_data"
    },
    {
     "name": "stdout",
     "output_type": "stream",
     "text": [
      "key\n",
      "Elsevier BV                                                 0.662904\n",
      "IEEE                                                        0.867197\n",
      "Institute of Electrical and Electronics Engineers (IEEE)    0.674413\n",
      "Elsevier                                                    0.554229\n",
      "Ovid Technologies (Wolters Kluwer Health)                   0.339344\n",
      "IOP Publishing                                              0.758128\n",
      "American Chemical Society (ACS)                             0.316995\n",
      "The Optical Society                                         0.812172\n",
      "CRC Press                                                   0.495447\n",
      "Mary Ann Liebert Inc                                        0.829628\n",
      "Name: count, dtype: float64\n"
     ]
    },
    {
     "data": {
      "image/png": "[encoded data removed]",
      "text/plain": [
       "<Figure size 1440x288 with 1 Axes>"
      ]
     },
     "metadata": {},
     "output_type": "display_data"
    }
   ],
   "source": [
    "printmd('### Count of non-oa work by publisher, sorted descending')\n",
    "\n",
    "df_temp = (\n",
    "    df_reference_stat[df_reference_stat['type'] == 'non_oa_ref_publisher']\n",
    "    .drop('type', axis=1)\n",
    "    .set_index('key')\n",
    ")\n",
    "\n",
    "df_temp_total = (\n",
    "    df_reference_stat[df_reference_stat['type'] == 'total_publisher']\n",
    "    .drop('type', axis=1)\n",
    "    .set_index('key')\n",
    ")\n",
    "# print(df_temp_total.head())\n",
    "print((df_temp['count'].head(10) / df_temp_total['count']).dropna())\n",
    "show_counts(df_temp['count'].head(10), figsize=(20, 4))"
   ]
  },
  {
   "cell_type": "code",
   "execution_count": 16,
   "metadata": {},
   "outputs": [
    {
     "data": {
      "text/markdown": [
       "### Percentage of non-oa work by publisher (>10k works), sorted descending by percentage"
      ],
      "text/plain": [
       "<IPython.core.display.Markdown object>"
      ]
     },
     "metadata": {},
     "output_type": "display_data"
    },
    {
     "name": "stdout",
     "output_type": "stream",
     "text": [
      "key\n",
      "IEEE                                                        0.867197\n",
      "Mary Ann Liebert Inc                                        0.829628\n",
      "The Optical Society                                         0.812172\n",
      "IOP Publishing                                              0.758128\n",
      "Institute of Electrical and Electronics Engineers (IEEE)    0.674413\n",
      "Name: count, dtype: float64\n"
     ]
    },
    {
     "data": {
      "image/png": "[encoded data removed]",
      "text/plain": [
       "<Figure size 1440x288 with 1 Axes>"
      ]
     },
     "metadata": {},
     "output_type": "display_data"
    }
   ],
   "source": [
    "printmd('### Percentage of non-oa work by publisher (>10k works), sorted descending by percentage')\n",
    "\n",
    "df_temp = (\n",
    "    df_reference_stat[df_reference_stat['type'] == 'non_oa_ref_publisher']\n",
    "    .drop('type', axis=1)\n",
    "    .set_index('key')\n",
    ")\n",
    "df_temp2 = (\n",
    "    df_reference_stat[df_reference_stat['type'] == 'total_publisher']\n",
    "    .drop('type', axis=1)\n",
    "    .set_index('key')\n",
    ")\n",
    "df_temp = df_temp[df_temp['count'] > 100000]\n",
    "# df_temp = df_temp[df_temp2['count'] > 10000]\n",
    "# df_temp2 = df_temp2[df_temp2['count'] > 10000]\n",
    "df_temp3 = df_temp.copy()\n",
    "df_temp3['count'] = df_temp3['count'] / df_temp2['count']\n",
    "print(df_temp3['count'].sort_values(ascending=False).head())\n",
    "show_counts(df_temp3['count'].sort_values(ascending=False).head(10), number_format='{:,.5f}', figsize=(20, 4))"
   ]
  },
  {
   "cell_type": "code",
   "execution_count": 17,
   "metadata": {},
   "outputs": [
    {
     "data": {
      "text/markdown": [
       "### Non-oa works by container title"
      ],
      "text/plain": [
       "<IPython.core.display.Markdown object>"
      ]
     },
     "metadata": {},
     "output_type": "display_data"
    },
    {
     "data": {
      "image/png": "[encoded data removed]",
      "text/plain": [
       "<Figure size 1440x288 with 1 Axes>"
      ]
     },
     "metadata": {},
     "output_type": "display_data"
    }
   ],
   "source": [
    "printmd('### Non-oa works by container title')\n",
    "\n",
    "df_temp = (\n",
    "    df_reference_stat[df_reference_stat['type'] == 'non_oa_ref_countainer_title']\n",
    "    .drop('type', axis=1)\n",
    "    .set_index('key')\n",
    ")\n",
    "show_counts(df_temp['count'].head(10), figsize=(20, 4))"
   ]
  },
  {
   "cell_type": "code",
   "execution_count": 18,
   "metadata": {},
   "outputs": [
    {
     "data": {
      "text/markdown": [
       "### Non-oa works by first subject area"
      ],
      "text/plain": [
       "<IPython.core.display.Markdown object>"
      ]
     },
     "metadata": {},
     "output_type": "display_data"
    },
    {
     "data": {
      "image/png": "[encoded data removed]",
      "text/plain": [
       "<Figure size 1440x288 with 1 Axes>"
      ]
     },
     "metadata": {},
     "output_type": "display_data"
    }
   ],
   "source": [
    "printmd('### Non-oa works by first subject area')\n",
    "\n",
    "df_temp = (\n",
    "    df_reference_stat[df_reference_stat['type'] == 'non_oa_ref_first_subject_area']\n",
    "    .drop('type', axis=1)\n",
    "    .set_index('key')\n",
    ")\n",
    "show_counts(df_temp['count'].head(10), figsize=(20, 4))"
   ]
  },
  {
   "cell_type": "code",
   "execution_count": 19,
   "metadata": {},
   "outputs": [
    {
     "data": {
      "text/markdown": [
       "### Non-oa works by creation date (year)"
      ],
      "text/plain": [
       "<IPython.core.display.Markdown object>"
      ]
     },
     "metadata": {},
     "output_type": "display_data"
    },
    {
     "data": {
      "image/png": "[encoded data removed]",
      "text/plain": [
       "<Figure size 1440x288 with 1 Axes>"
      ]
     },
     "metadata": {},
     "output_type": "display_data"
    }
   ],
   "source": [
    "printmd('### Non-oa works by creation date (year)')\n",
    "\n",
    "df_temp = (\n",
    "    df_reference_stat[df_reference_stat['type'] == 'non_oa_ref_created']\n",
    "    .drop('type', axis=1)\n",
    "    .set_index('key')\n",
    ")\n",
    "show_counts(df_temp['count'].head(10), figsize=(20, 4))"
   ]
  },
  {
   "cell_type": "markdown",
   "metadata": {},
   "source": [
    "## More detailed analysis on the summaries by type and publisher"
   ]
  },
  {
   "cell_type": "code",
   "execution_count": 20,
   "metadata": {},
   "outputs": [
    {
     "data": {
      "text/html": [
       "<div>\n",
       "<style scoped>\n",
       "    .dataframe tbody tr th:only-of-type {\n",
       "        vertical-align: middle;\n",
       "    }\n",
       "\n",
       "    .dataframe tbody tr th {\n",
       "        vertical-align: top;\n",
       "    }\n",
       "\n",
       "    .dataframe thead th {\n",
       "        text-align: right;\n",
       "    }\n",
       "</style>\n",
       "<table border=\"1\" class=\"dataframe\">\n",
       "  <thead>\n",
       "    <tr style=\"text-align: right;\">\n",
       "      <th></th>\n",
       "      <th>type</th>\n",
       "      <th>publisher</th>\n",
       "      <th>stat</th>\n",
       "      <th>doi</th>\n",
       "      <th>title</th>\n",
       "      <th>reference_count_crossref</th>\n",
       "      <th>referenced_by_count</th>\n",
       "      <th>created</th>\n",
       "      <th>container_title</th>\n",
       "      <th>author_count</th>\n",
       "      <th>first_subject_area</th>\n",
       "      <th>subject_areas</th>\n",
       "      <th>has_references</th>\n",
       "      <th>reference_count_oa</th>\n",
       "      <th>num_citations_without_doi</th>\n",
       "      <th>num_duplicate_citation_dois</th>\n",
       "      <th>cited_dois</th>\n",
       "      <th>debug</th>\n",
       "    </tr>\n",
       "  </thead>\n",
       "  <tbody>\n",
       "    <tr>\n",
       "      <th>0</th>\n",
       "      <td></td>\n",
       "      <td></td>\n",
       "      <td>count</td>\n",
       "      <td>3.0</td>\n",
       "      <td>3.0</td>\n",
       "      <td>3.0</td>\n",
       "      <td>3.0</td>\n",
       "      <td>3.0</td>\n",
       "      <td>3.0</td>\n",
       "      <td>3.0</td>\n",
       "      <td>3.0</td>\n",
       "      <td>3.0</td>\n",
       "      <td>3.0</td>\n",
       "      <td>3.0</td>\n",
       "      <td>3.0</td>\n",
       "      <td>3.0</td>\n",
       "      <td>3.0</td>\n",
       "      <td>3.0</td>\n",
       "    </tr>\n",
       "    <tr>\n",
       "      <th>1</th>\n",
       "      <td></td>\n",
       "      <td></td>\n",
       "      <td>count_non_zero</td>\n",
       "      <td>NaN</td>\n",
       "      <td>NaN</td>\n",
       "      <td>0.0</td>\n",
       "      <td>1.0</td>\n",
       "      <td>NaN</td>\n",
       "      <td>NaN</td>\n",
       "      <td>NaN</td>\n",
       "      <td>NaN</td>\n",
       "      <td>NaN</td>\n",
       "      <td>0.0</td>\n",
       "      <td>0.0</td>\n",
       "      <td>0.0</td>\n",
       "      <td>0.0</td>\n",
       "      <td>NaN</td>\n",
       "      <td>NaN</td>\n",
       "    </tr>\n",
       "    <tr>\n",
       "      <th>2</th>\n",
       "      <td></td>\n",
       "      <td></td>\n",
       "      <td>count_numeric</td>\n",
       "      <td>NaN</td>\n",
       "      <td>NaN</td>\n",
       "      <td>3.0</td>\n",
       "      <td>3.0</td>\n",
       "      <td>NaN</td>\n",
       "      <td>NaN</td>\n",
       "      <td>NaN</td>\n",
       "      <td>NaN</td>\n",
       "      <td>NaN</td>\n",
       "      <td>3.0</td>\n",
       "      <td>3.0</td>\n",
       "      <td>3.0</td>\n",
       "      <td>3.0</td>\n",
       "      <td>NaN</td>\n",
       "      <td>NaN</td>\n",
       "    </tr>\n",
       "  </tbody>\n",
       "</table>\n",
       "</div>"
      ],
      "text/plain": [
       "  type publisher            stat  doi  title  reference_count_crossref  \\\n",
       "0                          count  3.0    3.0                       3.0   \n",
       "1                 count_non_zero  NaN    NaN                       0.0   \n",
       "2                  count_numeric  NaN    NaN                       3.0   \n",
       "\n",
       "   referenced_by_count  created  container_title  author_count  \\\n",
       "0                  3.0      3.0              3.0           3.0   \n",
       "1                  1.0      NaN              NaN           NaN   \n",
       "2                  3.0      NaN              NaN           NaN   \n",
       "\n",
       "   first_subject_area  subject_areas  has_references  reference_count_oa  \\\n",
       "0                 3.0            3.0             3.0                 3.0   \n",
       "1                 NaN            NaN             0.0                 0.0   \n",
       "2                 NaN            NaN             3.0                 3.0   \n",
       "\n",
       "   num_citations_without_doi  num_duplicate_citation_dois  cited_dois  debug  \n",
       "0                        3.0                          3.0         3.0    3.0  \n",
       "1                        0.0                          0.0         NaN    NaN  \n",
       "2                        3.0                          3.0         NaN    NaN  "
      ]
     },
     "execution_count": 20,
     "metadata": {},
     "output_type": "execute_result"
    }
   ],
   "source": [
    "df_summary_by_type_and_publisher = pd.read_csv(\n",
    "    os.path.join(data_path, summary_by_type_and_publisher_stats_filename), sep='\\t'\n",
    ").rename(columns={\n",
    "    'reference_count': 'reference_count_crossref',\n",
    "    'num_references': 'reference_count_oa'\n",
    "})\n",
    "\n",
    "# fill na type and publisher with blank (otherwise causes issues with groupby)\n",
    "df_summary_by_type_and_publisher[['type', 'publisher']] = (\n",
    "    df_summary_by_type_and_publisher[['type', 'publisher']].fillna('')\n",
    ")\n",
    "\n",
    "# drop non-numeric stat value 'type' and convert to numeric values\n",
    "df_summary_by_type_and_publisher = df_summary_by_type_and_publisher[\n",
    "    df_summary_by_type_and_publisher['stat'] != 'type'\n",
    "].apply(pd.to_numeric, errors='ignore')\n",
    "\n",
    "df_summary_by_type_and_publisher.head(3)"
   ]
  },
  {
   "cell_type": "code",
   "execution_count": 21,
   "metadata": {},
   "outputs": [
    {
     "data": {
      "text/markdown": [
       "### Work counts by type and publisher"
      ],
      "text/plain": [
       "<IPython.core.display.Markdown object>"
      ]
     },
     "metadata": {},
     "output_type": "display_data"
    },
    {
     "data": {
      "text/html": [
       "<div>\n",
       "<style scoped>\n",
       "    .dataframe tbody tr th:only-of-type {\n",
       "        vertical-align: middle;\n",
       "    }\n",
       "\n",
       "    .dataframe tbody tr th {\n",
       "        vertical-align: top;\n",
       "    }\n",
       "\n",
       "    .dataframe thead th {\n",
       "        text-align: right;\n",
       "    }\n",
       "</style>\n",
       "<table border=\"1\" class=\"dataframe\">\n",
       "  <thead>\n",
       "    <tr style=\"text-align: right;\">\n",
       "      <th></th>\n",
       "      <th></th>\n",
       "      <th>work_count</th>\n",
       "      <th>has_nonzero_reference_count_crossref</th>\n",
       "      <th>has_nonzero_reference_count_oa</th>\n",
       "      <th>p_oa</th>\n",
       "    </tr>\n",
       "    <tr>\n",
       "      <th>type</th>\n",
       "      <th>publisher</th>\n",
       "      <th></th>\n",
       "      <th></th>\n",
       "      <th></th>\n",
       "      <th></th>\n",
       "    </tr>\n",
       "  </thead>\n",
       "  <tbody>\n",
       "    <tr>\n",
       "      <th rowspan=\"4\" valign=\"top\">journal-article</th>\n",
       "      <th>Elsevier BV</th>\n",
       "      <td>15,629,611</td>\n",
       "      <td>10,362,767</td>\n",
       "      <td>0</td>\n",
       "      <td>0.00%</td>\n",
       "    </tr>\n",
       "    <tr>\n",
       "      <th>Wiley</th>\n",
       "      <td>7,591,769</td>\n",
       "      <td>5,245,182</td>\n",
       "      <td>5,245,182</td>\n",
       "      <td>100.00%</td>\n",
       "    </tr>\n",
       "    <tr>\n",
       "      <th>Springer Nature</th>\n",
       "      <td>6,819,427</td>\n",
       "      <td>4,469,607</td>\n",
       "      <td>4,469,557</td>\n",
       "      <td>100.00%</td>\n",
       "    </tr>\n",
       "    <tr>\n",
       "      <th>Informa UK Limited</th>\n",
       "      <td>4,028,444</td>\n",
       "      <td>2,582,370</td>\n",
       "      <td>2,565,392</td>\n",
       "      <td>99.34%</td>\n",
       "    </tr>\n",
       "    <tr>\n",
       "      <th>proceedings-article</th>\n",
       "      <th>IEEE</th>\n",
       "      <td>2,876,463</td>\n",
       "      <td>2,500,760</td>\n",
       "      <td>0</td>\n",
       "      <td>0.00%</td>\n",
       "    </tr>\n",
       "  </tbody>\n",
       "</table>\n",
       "</div>"
      ],
      "text/plain": [
       "                                        work_count  \\\n",
       "type                publisher                        \n",
       "journal-article     Elsevier BV         15,629,611   \n",
       "                    Wiley                7,591,769   \n",
       "                    Springer Nature      6,819,427   \n",
       "                    Informa UK Limited   4,028,444   \n",
       "proceedings-article IEEE                 2,876,463   \n",
       "\n",
       "                                       has_nonzero_reference_count_crossref  \\\n",
       "type                publisher                                                 \n",
       "journal-article     Elsevier BV                                  10,362,767   \n",
       "                    Wiley                                         5,245,182   \n",
       "                    Springer Nature                               4,469,607   \n",
       "                    Informa UK Limited                            2,582,370   \n",
       "proceedings-article IEEE                                          2,500,760   \n",
       "\n",
       "                                       has_nonzero_reference_count_oa     p_oa  \n",
       "type                publisher                                                   \n",
       "journal-article     Elsevier BV                                     0    0.00%  \n",
       "                    Wiley                                   5,245,182  100.00%  \n",
       "                    Springer Nature                         4,469,557  100.00%  \n",
       "                    Informa UK Limited                      2,565,392   99.34%  \n",
       "proceedings-article IEEE                                            0    0.00%  "
      ]
     },
     "execution_count": 21,
     "metadata": {},
     "output_type": "execute_result"
    }
   ],
   "source": [
    "printmd('### Work counts by type and publisher')\n",
    "\n",
    "df_summary_by_type_and_publisher_work_counts = df_summary_by_type_and_publisher[\n",
    "    df_summary_by_type_and_publisher['stat'] == 'count'\n",
    "].groupby(['type', 'publisher'])['doi'].sum().sort_values(ascending=False).to_frame('work_count')\n",
    "\n",
    "df_summary_by_type_and_publisher_non_zero_counts = df_summary_by_type_and_publisher[\n",
    "    df_summary_by_type_and_publisher['stat'] == 'count_non_zero'\n",
    "].groupby(['type', 'publisher'])[[\n",
    "    'reference_count_crossref', 'reference_count_oa'\n",
    "]].sum().rename(columns={\n",
    "    'reference_count_crossref': 'has_nonzero_reference_count_crossref',\n",
    "    'reference_count_oa': 'has_nonzero_reference_count_oa'\n",
    "})\n",
    "\n",
    "df_summary_by_type_and_publisher_work_counts = df_summary_by_type_and_publisher_work_counts.merge(\n",
    "    df_summary_by_type_and_publisher_non_zero_counts, how='outer', left_index=True, right_index=True\n",
    ").astype(int)\n",
    "\n",
    "# sanity check\n",
    "assert int(df_summary_by_type_and_publisher_work_counts.sum()[0]) == int(df_summary['has_references']['count'])\n",
    "\n",
    "df_summary_by_type_and_publisher_work_counts['p_oa'] = (\n",
    "    100.0 * df_summary_by_type_and_publisher_work_counts['has_nonzero_reference_count_oa'] /\n",
    "    df_summary_by_type_and_publisher_work_counts['has_nonzero_reference_count_crossref']\n",
    ")\n",
    "\n",
    "format_columns(df_summary_by_type_and_publisher_work_counts.sort_values(\n",
    "    'work_count', ascending=False\n",
    ").head())"
   ]
  },
  {
   "cell_type": "code",
   "execution_count": 22,
   "metadata": {},
   "outputs": [
    {
     "data": {
      "text/markdown": [
       "### Total work counts"
      ],
      "text/plain": [
       "<IPython.core.display.Markdown object>"
      ]
     },
     "metadata": {},
     "output_type": "display_data"
    },
    {
     "data": {
      "text/html": [
       "<div>\n",
       "<style scoped>\n",
       "    .dataframe tbody tr th:only-of-type {\n",
       "        vertical-align: middle;\n",
       "    }\n",
       "\n",
       "    .dataframe tbody tr th {\n",
       "        vertical-align: top;\n",
       "    }\n",
       "\n",
       "    .dataframe thead th {\n",
       "        text-align: right;\n",
       "    }\n",
       "</style>\n",
       "<table border=\"1\" class=\"dataframe\">\n",
       "  <thead>\n",
       "    <tr style=\"text-align: right;\">\n",
       "      <th></th>\n",
       "      <th>total</th>\n",
       "    </tr>\n",
       "  </thead>\n",
       "  <tbody>\n",
       "    <tr>\n",
       "      <th>work_count</th>\n",
       "      <td>99,999,940</td>\n",
       "    </tr>\n",
       "    <tr>\n",
       "      <th>has_nonzero_reference_count_crossref</th>\n",
       "      <td>40,855,474</td>\n",
       "    </tr>\n",
       "    <tr>\n",
       "      <th>has_nonzero_reference_count_oa</th>\n",
       "      <td>21,220,990</td>\n",
       "    </tr>\n",
       "    <tr>\n",
       "      <th>p_oa</th>\n",
       "      <td>81,207</td>\n",
       "    </tr>\n",
       "  </tbody>\n",
       "</table>\n",
       "</div>"
      ],
      "text/plain": [
       "                                           total\n",
       "work_count                            99,999,940\n",
       "has_nonzero_reference_count_crossref  40,855,474\n",
       "has_nonzero_reference_count_oa        21,220,990\n",
       "p_oa                                      81,207"
      ]
     },
     "execution_count": 22,
     "metadata": {},
     "output_type": "execute_result"
    }
   ],
   "source": [
    "printmd('### Total work counts')\n",
    "\n",
    "(\n",
    "    df_summary_by_type_and_publisher_work_counts.reset_index()\n",
    "    .drop(['type', 'publisher'], axis=1)\n",
    "    .sum(axis=0)\n",
    "    .to_frame('total')\n",
    "    .applymap(format_count)\n",
    ")"
   ]
  },
  {
   "cell_type": "code",
   "execution_count": 23,
   "metadata": {},
   "outputs": [
    {
     "data": {
      "text/markdown": [
       "### Work counts by type"
      ],
      "text/plain": [
       "<IPython.core.display.Markdown object>"
      ]
     },
     "metadata": {},
     "output_type": "display_data"
    },
    {
     "data": {
      "text/markdown": [
       "Out of the *35,527,822* works of type *journal-article* with references in Crossref, **55.40%** are open (*19,681,003*)."
      ],
      "text/plain": [
       "<IPython.core.display.Markdown object>"
      ]
     },
     "metadata": {},
     "output_type": "display_data"
    },
    {
     "data": {
      "text/markdown": [
       "Out of the *1,928,208* works of type *book-chapter* with references in Crossref, **52.94%** are open (*1,020,724*)."
      ],
      "text/plain": [
       "<IPython.core.display.Markdown object>"
      ]
     },
     "metadata": {},
     "output_type": "display_data"
    },
    {
     "data": {
      "text/markdown": [
       "Out of the *3,110,686* works of type *proceedings-article* with references in Crossref, **9.97%** are open (*310,234*)."
      ],
      "text/plain": [
       "<IPython.core.display.Markdown object>"
      ]
     },
     "metadata": {},
     "output_type": "display_data"
    },
    {
     "data": {
      "text/markdown": [
       "Out of the *10* works of type *component* with references in Crossref, **10.00%** are open (*1*)."
      ],
      "text/plain": [
       "<IPython.core.display.Markdown object>"
      ]
     },
     "metadata": {},
     "output_type": "display_data"
    },
    {
     "data": {
      "text/markdown": [
       "Out of the *69,632* works of type *dataset* with references in Crossref, **0.02%** are open (*12*)."
      ],
      "text/plain": [
       "<IPython.core.display.Markdown object>"
      ]
     },
     "metadata": {},
     "output_type": "display_data"
    },
    {
     "data": {
      "text/html": [
       "<div>\n",
       "<style scoped>\n",
       "    .dataframe tbody tr th:only-of-type {\n",
       "        vertical-align: middle;\n",
       "    }\n",
       "\n",
       "    .dataframe tbody tr th {\n",
       "        vertical-align: top;\n",
       "    }\n",
       "\n",
       "    .dataframe thead th {\n",
       "        text-align: right;\n",
       "    }\n",
       "</style>\n",
       "<table border=\"1\" class=\"dataframe\">\n",
       "  <thead>\n",
       "    <tr style=\"text-align: right;\">\n",
       "      <th></th>\n",
       "      <th>work_count</th>\n",
       "      <th>has_nonzero_reference_count_crossref</th>\n",
       "      <th>has_nonzero_reference_count_oa</th>\n",
       "      <th>p_oa</th>\n",
       "    </tr>\n",
       "    <tr>\n",
       "      <th>type</th>\n",
       "      <th></th>\n",
       "      <th></th>\n",
       "      <th></th>\n",
       "      <th></th>\n",
       "    </tr>\n",
       "  </thead>\n",
       "  <tbody>\n",
       "    <tr>\n",
       "      <th>journal-article</th>\n",
       "      <td>73,616,052</td>\n",
       "      <td>35,527,822</td>\n",
       "      <td>19,681,003</td>\n",
       "      <td>55.40%</td>\n",
       "    </tr>\n",
       "    <tr>\n",
       "      <th>book-chapter</th>\n",
       "      <td>11,639,137</td>\n",
       "      <td>1,928,208</td>\n",
       "      <td>1,020,724</td>\n",
       "      <td>52.94%</td>\n",
       "    </tr>\n",
       "    <tr>\n",
       "      <th>proceedings-article</th>\n",
       "      <td>5,389,574</td>\n",
       "      <td>3,110,686</td>\n",
       "      <td>310,234</td>\n",
       "      <td>9.97%</td>\n",
       "    </tr>\n",
       "    <tr>\n",
       "      <th>component</th>\n",
       "      <td>3,368,405</td>\n",
       "      <td>10</td>\n",
       "      <td>1</td>\n",
       "      <td>10.00%</td>\n",
       "    </tr>\n",
       "    <tr>\n",
       "      <th>dataset</th>\n",
       "      <td>1,691,619</td>\n",
       "      <td>69,632</td>\n",
       "      <td>12</td>\n",
       "      <td>0.02%</td>\n",
       "    </tr>\n",
       "  </tbody>\n",
       "</table>\n",
       "</div>"
      ],
      "text/plain": [
       "                     work_count has_nonzero_reference_count_crossref  \\\n",
       "type                                                                   \n",
       "journal-article      73,616,052                           35,527,822   \n",
       "book-chapter         11,639,137                            1,928,208   \n",
       "proceedings-article   5,389,574                            3,110,686   \n",
       "component             3,368,405                                   10   \n",
       "dataset               1,691,619                               69,632   \n",
       "\n",
       "                    has_nonzero_reference_count_oa    p_oa  \n",
       "type                                                        \n",
       "journal-article                         19,681,003  55.40%  \n",
       "book-chapter                             1,020,724  52.94%  \n",
       "proceedings-article                        310,234   9.97%  \n",
       "component                                        1  10.00%  \n",
       "dataset                                         12   0.02%  "
      ]
     },
     "execution_count": 23,
     "metadata": {},
     "output_type": "execute_result"
    }
   ],
   "source": [
    "printmd('### Work counts by type')\n",
    "\n",
    "df_temp = (\n",
    "    df_summary_by_type_and_publisher_work_counts.reset_index().groupby('type')\n",
    "    .sum().sort_values(by='work_count', ascending=False).head()\n",
    ")\n",
    "\n",
    "def show_oa_ref_work_percentages_by_type(df):\n",
    "    for work_type, has_nonzero_reference_count_crossref, has_nonzero_reference_count_oa in zip(\n",
    "        df.index,\n",
    "        df['has_nonzero_reference_count_crossref'],\n",
    "        df['has_nonzero_reference_count_oa']\n",
    "    ):\n",
    "        if not has_nonzero_reference_count_crossref:\n",
    "            continue\n",
    "        printmd('Out of the *{:,}* works of type *{:}* with references in Crossref, **{:.2f}%** are open (*{:,}*).'.format(\n",
    "            int(has_nonzero_reference_count_crossref),\n",
    "            work_type,\n",
    "            100.0 * has_nonzero_reference_count_oa / has_nonzero_reference_count_crossref,\n",
    "            int(has_nonzero_reference_count_oa)\n",
    "        ))\n",
    "\n",
    "df_temp['p_oa'] = (\n",
    "    100.0 * df_temp['has_nonzero_reference_count_oa'] / df_temp['has_nonzero_reference_count_crossref']\n",
    ")\n",
    "\n",
    "show_oa_ref_work_percentages_by_type(df_temp)\n",
    "\n",
    "format_columns(df_temp)"
   ]
  },
  {
   "cell_type": "code",
   "execution_count": 24,
   "metadata": {},
   "outputs": [
    {
     "data": {
      "text/markdown": [
       "### Journal vs non-journal-article type"
      ],
      "text/plain": [
       "<IPython.core.display.Markdown object>"
      ]
     },
     "metadata": {},
     "output_type": "display_data"
    },
    {
     "data": {
      "text/markdown": [
       "Out of the *35,527,822* works of type *journal-article* with references in Crossref, **55.40%** are open (*19,681,003*)."
      ],
      "text/plain": [
       "<IPython.core.display.Markdown object>"
      ]
     },
     "metadata": {},
     "output_type": "display_data"
    },
    {
     "data": {
      "text/markdown": [
       "Out of the *5,327,652* works of type *non-journal-article* with references in Crossref, **28.91%** are open (*1,539,987*)."
      ],
      "text/plain": [
       "<IPython.core.display.Markdown object>"
      ]
     },
     "metadata": {},
     "output_type": "display_data"
    },
    {
     "data": {
      "text/html": [
       "<div>\n",
       "<style scoped>\n",
       "    .dataframe tbody tr th:only-of-type {\n",
       "        vertical-align: middle;\n",
       "    }\n",
       "\n",
       "    .dataframe tbody tr th {\n",
       "        vertical-align: top;\n",
       "    }\n",
       "\n",
       "    .dataframe thead th {\n",
       "        text-align: right;\n",
       "    }\n",
       "</style>\n",
       "<table border=\"1\" class=\"dataframe\">\n",
       "  <thead>\n",
       "    <tr style=\"text-align: right;\">\n",
       "      <th></th>\n",
       "      <th>work_count</th>\n",
       "      <th>has_nonzero_reference_count_crossref</th>\n",
       "      <th>has_nonzero_reference_count_oa</th>\n",
       "      <th>p_oa</th>\n",
       "    </tr>\n",
       "    <tr>\n",
       "      <th>type</th>\n",
       "      <th></th>\n",
       "      <th></th>\n",
       "      <th></th>\n",
       "      <th></th>\n",
       "    </tr>\n",
       "  </thead>\n",
       "  <tbody>\n",
       "    <tr>\n",
       "      <th>journal-article</th>\n",
       "      <td>73,616,052</td>\n",
       "      <td>35,527,822</td>\n",
       "      <td>19,681,003</td>\n",
       "      <td>55.40%</td>\n",
       "    </tr>\n",
       "    <tr>\n",
       "      <th>non-journal-article</th>\n",
       "      <td>26,383,888</td>\n",
       "      <td>5,327,652</td>\n",
       "      <td>1,539,987</td>\n",
       "      <td>28.91%</td>\n",
       "    </tr>\n",
       "  </tbody>\n",
       "</table>\n",
       "</div>"
      ],
      "text/plain": [
       "                     work_count has_nonzero_reference_count_crossref  \\\n",
       "type                                                                   \n",
       "journal-article      73,616,052                           35,527,822   \n",
       "non-journal-article  26,383,888                            5,327,652   \n",
       "\n",
       "                    has_nonzero_reference_count_oa    p_oa  \n",
       "type                                                        \n",
       "journal-article                         19,681,003  55.40%  \n",
       "non-journal-article                      1,539,987  28.91%  "
      ]
     },
     "execution_count": 24,
     "metadata": {},
     "output_type": "execute_result"
    }
   ],
   "source": [
    "printmd('### Journal vs non-journal-article type')\n",
    "\n",
    "def type_to_journal_non_journal_article(df):\n",
    "    df = df.copy()\n",
    "    df['type'] = df['type'].map(lambda x: 'non-journal-article' if x != 'journal-article' else x)\n",
    "    return df\n",
    "\n",
    "df_temp = (\n",
    "    type_to_journal_non_journal_article(\n",
    "        df_summary_by_type_and_publisher_work_counts.reset_index()\n",
    "    )\n",
    "    .groupby('type')\n",
    "    .sum().sort_values(by='work_count', ascending=False).head()\n",
    ")\n",
    "\n",
    "df_temp['p_oa'] = 100.0 * df_temp['has_nonzero_reference_count_oa'] / df_temp['has_nonzero_reference_count_crossref']\n",
    "\n",
    "show_oa_ref_work_percentages_by_type(df_temp)\n",
    "\n",
    "format_columns(df_temp)"
   ]
  },
  {
   "cell_type": "code",
   "execution_count": 25,
   "metadata": {},
   "outputs": [
    {
     "data": {
      "text/markdown": [
       "### By publisher"
      ],
      "text/plain": [
       "<IPython.core.display.Markdown object>"
      ]
     },
     "metadata": {},
     "output_type": "display_data"
    },
    {
     "data": {
      "text/html": [
       "<div>\n",
       "<style scoped>\n",
       "    .dataframe tbody tr th:only-of-type {\n",
       "        vertical-align: middle;\n",
       "    }\n",
       "\n",
       "    .dataframe tbody tr th {\n",
       "        vertical-align: top;\n",
       "    }\n",
       "\n",
       "    .dataframe thead th {\n",
       "        text-align: right;\n",
       "    }\n",
       "</style>\n",
       "<table border=\"1\" class=\"dataframe\">\n",
       "  <thead>\n",
       "    <tr style=\"text-align: right;\">\n",
       "      <th></th>\n",
       "      <th></th>\n",
       "      <th>work_count</th>\n",
       "      <th>has_nonzero_reference_count_crossref</th>\n",
       "      <th>has_nonzero_reference_count_oa</th>\n",
       "      <th>p_oa</th>\n",
       "    </tr>\n",
       "    <tr>\n",
       "      <th>type</th>\n",
       "      <th>publisher</th>\n",
       "      <th></th>\n",
       "      <th></th>\n",
       "      <th></th>\n",
       "      <th></th>\n",
       "    </tr>\n",
       "  </thead>\n",
       "  <tbody>\n",
       "    <tr>\n",
       "      <th rowspan=\"4\" valign=\"top\">journal-article</th>\n",
       "      <th>Elsevier BV</th>\n",
       "      <td>15,629,611</td>\n",
       "      <td>10,362,767</td>\n",
       "      <td>0</td>\n",
       "      <td>0.00%</td>\n",
       "    </tr>\n",
       "    <tr>\n",
       "      <th>Wiley</th>\n",
       "      <td>7,591,769</td>\n",
       "      <td>5,245,182</td>\n",
       "      <td>5,245,182</td>\n",
       "      <td>100.00%</td>\n",
       "    </tr>\n",
       "    <tr>\n",
       "      <th>Springer Nature</th>\n",
       "      <td>6,819,427</td>\n",
       "      <td>4,469,607</td>\n",
       "      <td>4,469,557</td>\n",
       "      <td>100.00%</td>\n",
       "    </tr>\n",
       "    <tr>\n",
       "      <th>Informa UK Limited</th>\n",
       "      <td>4,028,444</td>\n",
       "      <td>2,582,370</td>\n",
       "      <td>2,565,392</td>\n",
       "      <td>99.34%</td>\n",
       "    </tr>\n",
       "    <tr>\n",
       "      <th rowspan=\"5\" valign=\"top\">non-journal-article</th>\n",
       "      <th>IEEE</th>\n",
       "      <td>2,886,210</td>\n",
       "      <td>2,502,913</td>\n",
       "      <td>0</td>\n",
       "      <td>0.00%</td>\n",
       "    </tr>\n",
       "    <tr>\n",
       "      <th>Wiley</th>\n",
       "      <td>336,751</td>\n",
       "      <td>130</td>\n",
       "      <td>130</td>\n",
       "      <td>100.00%</td>\n",
       "    </tr>\n",
       "    <tr>\n",
       "      <th>Springer Nature</th>\n",
       "      <td>20,388</td>\n",
       "      <td>0</td>\n",
       "      <td>0</td>\n",
       "      <td>nan%</td>\n",
       "    </tr>\n",
       "    <tr>\n",
       "      <th>Informa UK Limited</th>\n",
       "      <td>3,064</td>\n",
       "      <td>0</td>\n",
       "      <td>0</td>\n",
       "      <td>nan%</td>\n",
       "    </tr>\n",
       "    <tr>\n",
       "      <th>Elsevier BV</th>\n",
       "      <td>2,764</td>\n",
       "      <td>0</td>\n",
       "      <td>0</td>\n",
       "      <td>nan%</td>\n",
       "    </tr>\n",
       "  </tbody>\n",
       "</table>\n",
       "</div>"
      ],
      "text/plain": [
       "                                        work_count  \\\n",
       "type                publisher                        \n",
       "journal-article     Elsevier BV         15,629,611   \n",
       "                    Wiley                7,591,769   \n",
       "                    Springer Nature      6,819,427   \n",
       "                    Informa UK Limited   4,028,444   \n",
       "non-journal-article IEEE                 2,886,210   \n",
       "                    Wiley                  336,751   \n",
       "                    Springer Nature         20,388   \n",
       "                    Informa UK Limited       3,064   \n",
       "                    Elsevier BV              2,764   \n",
       "\n",
       "                                       has_nonzero_reference_count_crossref  \\\n",
       "type                publisher                                                 \n",
       "journal-article     Elsevier BV                                  10,362,767   \n",
       "                    Wiley                                         5,245,182   \n",
       "                    Springer Nature                               4,469,607   \n",
       "                    Informa UK Limited                            2,582,370   \n",
       "non-journal-article IEEE                                          2,502,913   \n",
       "                    Wiley                                               130   \n",
       "                    Springer Nature                                       0   \n",
       "                    Informa UK Limited                                    0   \n",
       "                    Elsevier BV                                           0   \n",
       "\n",
       "                                       has_nonzero_reference_count_oa     p_oa  \n",
       "type                publisher                                                   \n",
       "journal-article     Elsevier BV                                     0    0.00%  \n",
       "                    Wiley                                   5,245,182  100.00%  \n",
       "                    Springer Nature                         4,469,557  100.00%  \n",
       "                    Informa UK Limited                      2,565,392   99.34%  \n",
       "non-journal-article IEEE                                            0    0.00%  \n",
       "                    Wiley                                         130  100.00%  \n",
       "                    Springer Nature                                 0     nan%  \n",
       "                    Informa UK Limited                              0     nan%  \n",
       "                    Elsevier BV                                     0     nan%  "
      ]
     },
     "execution_count": 25,
     "metadata": {},
     "output_type": "execute_result"
    }
   ],
   "source": [
    "printmd('### By publisher')\n",
    "\n",
    "def select_top_publishers(df, count=5):\n",
    "    top_publishers = (\n",
    "        df.groupby('publisher').sum()\n",
    "        .sort_values(by='work_count', ascending=False)\n",
    "        .index.values\n",
    "    )\n",
    "    return df[df['publisher'].isin(top_publishers[:count])]\n",
    "\n",
    "df_temp = (\n",
    "    type_to_journal_non_journal_article(\n",
    "        select_top_publishers(df_summary_by_type_and_publisher_work_counts.reset_index())\n",
    "    )\n",
    "    .groupby(['type', 'publisher'])\n",
    "    .sum().sort_values(by='work_count', ascending=False)\n",
    ")\n",
    "\n",
    "df_temp['p_oa'] = (\n",
    "    100.0 * df_temp['has_nonzero_reference_count_oa'] / df_temp['has_nonzero_reference_count_crossref']\n",
    ")\n",
    "\n",
    "format_columns(df_temp)"
   ]
  },
  {
   "cell_type": "code",
   "execution_count": 26,
   "metadata": {},
   "outputs": [
    {
     "data": {
      "text/markdown": [
       "### By normalised publisher"
      ],
      "text/plain": [
       "<IPython.core.display.Markdown object>"
      ]
     },
     "metadata": {},
     "output_type": "display_data"
    },
    {
     "data": {
      "text/html": [
       "<div>\n",
       "<style scoped>\n",
       "    .dataframe tbody tr th:only-of-type {\n",
       "        vertical-align: middle;\n",
       "    }\n",
       "\n",
       "    .dataframe tbody tr th {\n",
       "        vertical-align: top;\n",
       "    }\n",
       "\n",
       "    .dataframe thead th {\n",
       "        text-align: right;\n",
       "    }\n",
       "</style>\n",
       "<table border=\"1\" class=\"dataframe\">\n",
       "  <thead>\n",
       "    <tr style=\"text-align: right;\">\n",
       "      <th></th>\n",
       "      <th></th>\n",
       "      <th>work_count</th>\n",
       "      <th>has_nonzero_reference_count_crossref</th>\n",
       "      <th>has_nonzero_reference_count_oa</th>\n",
       "      <th>p_oa</th>\n",
       "    </tr>\n",
       "    <tr>\n",
       "      <th>type</th>\n",
       "      <th>publisher</th>\n",
       "      <th></th>\n",
       "      <th></th>\n",
       "      <th></th>\n",
       "      <th></th>\n",
       "    </tr>\n",
       "  </thead>\n",
       "  <tbody>\n",
       "    <tr>\n",
       "      <th rowspan=\"4\" valign=\"top\">journal-article</th>\n",
       "      <th>Elsevier (all)</th>\n",
       "      <td>15,629,611</td>\n",
       "      <td>10,362,767</td>\n",
       "      <td>0</td>\n",
       "      <td>0.00%</td>\n",
       "    </tr>\n",
       "    <tr>\n",
       "      <th>Wiley</th>\n",
       "      <td>7,591,769</td>\n",
       "      <td>5,245,182</td>\n",
       "      <td>5,245,182</td>\n",
       "      <td>100.00%</td>\n",
       "    </tr>\n",
       "    <tr>\n",
       "      <th>Springer Nature</th>\n",
       "      <td>6,819,427</td>\n",
       "      <td>4,469,607</td>\n",
       "      <td>4,469,557</td>\n",
       "      <td>100.00%</td>\n",
       "    </tr>\n",
       "    <tr>\n",
       "      <th>Informa UK Limited</th>\n",
       "      <td>4,028,444</td>\n",
       "      <td>2,582,370</td>\n",
       "      <td>2,565,392</td>\n",
       "      <td>99.34%</td>\n",
       "    </tr>\n",
       "    <tr>\n",
       "      <th rowspan=\"5\" valign=\"top\">non-journal-article</th>\n",
       "      <th>IEEE</th>\n",
       "      <td>2,886,210</td>\n",
       "      <td>2,502,913</td>\n",
       "      <td>0</td>\n",
       "      <td>0.00%</td>\n",
       "    </tr>\n",
       "    <tr>\n",
       "      <th>Elsevier (all)</th>\n",
       "      <td>1,162,512</td>\n",
       "      <td>643,078</td>\n",
       "      <td>417</td>\n",
       "      <td>0.06%</td>\n",
       "    </tr>\n",
       "    <tr>\n",
       "      <th>Wiley</th>\n",
       "      <td>336,751</td>\n",
       "      <td>130</td>\n",
       "      <td>130</td>\n",
       "      <td>100.00%</td>\n",
       "    </tr>\n",
       "    <tr>\n",
       "      <th>Springer Nature</th>\n",
       "      <td>20,388</td>\n",
       "      <td>0</td>\n",
       "      <td>0</td>\n",
       "      <td>nan%</td>\n",
       "    </tr>\n",
       "    <tr>\n",
       "      <th>Informa UK Limited</th>\n",
       "      <td>3,064</td>\n",
       "      <td>0</td>\n",
       "      <td>0</td>\n",
       "      <td>nan%</td>\n",
       "    </tr>\n",
       "  </tbody>\n",
       "</table>\n",
       "</div>"
      ],
      "text/plain": [
       "                                        work_count  \\\n",
       "type                publisher                        \n",
       "journal-article     Elsevier (all)      15,629,611   \n",
       "                    Wiley                7,591,769   \n",
       "                    Springer Nature      6,819,427   \n",
       "                    Informa UK Limited   4,028,444   \n",
       "non-journal-article IEEE                 2,886,210   \n",
       "                    Elsevier (all)       1,162,512   \n",
       "                    Wiley                  336,751   \n",
       "                    Springer Nature         20,388   \n",
       "                    Informa UK Limited       3,064   \n",
       "\n",
       "                                       has_nonzero_reference_count_crossref  \\\n",
       "type                publisher                                                 \n",
       "journal-article     Elsevier (all)                               10,362,767   \n",
       "                    Wiley                                         5,245,182   \n",
       "                    Springer Nature                               4,469,607   \n",
       "                    Informa UK Limited                            2,582,370   \n",
       "non-journal-article IEEE                                          2,502,913   \n",
       "                    Elsevier (all)                                  643,078   \n",
       "                    Wiley                                               130   \n",
       "                    Springer Nature                                       0   \n",
       "                    Informa UK Limited                                    0   \n",
       "\n",
       "                                       has_nonzero_reference_count_oa     p_oa  \n",
       "type                publisher                                                   \n",
       "journal-article     Elsevier (all)                                  0    0.00%  \n",
       "                    Wiley                                   5,245,182  100.00%  \n",
       "                    Springer Nature                         4,469,557  100.00%  \n",
       "                    Informa UK Limited                      2,565,392   99.34%  \n",
       "non-journal-article IEEE                                            0    0.00%  \n",
       "                    Elsevier (all)                                417    0.06%  \n",
       "                    Wiley                                         130  100.00%  \n",
       "                    Springer Nature                                 0     nan%  \n",
       "                    Informa UK Limited                              0     nan%  "
      ]
     },
     "execution_count": 26,
     "metadata": {},
     "output_type": "execute_result"
    }
   ],
   "source": [
    "printmd('### By normalised publisher')\n",
    "\n",
    "def normalise_publisher(df):\n",
    "    elsevier_names = [\n",
    "        s for s in df['publisher'].unique()\n",
    "        if not pd.isnull(s) and 'elsevier' in s.lower()\n",
    "    ]\n",
    "    return df.replace({\n",
    "        'publisher': {s: 'Elsevier (all)' for s in elsevier_names}\n",
    "    })\n",
    "\n",
    "df_temp = (\n",
    "    select_top_publishers(normalise_publisher(type_to_journal_non_journal_article(\n",
    "        df_summary_by_type_and_publisher_work_counts.reset_index()\n",
    "    )))\n",
    "    .groupby(['type', 'publisher'])\n",
    "    .sum().sort_values(by='work_count', ascending=False)\n",
    ")\n",
    "\n",
    "df_temp['p_oa'] = (\n",
    "    100.0 * df_temp['has_nonzero_reference_count_oa'] / df_temp['has_nonzero_reference_count_crossref']\n",
    ")\n",
    "\n",
    "format_columns(df_temp)"
   ]
  },
  {
   "cell_type": "code",
   "execution_count": 27,
   "metadata": {},
   "outputs": [
    {
     "data": {
      "text/markdown": [
       "### Sanity check, the grouped summary should equal the ungrouped summary"
      ],
      "text/plain": [
       "<IPython.core.display.Markdown object>"
      ]
     },
     "metadata": {},
     "output_type": "display_data"
    },
    {
     "data": {
      "text/html": [
       "<div>\n",
       "<style scoped>\n",
       "    .dataframe tbody tr th:only-of-type {\n",
       "        vertical-align: middle;\n",
       "    }\n",
       "\n",
       "    .dataframe tbody tr th {\n",
       "        vertical-align: top;\n",
       "    }\n",
       "\n",
       "    .dataframe thead th {\n",
       "        text-align: right;\n",
       "    }\n",
       "</style>\n",
       "<table border=\"1\" class=\"dataframe\">\n",
       "  <thead>\n",
       "    <tr style=\"text-align: right;\">\n",
       "      <th></th>\n",
       "      <th>sum</th>\n",
       "    </tr>\n",
       "  </thead>\n",
       "  <tbody>\n",
       "    <tr>\n",
       "      <th>reference_count_crossref</th>\n",
       "      <td>1,161,112,901</td>\n",
       "    </tr>\n",
       "    <tr>\n",
       "      <th>reference_count_oa</th>\n",
       "      <td>624,703,391</td>\n",
       "    </tr>\n",
       "  </tbody>\n",
       "</table>\n",
       "</div>"
      ],
      "text/plain": [
       "                                    sum\n",
       "reference_count_crossref  1,161,112,901\n",
       "reference_count_oa          624,703,391"
      ]
     },
     "execution_count": 27,
     "metadata": {},
     "output_type": "execute_result"
    }
   ],
   "source": [
    "printmd('### Sanity check, the grouped summary should equal the ungrouped summary')\n",
    "\n",
    "df_summary_by_type_and_publisher_sums = df_summary_by_type_and_publisher[\n",
    "    df_summary_by_type_and_publisher['stat'] == 'sum'\n",
    "]\n",
    "total_reference_count_according_to_crossref = df_summary_by_type_and_publisher_sums['reference_count_crossref'].sum()\n",
    "assert total_reference_count_according_to_crossref == df_summary['reference_count']['sum']\n",
    "(\n",
    "    df_summary_by_type_and_publisher_sums[['reference_count_crossref', 'reference_count_oa']]\n",
    "    .sum()\n",
    "    .map(format_count)\n",
    "    .to_frame('sum')\n",
    ")"
   ]
  },
  {
   "cell_type": "code",
   "execution_count": 28,
   "metadata": {},
   "outputs": [
    {
     "data": {
      "text/markdown": [
       "### Total references by type"
      ],
      "text/plain": [
       "<IPython.core.display.Markdown object>"
      ]
     },
     "metadata": {},
     "output_type": "display_data"
    },
    {
     "data": {
      "text/html": [
       "<div>\n",
       "<style scoped>\n",
       "    .dataframe tbody tr th:only-of-type {\n",
       "        vertical-align: middle;\n",
       "    }\n",
       "\n",
       "    .dataframe tbody tr th {\n",
       "        vertical-align: top;\n",
       "    }\n",
       "\n",
       "    .dataframe thead th {\n",
       "        text-align: right;\n",
       "    }\n",
       "</style>\n",
       "<table border=\"1\" class=\"dataframe\">\n",
       "  <thead>\n",
       "    <tr style=\"text-align: right;\">\n",
       "      <th></th>\n",
       "      <th>reference_count_crossref</th>\n",
       "      <th>reference_count_oa</th>\n",
       "      <th>p_oa</th>\n",
       "    </tr>\n",
       "    <tr>\n",
       "      <th>type</th>\n",
       "      <th></th>\n",
       "      <th></th>\n",
       "      <th></th>\n",
       "    </tr>\n",
       "  </thead>\n",
       "  <tbody>\n",
       "    <tr>\n",
       "      <th>journal-article</th>\n",
       "      <td>1,026,914,518</td>\n",
       "      <td>574,483,040</td>\n",
       "      <td>55.94%</td>\n",
       "    </tr>\n",
       "    <tr>\n",
       "      <th>book-chapter</th>\n",
       "      <td>86,104,828</td>\n",
       "      <td>38,449,303</td>\n",
       "      <td>44.65%</td>\n",
       "    </tr>\n",
       "    <tr>\n",
       "      <th>proceedings-article</th>\n",
       "      <td>40,943,346</td>\n",
       "      <td>4,990,826</td>\n",
       "      <td>12.19%</td>\n",
       "    </tr>\n",
       "    <tr>\n",
       "      <th>reference-entry</th>\n",
       "      <td>6,205,946</td>\n",
       "      <td>6,205,946</td>\n",
       "      <td>100.00%</td>\n",
       "    </tr>\n",
       "    <tr>\n",
       "      <th>other</th>\n",
       "      <td>444,718</td>\n",
       "      <td>319,793</td>\n",
       "      <td>71.91%</td>\n",
       "    </tr>\n",
       "  </tbody>\n",
       "</table>\n",
       "</div>"
      ],
      "text/plain": [
       "                    reference_count_crossref reference_count_oa     p_oa\n",
       "type                                                                    \n",
       "journal-article                1,026,914,518        574,483,040   55.94%\n",
       "book-chapter                      86,104,828         38,449,303   44.65%\n",
       "proceedings-article               40,943,346          4,990,826   12.19%\n",
       "reference-entry                    6,205,946          6,205,946  100.00%\n",
       "other                                444,718            319,793   71.91%"
      ]
     },
     "execution_count": 28,
     "metadata": {},
     "output_type": "execute_result"
    }
   ],
   "source": [
    "printmd('### Total references by type')\n",
    "\n",
    "df_temp = (\n",
    "    df_summary_by_type_and_publisher_sums.groupby('type')\n",
    "    [['reference_count_crossref', 'reference_count_oa']]\n",
    "    .sum()\n",
    "    .sort_values('reference_count_crossref', ascending=False)\n",
    "    .head()\n",
    ")\n",
    "\n",
    "df_temp['p_oa'] = (\n",
    "    100.0 * df_temp['reference_count_oa'] / df_temp['reference_count_crossref']\n",
    ")\n",
    "\n",
    "format_columns(df_temp)"
   ]
  },
  {
   "cell_type": "code",
   "execution_count": 29,
   "metadata": {},
   "outputs": [
    {
     "data": {
      "text/markdown": [
       "### Publishers with the highest amount of references"
      ],
      "text/plain": [
       "<IPython.core.display.Markdown object>"
      ]
     },
     "metadata": {},
     "output_type": "display_data"
    },
    {
     "data": {
      "text/html": [
       "<div>\n",
       "<style scoped>\n",
       "    .dataframe tbody tr th:only-of-type {\n",
       "        vertical-align: middle;\n",
       "    }\n",
       "\n",
       "    .dataframe tbody tr th {\n",
       "        vertical-align: top;\n",
       "    }\n",
       "\n",
       "    .dataframe thead th {\n",
       "        text-align: right;\n",
       "    }\n",
       "</style>\n",
       "<table border=\"1\" class=\"dataframe\">\n",
       "  <thead>\n",
       "    <tr style=\"text-align: right;\">\n",
       "      <th></th>\n",
       "      <th>reference_count_crossref</th>\n",
       "      <th>reference_count_oa</th>\n",
       "      <th>p_oa</th>\n",
       "    </tr>\n",
       "    <tr>\n",
       "      <th>publisher</th>\n",
       "      <th></th>\n",
       "      <th></th>\n",
       "      <th></th>\n",
       "    </tr>\n",
       "  </thead>\n",
       "  <tbody>\n",
       "    <tr>\n",
       "      <th>Elsevier BV</th>\n",
       "      <td>315,219,566</td>\n",
       "      <td>0</td>\n",
       "      <td>0.00%</td>\n",
       "    </tr>\n",
       "    <tr>\n",
       "      <th>Wiley</th>\n",
       "      <td>140,886,634</td>\n",
       "      <td>140,886,634</td>\n",
       "      <td>100.00%</td>\n",
       "    </tr>\n",
       "    <tr>\n",
       "      <th>Springer Nature</th>\n",
       "      <td>129,564,191</td>\n",
       "      <td>129,561,997</td>\n",
       "      <td>100.00%</td>\n",
       "    </tr>\n",
       "    <tr>\n",
       "      <th>Informa UK Limited</th>\n",
       "      <td>73,266,645</td>\n",
       "      <td>72,889,626</td>\n",
       "      <td>99.49%</td>\n",
       "    </tr>\n",
       "    <tr>\n",
       "      <th>Elsevier</th>\n",
       "      <td>37,909,896</td>\n",
       "      <td>14,856</td>\n",
       "      <td>0.04%</td>\n",
       "    </tr>\n",
       "  </tbody>\n",
       "</table>\n",
       "</div>"
      ],
      "text/plain": [
       "                   reference_count_crossref reference_count_oa     p_oa\n",
       "publisher                                                              \n",
       "Elsevier BV                     315,219,566                  0    0.00%\n",
       "Wiley                           140,886,634        140,886,634  100.00%\n",
       "Springer Nature                 129,564,191        129,561,997  100.00%\n",
       "Informa UK Limited               73,266,645         72,889,626   99.49%\n",
       "Elsevier                         37,909,896             14,856    0.04%"
      ]
     },
     "execution_count": 29,
     "metadata": {},
     "output_type": "execute_result"
    }
   ],
   "source": [
    "printmd('### Publishers with the highest amount of references')\n",
    "\n",
    "df_temp = (\n",
    "    df_summary_by_type_and_publisher_sums.groupby('publisher')\n",
    "    .sum()[['reference_count_crossref', 'reference_count_oa']]\n",
    "    .sort_values(by='reference_count_crossref', ascending=False)\n",
    ").head()\n",
    "\n",
    "df_temp['p_oa'] = (\n",
    "    100.0 * df_temp['reference_count_oa'] / df_temp['reference_count_crossref']\n",
    ")\n",
    "\n",
    "format_columns(df_temp)"
   ]
  },
  {
   "cell_type": "code",
   "execution_count": 30,
   "metadata": {},
   "outputs": [
    {
     "data": {
      "text/markdown": [
       "### Elsevier uses mutliple names, treat them as one"
      ],
      "text/plain": [
       "<IPython.core.display.Markdown object>"
      ]
     },
     "metadata": {},
     "output_type": "display_data"
    },
    {
     "data": {
      "text/markdown": [
       "* Elsevier\n",
       "* Elsevier Inc.\n",
       "* Elsevier, Germany\n",
       "* Elsevier BV\n",
       "* \"Elsevier\",\n",
       "* Elsevier Masson\n",
       "* Elsevier Pub. Co.\n",
       "* Elsevier Pub. Co.,\n",
       "* Elsevier,\n",
       "* Publishing company \"Elsevier,\",\n",
       "* Elsevier IFAC\n",
       "* Elsevier, IFAC\n",
       "* IFAC, Elsevier"
      ],
      "text/plain": [
       "<IPython.core.display.Markdown object>"
      ]
     },
     "metadata": {},
     "output_type": "display_data"
    }
   ],
   "source": [
    "printmd('### Elsevier uses mutliple names, treat them as one')\n",
    "\n",
    "elsevier_names = [\n",
    "    s for s in df_summary_by_type_and_publisher_sums['publisher'].unique()\n",
    "    if not pd.isnull(s) and 'elsevier' in s.lower()\n",
    "]\n",
    "printmd('* %s' % '\\n* '.join(elsevier_names))\n",
    "df_summary_by_type_and_publisher_sums_merged_publisher = (\n",
    "    df_summary_by_type_and_publisher_sums.replace({\n",
    "        'publisher': {s: 'Elsevier (all)' for s in elsevier_names}\n",
    "    })\n",
    ")"
   ]
  },
  {
   "cell_type": "code",
   "execution_count": 31,
   "metadata": {},
   "outputs": [
    {
     "data": {
      "text/markdown": [
       "### Publishers with the highest amount of references - this time with merged publisher names"
      ],
      "text/plain": [
       "<IPython.core.display.Markdown object>"
      ]
     },
     "metadata": {},
     "output_type": "display_data"
    },
    {
     "data": {
      "text/html": [
       "<div>\n",
       "<style scoped>\n",
       "    .dataframe tbody tr th:only-of-type {\n",
       "        vertical-align: middle;\n",
       "    }\n",
       "\n",
       "    .dataframe tbody tr th {\n",
       "        vertical-align: top;\n",
       "    }\n",
       "\n",
       "    .dataframe thead th {\n",
       "        text-align: right;\n",
       "    }\n",
       "</style>\n",
       "<table border=\"1\" class=\"dataframe\">\n",
       "  <thead>\n",
       "    <tr style=\"text-align: right;\">\n",
       "      <th></th>\n",
       "      <th>reference_count_crossref</th>\n",
       "      <th>reference_count_oa</th>\n",
       "      <th>p_oa</th>\n",
       "    </tr>\n",
       "    <tr>\n",
       "      <th>publisher</th>\n",
       "      <th></th>\n",
       "      <th></th>\n",
       "      <th></th>\n",
       "    </tr>\n",
       "  </thead>\n",
       "  <tbody>\n",
       "    <tr>\n",
       "      <th>Elsevier (all)</th>\n",
       "      <td>353,129,462</td>\n",
       "      <td>14,856</td>\n",
       "      <td>0.00%</td>\n",
       "    </tr>\n",
       "    <tr>\n",
       "      <th>Wiley</th>\n",
       "      <td>140,886,634</td>\n",
       "      <td>140,886,634</td>\n",
       "      <td>100.00%</td>\n",
       "    </tr>\n",
       "    <tr>\n",
       "      <th>Springer Nature</th>\n",
       "      <td>129,564,191</td>\n",
       "      <td>129,561,997</td>\n",
       "      <td>100.00%</td>\n",
       "    </tr>\n",
       "    <tr>\n",
       "      <th>Informa UK Limited</th>\n",
       "      <td>73,266,645</td>\n",
       "      <td>72,889,626</td>\n",
       "      <td>99.49%</td>\n",
       "    </tr>\n",
       "    <tr>\n",
       "      <th>IEEE</th>\n",
       "      <td>32,298,308</td>\n",
       "      <td>0</td>\n",
       "      <td>0.00%</td>\n",
       "    </tr>\n",
       "  </tbody>\n",
       "</table>\n",
       "</div>"
      ],
      "text/plain": [
       "                   reference_count_crossref reference_count_oa     p_oa\n",
       "publisher                                                              \n",
       "Elsevier (all)                  353,129,462             14,856    0.00%\n",
       "Wiley                           140,886,634        140,886,634  100.00%\n",
       "Springer Nature                 129,564,191        129,561,997  100.00%\n",
       "Informa UK Limited               73,266,645         72,889,626   99.49%\n",
       "IEEE                             32,298,308                  0    0.00%"
      ]
     },
     "execution_count": 31,
     "metadata": {},
     "output_type": "execute_result"
    }
   ],
   "source": [
    "printmd('### Publishers with the highest amount of references - this time with merged publisher names')\n",
    "\n",
    "df_temp = (\n",
    "    df_summary_by_type_and_publisher_sums_merged_publisher.groupby('publisher')\n",
    "    .sum()[['reference_count_crossref', 'reference_count_oa']]\n",
    "    .sort_values(by='reference_count_crossref', ascending=False)\n",
    ").head()\n",
    "\n",
    "df_temp['p_oa'] = (\n",
    "    100.0 * df_temp['reference_count_oa'] / df_temp['reference_count_crossref']\n",
    ")\n",
    "\n",
    "format_columns(df_temp)"
   ]
  },
  {
   "cell_type": "code",
   "execution_count": 32,
   "metadata": {},
   "outputs": [
    {
     "data": {
      "text/markdown": [
       "### Publishers with the highest amount of references (by type) - this time with merged publisher names"
      ],
      "text/plain": [
       "<IPython.core.display.Markdown object>"
      ]
     },
     "metadata": {},
     "output_type": "display_data"
    },
    {
     "data": {
      "text/html": [
       "<div>\n",
       "<style scoped>\n",
       "    .dataframe tbody tr th:only-of-type {\n",
       "        vertical-align: middle;\n",
       "    }\n",
       "\n",
       "    .dataframe tbody tr th {\n",
       "        vertical-align: top;\n",
       "    }\n",
       "\n",
       "    .dataframe thead th {\n",
       "        text-align: right;\n",
       "    }\n",
       "</style>\n",
       "<table border=\"1\" class=\"dataframe\">\n",
       "  <thead>\n",
       "    <tr style=\"text-align: right;\">\n",
       "      <th></th>\n",
       "      <th></th>\n",
       "      <th>reference_count_crossref</th>\n",
       "      <th>reference_count_oa</th>\n",
       "      <th>p_oa</th>\n",
       "    </tr>\n",
       "    <tr>\n",
       "      <th>type</th>\n",
       "      <th>publisher</th>\n",
       "      <th></th>\n",
       "      <th></th>\n",
       "      <th></th>\n",
       "    </tr>\n",
       "  </thead>\n",
       "  <tbody>\n",
       "    <tr>\n",
       "      <th rowspan=\"4\" valign=\"top\">journal-article</th>\n",
       "      <th>Elsevier (all)</th>\n",
       "      <td>315,219,566</td>\n",
       "      <td>0</td>\n",
       "      <td>0.00%</td>\n",
       "    </tr>\n",
       "    <tr>\n",
       "      <th>Wiley</th>\n",
       "      <td>140,873,461</td>\n",
       "      <td>140,873,461</td>\n",
       "      <td>100.00%</td>\n",
       "    </tr>\n",
       "    <tr>\n",
       "      <th>Springer Nature</th>\n",
       "      <td>129,564,191</td>\n",
       "      <td>129,561,997</td>\n",
       "      <td>100.00%</td>\n",
       "    </tr>\n",
       "    <tr>\n",
       "      <th>Informa UK Limited</th>\n",
       "      <td>73,266,645</td>\n",
       "      <td>72,889,626</td>\n",
       "      <td>99.49%</td>\n",
       "    </tr>\n",
       "    <tr>\n",
       "      <th>book-chapter</th>\n",
       "      <th>Elsevier (all)</th>\n",
       "      <td>37,909,896</td>\n",
       "      <td>14,856</td>\n",
       "      <td>0.04%</td>\n",
       "    </tr>\n",
       "  </tbody>\n",
       "</table>\n",
       "</div>"
      ],
      "text/plain": [
       "                                   reference_count_crossref  \\\n",
       "type            publisher                                     \n",
       "journal-article Elsevier (all)                  315,219,566   \n",
       "                Wiley                           140,873,461   \n",
       "                Springer Nature                 129,564,191   \n",
       "                Informa UK Limited               73,266,645   \n",
       "book-chapter    Elsevier (all)                   37,909,896   \n",
       "\n",
       "                                   reference_count_oa     p_oa  \n",
       "type            publisher                                       \n",
       "journal-article Elsevier (all)                      0    0.00%  \n",
       "                Wiley                     140,873,461  100.00%  \n",
       "                Springer Nature           129,561,997  100.00%  \n",
       "                Informa UK Limited         72,889,626   99.49%  \n",
       "book-chapter    Elsevier (all)                 14,856    0.04%  "
      ]
     },
     "execution_count": 32,
     "metadata": {},
     "output_type": "execute_result"
    }
   ],
   "source": [
    "printmd('### Publishers with the highest amount of references (by type) - this time with merged publisher names')\n",
    "\n",
    "df_temp = (\n",
    "    df_summary_by_type_and_publisher_sums_merged_publisher.groupby(['type', 'publisher'])\n",
    "    .sum()[['reference_count_crossref', 'reference_count_oa']]\n",
    "    .sort_values(by='reference_count_crossref', ascending=False)\n",
    ").head()\n",
    "\n",
    "df_temp['p_oa'] = (\n",
    "    100.0 * df_temp['reference_count_oa'] / df_temp['reference_count_crossref']\n",
    ")\n",
    "\n",
    "format_columns(df_temp)"
   ]
  }
 ],
 "metadata": {
  "kernelspec": {
   "display_name": "Python 3",
   "language": "python",
   "name": "python3"
  },
  "language_info": {
   "codemirror_mode": {
    "name": "ipython",
    "version": 3
   },
   "file_extension": ".py",
   "mimetype": "text/x-python",
   "name": "python",
   "nbconvert_exporter": "python",
   "pygments_lexer": "ipython3",
   "version": "3.6.5"
  }
 },
 "nbformat": 4,
 "nbformat_minor": 2
}
