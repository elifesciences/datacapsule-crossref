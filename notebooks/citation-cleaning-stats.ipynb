{
 "cells": [
  {
   "cell_type": "markdown",
   "metadata": {},
   "source": [
    "# Crossref Citation Cleaning Stats\n",
    "\n",
    "## Data Provenance\n",
    "\n",
    "The data was retrieved in September 2017 via the [Crossref API](http://api.crossref.org/works) (the download was interrupted and resumed a few times). (The raw responses LZMA zipped take about 28 GB disk space)\n",
    "\n",
    "## Data Preprocessing\n",
    "\n",
    "The data was then preprocessed to get calculate some high level stats over the data which are then analysed in this notebook.\n",
    "\n",
    "The files are available here:\n",
    "* [crossref-works-citations-stat.tsv](https://storage.googleapis.com/elife-ml/citations/crossref-works-citations-stat.tsv) - Stats relating to reference data quality and cleaning\n",
    "\n",
    "## Scripts\n",
    "\n",
    "The scripts can be found in [this repository](https://github.com/elifesciences/datacapsule-crossref), see [README](https://github.com/elifesciences/datacapsule-crossref/blob/analysis/README.md). Using those scripts the data can be updated (but it will take some time to retrieve all of the Crossref data)."
   ]
  },
  {
   "cell_type": "code",
   "execution_count": 1,
   "metadata": {
    "collapsed": true
   },
   "outputs": [],
   "source": [
    "%matplotlib inline"
   ]
  },
  {
   "cell_type": "code",
   "execution_count": 2,
   "metadata": {
    "collapsed": true
   },
   "outputs": [],
   "source": [
    "import os\n",
    "import json\n",
    "import pandas as pd\n",
    "import matplotlib.pyplot as plt\n",
    "from matplotlib.ticker import FuncFormatter"
   ]
  },
  {
   "cell_type": "code",
   "execution_count": 3,
   "metadata": {
    "collapsed": true
   },
   "outputs": [],
   "source": [
    "plt.style.use('ggplot')"
   ]
  },
  {
   "cell_type": "code",
   "execution_count": 4,
   "metadata": {
    "collapsed": true
   },
   "outputs": [],
   "source": [
    "data_path = '../data'\n",
    "citations_stats_filename = 'crossref-works-citations-stat.tsv'"
   ]
  },
  {
   "cell_type": "code",
   "execution_count": 5,
   "metadata": {},
   "outputs": [
    {
     "name": "stdout",
     "output_type": "stream",
     "text": [
      "['357115084' '76562655' '280552429' '1' '0' '76562655']\n",
      "citing_doi                             float64\n",
      "cited_doi                              float64\n",
      "original_cited_doi                     float64\n",
      "cited_doi_valid                        float64\n",
      "cited_doi_corrected                      int64\n",
      "doi_corrected_equal_case_insensitve    float64\n",
      "dtype: object\n"
     ]
    },
    {
     "data": {
      "text/html": [
       "<div>\n",
       "<style scoped>\n",
       "    .dataframe tbody tr th:only-of-type {\n",
       "        vertical-align: middle;\n",
       "    }\n",
       "\n",
       "    .dataframe tbody tr th {\n",
       "        vertical-align: top;\n",
       "    }\n",
       "\n",
       "    .dataframe thead th {\n",
       "        text-align: right;\n",
       "    }\n",
       "</style>\n",
       "<table border=\"1\" class=\"dataframe\">\n",
       "  <thead>\n",
       "    <tr style=\"text-align: right;\">\n",
       "      <th></th>\n",
       "      <th>citing_doi</th>\n",
       "      <th>cited_doi</th>\n",
       "      <th>original_cited_doi</th>\n",
       "      <th>cited_doi_valid</th>\n",
       "      <th>cited_doi_corrected</th>\n",
       "      <th>doi_corrected_equal_case_insensitve</th>\n",
       "    </tr>\n",
       "    <tr>\n",
       "      <th>stat</th>\n",
       "      <th></th>\n",
       "      <th></th>\n",
       "      <th></th>\n",
       "      <th></th>\n",
       "      <th></th>\n",
       "      <th></th>\n",
       "    </tr>\n",
       "  </thead>\n",
       "  <tbody>\n",
       "    <tr>\n",
       "      <th>count</th>\n",
       "      <td>357115084.0</td>\n",
       "      <td>2.464016e+08</td>\n",
       "      <td>2.464016e+08</td>\n",
       "      <td>278504990.0</td>\n",
       "      <td>357115084</td>\n",
       "      <td>76562655.0</td>\n",
       "    </tr>\n",
       "    <tr>\n",
       "      <th>count_non_zero</th>\n",
       "      <td>NaN</td>\n",
       "      <td>6.830000e+02</td>\n",
       "      <td>6.830000e+02</td>\n",
       "      <td>278178058.0</td>\n",
       "      <td>76562655</td>\n",
       "      <td>76448579.0</td>\n",
       "    </tr>\n",
       "    <tr>\n",
       "      <th>count_zero</th>\n",
       "      <td>NaN</td>\n",
       "      <td>0.000000e+00</td>\n",
       "      <td>0.000000e+00</td>\n",
       "      <td>326932.0</td>\n",
       "      <td>280552429</td>\n",
       "      <td>114076.0</td>\n",
       "    </tr>\n",
       "    <tr>\n",
       "      <th>max</th>\n",
       "      <td>NaN</td>\n",
       "      <td>1.077630e+01</td>\n",
       "      <td>1.077630e+01</td>\n",
       "      <td>1.0</td>\n",
       "      <td>1</td>\n",
       "      <td>1.0</td>\n",
       "    </tr>\n",
       "    <tr>\n",
       "      <th>min</th>\n",
       "      <td>NaN</td>\n",
       "      <td>1.010017e+01</td>\n",
       "      <td>1.010017e+01</td>\n",
       "      <td>0.0</td>\n",
       "      <td>0</td>\n",
       "      <td>0.0</td>\n",
       "    </tr>\n",
       "    <tr>\n",
       "      <th>sum</th>\n",
       "      <td>NaN</td>\n",
       "      <td>6.928239e+03</td>\n",
       "      <td>6.928239e+03</td>\n",
       "      <td>278178058.0</td>\n",
       "      <td>76562655</td>\n",
       "      <td>76448579.0</td>\n",
       "    </tr>\n",
       "  </tbody>\n",
       "</table>\n",
       "</div>"
      ],
      "text/plain": [
       "                 citing_doi     cited_doi  original_cited_doi  \\\n",
       "stat                                                            \n",
       "count           357115084.0  2.464016e+08        2.464016e+08   \n",
       "count_non_zero          NaN  6.830000e+02        6.830000e+02   \n",
       "count_zero              NaN  0.000000e+00        0.000000e+00   \n",
       "max                     NaN  1.077630e+01        1.077630e+01   \n",
       "min                     NaN  1.010017e+01        1.010017e+01   \n",
       "sum                     NaN  6.928239e+03        6.928239e+03   \n",
       "\n",
       "                cited_doi_valid  cited_doi_corrected  \\\n",
       "stat                                                   \n",
       "count               278504990.0            357115084   \n",
       "count_non_zero      278178058.0             76562655   \n",
       "count_zero             326932.0            280552429   \n",
       "max                         1.0                    1   \n",
       "min                         0.0                    0   \n",
       "sum                 278178058.0             76562655   \n",
       "\n",
       "                doi_corrected_equal_case_insensitve  \n",
       "stat                                                 \n",
       "count                                    76562655.0  \n",
       "count_non_zero                           76448579.0  \n",
       "count_zero                                 114076.0  \n",
       "max                                             1.0  \n",
       "min                                             0.0  \n",
       "sum                                      76448579.0  "
      ]
     },
     "execution_count": 5,
     "metadata": {},
     "output_type": "execute_result"
    }
   ],
   "source": [
    "df_citations = pd.read_csv(os.path.join(data_path, citations_stats_filename), sep='\\t')\n",
    "df_citations = df_citations.rename(columns={'Unnamed: 0': 'stat'}).set_index('stat')\n",
    "boolean_str_to_int_map = {'True': '1', 'False': '0'}\n",
    "print(df_citations['cited_doi_corrected']\n",
    "    .map(lambda x: boolean_str_to_int_map.get(x, x)).values)\n",
    "df_citations['cited_doi_corrected'] = pd.to_numeric(\n",
    "    df_citations['cited_doi_corrected']\n",
    "    .map(lambda x: boolean_str_to_int_map.get(x, x))\n",
    ")\n",
    "print(df_citations.dtypes)\n",
    "df_citations"
   ]
  },
  {
   "cell_type": "code",
   "execution_count": 6,
   "metadata": {
    "collapsed": true
   },
   "outputs": [],
   "source": [
    "DEFAULT_NUMBER_FORMAT = '{:,.0f}'\n",
    "format_count = lambda c, number_format=DEFAULT_NUMBER_FORMAT: number_format.format(c)\n",
    "\n",
    "def show_counts(counts, title='', number_format=DEFAULT_NUMBER_FORMAT, **kwargs):\n",
    "    if isinstance(counts, list):\n",
    "        df = pd.DataFrame(counts, columns=['what', 'count']).set_index('what')\n",
    "    else:\n",
    "        df = counts\n",
    "    ax = df.plot(kind='bar', **kwargs)\n",
    "    for p in ax.patches:\n",
    "        ax.annotate(\n",
    "            format_count(p.get_height(), number_format=number_format),\n",
    "            xy=(p.get_x() + p.get_width() / 2, p.get_height()), xycoords=\"data\",\n",
    "            va=\"bottom\", ha=\"center\"\n",
    "        )\n",
    "    ax.yaxis.set_major_formatter(FuncFormatter(lambda y, _: format_count(y))) \n",
    "    ax.axes.get_xaxis().set_label_text(title)\n",
    "    ax.margins(y=0.2)"
   ]
  },
  {
   "cell_type": "code",
   "execution_count": 7,
   "metadata": {},
   "outputs": [
    {
     "name": "stdout",
     "output_type": "stream",
     "text": [
      "num_cited_doi_not_corrected: 280552429\n",
      "num_corrected_doi_same_case_insensitve: 76448579\n"
     ]
    },
    {
     "data": {
      "image/png": "[encoded data removed]",
      "text/plain": [
       "<matplotlib.figure.Figure at 0x7f53a4ce7518>"
      ]
     },
     "metadata": {},
     "output_type": "display_data"
    }
   ],
   "source": [
    "num_unique_oa_with_dois = df_citations['cited_doi_valid']['count']\n",
    "num_cited_doi_corrected = df_citations['cited_doi_corrected']['count_non_zero']\n",
    "num_cited_doi_not_corrected = df_citations['cited_doi_corrected']['count_zero']\n",
    "#num_doi_same_case_insensitve = df_citations['doi_same_case_insensitve']['count_non_zero']\n",
    "num_corrected_doi_same_case_insensitve = int(df_citations['doi_corrected_equal_case_insensitve']['count_non_zero'])\n",
    "print('num_cited_doi_not_corrected:', num_cited_doi_not_corrected)\n",
    "print('num_corrected_doi_same_case_insensitve:', num_corrected_doi_same_case_insensitve)\n",
    "show_counts([\n",
    "    ['unique oa with dois', num_unique_oa_with_dois],\n",
    "    ['valid after cleaning', df_citations['cited_doi_valid']['count_non_zero']],\n",
    "    ['invalid after cleaning', num_unique_oa_with_dois - df_citations['cited_doi_valid']['count_non_zero']],\n",
    "    ['dois corrected', df_citations['cited_doi_corrected']['count_non_zero']],\n",
    "    ['corrected excl. case', (\n",
    "        num_cited_doi_corrected - num_corrected_doi_same_case_insensitve\n",
    "    )]\n",
    "], 'reference cleaning')"
   ]
  }
 ],
 "metadata": {
  "kernelspec": {
   "display_name": "Python 3",
   "language": "python",
   "name": "python3"
  },
  "language_info": {
   "codemirror_mode": {
    "name": "ipython",
    "version": 3
   },
   "file_extension": ".py",
   "mimetype": "text/x-python",
   "name": "python",
   "nbconvert_exporter": "python",
   "pygments_lexer": "ipython3",
   "version": "3.5.2"
  }
 },
 "nbformat": 4,
 "nbformat_minor": 2
}
